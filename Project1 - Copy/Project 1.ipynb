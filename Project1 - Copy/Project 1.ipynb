{
 "cells": [
  {
   "cell_type": "markdown",
   "id": "133cc0a4-6394-4e20-988e-11c55bd00f69",
   "metadata": {},
   "source": [
    "# The Power of Dividend Reinvestment with APIs, CSV and Montecarlo Simulations\n",
    "\n",
    "Microsoft and Bitcoin will be used in this analysis. \n",
    "Gather historical data over 5 year period of time using one stock (MSFT) and one crypto currencies(BTC).\n",
    " \n",
    "We will provide 3 different scenarios: \n",
    "1. Dividend reinvested in MSFT over 10, 20 and 30 Year period.\n",
    "2. Dividend reinvested in Bitcoin over 10, 20 and 30 Year period.\n",
    "3. Dividend not reinvested. \n",
    "\n",
    "we will use the information from the Monte Carlo simulation to answer questions about the portfolio."
   ]
  },
  {
   "cell_type": "code",
   "execution_count": 133,
   "id": "2c3d9419-4b89-4bba-a2cb-8be895e63cb3",
   "metadata": {},
   "outputs": [],
   "source": [
    "# Import the required libraries and dependencies\n",
    "import os\n",
    "from pathlib import Path\n",
    "import requests\n",
    "import json\n",
    "import pandas as pd\n",
    "from dotenv import load_dotenv\n",
    "import alpaca_trade_api as tradeapi\n",
    "from MCForecastTools import MCSimulation\n",
    "\n",
    "%matplotlib inline"
   ]
  },
  {
   "cell_type": "code",
   "execution_count": 134,
   "id": "e500b0bf-fdb5-4746-be43-33d8313ea0b4",
   "metadata": {},
   "outputs": [
    {
     "data": {
      "text/plain": [
       "True"
      ]
     },
     "execution_count": 134,
     "metadata": {},
     "output_type": "execute_result"
    }
   ],
   "source": [
    "# Load the environment variables from the .env file\n",
    "# by calling the load_dotenv function\n",
    "load_dotenv()"
   ]
  },
  {
   "cell_type": "markdown",
   "id": "8252b62b-e472-48b8-86f7-861af07b26eb",
   "metadata": {},
   "source": [
    "## Evaluate the Stock Holdings by Using the Alpaca SDK\n",
    "\n",
    "In this section, we will determine the current value of the chosen stock holdings. We will make an API call to Alpaca via the Alpaca SDK to get the current closing prices of Microsoft (ticker: MSFT). For the prototype, assume that we hold 300 shares of MSFT, which represents the stock portfolio.\n",
    "\n",
    "1. Create an environment file (`.env`) to store the values of your Alpaca API key and Alpaca secret key.\n",
    "\n",
    "2. Set the variables for the Alpaca API and secret keys. Using the Alpaca SDK, create the Alpaca `tradeapi.REST` object. In this object, include the parameters for the Alpaca API key, the secret key, and the version number.\n",
    "\n",
    "3. Set the following parameters for the Alpaca API call:\n",
    "\n",
    "    - `tickers`: Use the tickers for Microsof.\n",
    "\n",
    "    - `timeframe`: Use a time frame of one day.\n",
    "\n",
    "    - `start_date` and `end_date`: Use the same date for these parameters, and format them with the date of the previous weekday. This is because you want the one closing price for the most-recent trading day.\n",
    "\n",
    "4. Get the current closing prices for `MSFT` by using the Alpaca `get_barset` function. Format the response as a Pandas DataFrame by including the `df` property at the end of the `get_barset` function.\n",
    "\n",
    "5. Navigating the Alpaca response DataFrame, select the `MSFT` closing prices, and store as variables.\n",
    "\n",
    "6. Calculate the value, in US dollars, of the current amount of shares of the stock portfolio, and print the results.\n"
   ]
  },
  {
   "cell_type": "markdown",
   "id": "20c2e6ab-d802-4387-9755-69fa7cc91d26",
   "metadata": {},
   "source": [
    "Review the total number of shares held in our starting portfolio (SPY)"
   ]
  },
  {
   "cell_type": "code",
   "execution_count": 135,
   "id": "3fe3e5a9-56a7-4fea-956f-3dd4f46ef3b2",
   "metadata": {},
   "outputs": [],
   "source": [
    "# Current amount of shares held in the stock (MSFT) portfolio.\n",
    "msft_shares = 300 "
   ]
  },
  {
   "cell_type": "markdown",
   "id": "7ca1763d-46ba-44f3-9a6c-47e5a2ff50a4",
   "metadata": {},
   "source": [
    "#### 1: Create an environment file (`.env`) to store the values of your Alpaca API key and Alpaca secret key."
   ]
  },
  {
   "cell_type": "markdown",
   "id": "5860734d-ce42-4443-96d4-8fe92505bbac",
   "metadata": {},
   "source": [
    "#### 2. Set the variables for the Alpaca API and secret keys. Using the Alpaca SDK, create the Alpaca `tradeapi.REST` object. In this object, include the parameters for the Alpaca API key, the secret key, and the version number."
   ]
  },
  {
   "cell_type": "code",
   "execution_count": 136,
   "id": "05aca16f-3315-43fe-9fe6-98cbba783627",
   "metadata": {},
   "outputs": [],
   "source": [
    "# Set Alpaca API key and secret\n",
    "alpaca_api_key = os.getenv(\"ALPACA_API_KEY\")\n",
    "alpaca_secret_key = os.getenv(\"ALPACA_SECRET_KEY\")"
   ]
  },
  {
   "cell_type": "code",
   "execution_count": 137,
   "id": "f9437b78-68f9-49a6-a5b2-683540811a1d",
   "metadata": {},
   "outputs": [
    {
     "name": "stdout",
     "output_type": "stream",
     "text": [
      "PKVWZVKND7N686DRGZF9\n",
      "VHqPJdtdqBt1c1dTmnePBLSukCdASpVIuw3BwgpM\n"
     ]
    }
   ],
   "source": [
    "print(alpaca_api_key)\n",
    "print(alpaca_secret_key)"
   ]
  },
  {
   "cell_type": "code",
   "execution_count": 138,
   "id": "53adba14-82c7-4bf0-ba9f-186cd05c4d33",
   "metadata": {},
   "outputs": [],
   "source": [
    "# Create the Alpaca API object\n",
    "alpaca = tradeapi.REST(\n",
    "    alpaca_api_key,\n",
    "    alpaca_secret_key,\n",
    "    api_version=\"v2\")"
   ]
  },
  {
   "cell_type": "markdown",
   "id": "3a951eb4-4431-487d-9a3a-6c95340a93f7",
   "metadata": {},
   "source": [
    "#### 3: Set the following parameters for the Alpaca API call:\n",
    "\n",
    "- `tickers`: Use the tickers for the member’s stock and bond holdings.\n",
    "\n",
    "- `timeframe`: Use a time frame of one day.\n",
    "\n",
    "- `start_date` and `end_date`: Use the same date for these parameters, and format them with the date of the previous weekday. This is because you want the one closing price for the most-recent trading day."
   ]
  },
  {
   "cell_type": "code",
   "execution_count": 139,
   "id": "5434b43c-d845-4f4a-8b74-05fd758ab331",
   "metadata": {},
   "outputs": [],
   "source": [
    "# Set the tickers\n",
    "tickers = [\"MSFT\"]"
   ]
  },
  {
   "cell_type": "code",
   "execution_count": 140,
   "id": "cabcf2b3-8bb4-464c-9166-e557505d6900",
   "metadata": {},
   "outputs": [],
   "source": [
    "# Set timeframe to one day ('1D') for the Alpaca API\n",
    "timeframe = \"1D\""
   ]
  },
  {
   "cell_type": "code",
   "execution_count": 141,
   "id": "ca16dd56-93c4-490e-9860-a964f53200c2",
   "metadata": {},
   "outputs": [
    {
     "data": {
      "text/plain": [
       "'2021-11-02T19:38:27.771204-04:00'"
      ]
     },
     "execution_count": 141,
     "metadata": {},
     "output_type": "execute_result"
    }
   ],
   "source": [
    "# Format current date as ISO format\n",
    "# start_date = pd.Timestamp(\"2021-10-29\", tz=\"America/New_York\").isoformat()\n",
    "# end_date = pd.Timestamp(\"2021-10-29\", tz=\"America/New_York\").isoformat()\n",
    "\n",
    "start_date = pd.Timestamp(\"today\", tz=\"America/New_York\").isoformat()\n",
    "end_date = pd.Timestamp(\"today\", tz=\"America/New_York\").isoformat()\n",
    "start_date"
   ]
  },
  {
   "cell_type": "code",
   "execution_count": 142,
   "id": "74f9f6a7-fd01-42c0-b156-51a799cd8b73",
   "metadata": {},
   "outputs": [],
   "source": [
    "#Set a limit rows\n",
    "limit_rows = 1"
   ]
  },
  {
   "cell_type": "markdown",
   "id": "597c8460-5b5d-44da-b2c5-1d795aecbd5d",
   "metadata": {},
   "source": [
    "#### 4: Get the current closing prices for `MSFT` by using the Alpaca `get_barset` function. Format the response as a Pandas DataFrame by including the `df` property at the end of the `get_barset` function."
   ]
  },
  {
   "cell_type": "code",
   "execution_count": 143,
   "id": "72a38466-a641-44aa-b3fd-210301e3e100",
   "metadata": {},
   "outputs": [
    {
     "data": {
      "text/html": [
       "<div>\n",
       "<style scoped>\n",
       "    .dataframe tbody tr th:only-of-type {\n",
       "        vertical-align: middle;\n",
       "    }\n",
       "\n",
       "    .dataframe tbody tr th {\n",
       "        vertical-align: top;\n",
       "    }\n",
       "\n",
       "    .dataframe thead tr th {\n",
       "        text-align: left;\n",
       "    }\n",
       "\n",
       "    .dataframe thead tr:last-of-type th {\n",
       "        text-align: right;\n",
       "    }\n",
       "</style>\n",
       "<table border=\"1\" class=\"dataframe\">\n",
       "  <thead>\n",
       "    <tr>\n",
       "      <th></th>\n",
       "      <th colspan=\"5\" halign=\"left\">MSFT</th>\n",
       "    </tr>\n",
       "    <tr>\n",
       "      <th></th>\n",
       "      <th>open</th>\n",
       "      <th>high</th>\n",
       "      <th>low</th>\n",
       "      <th>close</th>\n",
       "      <th>volume</th>\n",
       "    </tr>\n",
       "    <tr>\n",
       "      <th>time</th>\n",
       "      <th></th>\n",
       "      <th></th>\n",
       "      <th></th>\n",
       "      <th></th>\n",
       "      <th></th>\n",
       "    </tr>\n",
       "  </thead>\n",
       "  <tbody>\n",
       "    <tr>\n",
       "      <th>2021-11-02 00:00:00-04:00</th>\n",
       "      <td>330.21</td>\n",
       "      <td>333.45</td>\n",
       "      <td>330</td>\n",
       "      <td>333.26</td>\n",
       "      <td>21366225</td>\n",
       "    </tr>\n",
       "  </tbody>\n",
       "</table>\n",
       "</div>"
      ],
      "text/plain": [
       "                             MSFT                               \n",
       "                             open    high  low   close    volume\n",
       "time                                                            \n",
       "2021-11-02 00:00:00-04:00  330.21  333.45  330  333.26  21366225"
      ]
     },
     "execution_count": 143,
     "metadata": {},
     "output_type": "execute_result"
    }
   ],
   "source": [
    "# Use the Alpaca get_barset function to get current closing prices the portfolio\n",
    "current_msft_price_df = alpaca.get_barset(\n",
    "    tickers,\n",
    "    timeframe,\n",
    "    start = start_date,\n",
    "    end = end_date,\n",
    "    limit = limit_rows\n",
    ").df\n",
    "\n",
    "# Review the first 5 rows of the Alpaca DataFrame\n",
    "current_msft_price_df.head()"
   ]
  },
  {
   "cell_type": "markdown",
   "id": "29e76750-af5a-4537-b599-ae58af73da5f",
   "metadata": {},
   "source": [
    "#### 5: Navigating the Alpaca response DataFrame, select the `MSFT` closing prices, and store them as variables."
   ]
  },
  {
   "cell_type": "code",
   "execution_count": 144,
   "id": "bcdcc5c6-d1e8-4a9c-be71-e55ec436dcbc",
   "metadata": {},
   "outputs": [
    {
     "name": "stdout",
     "output_type": "stream",
     "text": [
      "333.26\n"
     ]
    }
   ],
   "source": [
    "# Access the closing price for MSFT from the Alpaca DataFrame\n",
    "# Converting the value to a floating point number\n",
    "msft_close_price = float(current_msft_price_df[\"MSFT\"][\"close\"])\n",
    "\n",
    "# Print the MSFT closing price\n",
    "print(msft_close_price)"
   ]
  },
  {
   "cell_type": "markdown",
   "id": "b78d7ce6-fc48-4058-820a-e6cbbc1ad2d8",
   "metadata": {},
   "source": [
    "#### 6: Calculate the value, in US dollars, of the current amount of shares of the stock portfolio, and print the results."
   ]
  },
  {
   "cell_type": "code",
   "execution_count": 145,
   "id": "1a99d9da-abab-45d7-b194-1a404bbc1459",
   "metadata": {},
   "outputs": [
    {
     "name": "stdout",
     "output_type": "stream",
     "text": [
      "The portofolio has a value of: 99978.0\n"
     ]
    }
   ],
   "source": [
    "# Calculate the current value of the portfolio\n",
    "msft_value = round(msft_shares * msft_close_price, 3)\n",
    "\n",
    "# Print the current value of the bond portfolio\n",
    "print(f\"The portofolio has a value of: {msft_value}\")\n"
   ]
  },
  {
   "cell_type": "markdown",
   "id": "458f402d-6887-4f69-924b-7851c45e862e",
   "metadata": {},
   "source": [
    "## Use the `read_csv` function and the `Path` module to read the `msft_dividends.csv` file into a Pandas DataFrame.  Review the first five rows of the DataFrame by using the `head` function."
   ]
  },
  {
   "cell_type": "code",
   "execution_count": 146,
   "id": "cb16aa5b-3bff-4d89-ac59-70fa28ac9fb9",
   "metadata": {},
   "outputs": [
    {
     "data": {
      "text/html": [
       "<div>\n",
       "<style scoped>\n",
       "    .dataframe tbody tr th:only-of-type {\n",
       "        vertical-align: middle;\n",
       "    }\n",
       "\n",
       "    .dataframe tbody tr th {\n",
       "        vertical-align: top;\n",
       "    }\n",
       "\n",
       "    .dataframe thead th {\n",
       "        text-align: right;\n",
       "    }\n",
       "</style>\n",
       "<table border=\"1\" class=\"dataframe\">\n",
       "  <thead>\n",
       "    <tr style=\"text-align: right;\">\n",
       "      <th></th>\n",
       "      <th>Announced</th>\n",
       "      <th>Period</th>\n",
       "      <th>Amount</th>\n",
       "      <th>Yield</th>\n",
       "      <th>Ex-Dividend</th>\n",
       "      <th>Record Date</th>\n",
       "      <th>Payable Date</th>\n",
       "    </tr>\n",
       "  </thead>\n",
       "  <tbody>\n",
       "    <tr>\n",
       "      <th>0</th>\n",
       "      <td>9/14/2021</td>\n",
       "      <td>quarterly</td>\n",
       "      <td>$0.62</td>\n",
       "      <td>0.83%</td>\n",
       "      <td>11/17/2021</td>\n",
       "      <td>11/18/2021</td>\n",
       "      <td>12/9/2021</td>\n",
       "    </tr>\n",
       "    <tr>\n",
       "      <th>1</th>\n",
       "      <td>6/16/2021</td>\n",
       "      <td>quarterly</td>\n",
       "      <td>$0.56</td>\n",
       "      <td>0.87%</td>\n",
       "      <td>8/18/2021</td>\n",
       "      <td>8/19/2021</td>\n",
       "      <td>9/9/2021</td>\n",
       "    </tr>\n",
       "    <tr>\n",
       "      <th>2</th>\n",
       "      <td>3/16/2021</td>\n",
       "      <td>quarterly</td>\n",
       "      <td>$0.56</td>\n",
       "      <td>0.94%</td>\n",
       "      <td>5/19/2021</td>\n",
       "      <td>5/20/2021</td>\n",
       "      <td>6/10/2021</td>\n",
       "    </tr>\n",
       "    <tr>\n",
       "      <th>3</th>\n",
       "      <td>12/2/2020</td>\n",
       "      <td>quarterly</td>\n",
       "      <td>$0.56</td>\n",
       "      <td>1.04%</td>\n",
       "      <td>2/17/2021</td>\n",
       "      <td>2/18/2021</td>\n",
       "      <td>3/11/2021</td>\n",
       "    </tr>\n",
       "    <tr>\n",
       "      <th>4</th>\n",
       "      <td>9/15/2020</td>\n",
       "      <td>quarterly</td>\n",
       "      <td>$0.56</td>\n",
       "      <td>1.07%</td>\n",
       "      <td>11/18/2020</td>\n",
       "      <td>11/19/2020</td>\n",
       "      <td>12/10/2020</td>\n",
       "    </tr>\n",
       "  </tbody>\n",
       "</table>\n",
       "</div>"
      ],
      "text/plain": [
       "  Announced      Period  Amount  Yield Ex-Dividend Record Date Payable Date\n",
       "0  9/14/2021  quarterly  $0.62   0.83%  11/17/2021  11/18/2021    12/9/2021\n",
       "1  6/16/2021  quarterly  $0.56   0.87%   8/18/2021   8/19/2021     9/9/2021\n",
       "2  3/16/2021  quarterly  $0.56   0.94%   5/19/2021   5/20/2021    6/10/2021\n",
       "3  12/2/2020  quarterly  $0.56   1.04%   2/17/2021   2/18/2021    3/11/2021\n",
       "4  9/15/2020  quarterly  $0.56   1.07%  11/18/2020  11/19/2020   12/10/2020"
      ]
     },
     "execution_count": 146,
     "metadata": {},
     "output_type": "execute_result"
    }
   ],
   "source": [
    "# Import the data by reading in the CSV file\n",
    "# Review the first 5 rows of the DataFrame\n",
    "msft_div = pd.read_csv(Path(\"Resources/msft_dividends.csv\"))\n",
    "\n",
    "msft_div.head()"
   ]
  },
  {
   "cell_type": "markdown",
   "id": "8211f6c6-6e7d-4811-aefe-446fc6d0d44f",
   "metadata": {},
   "source": [
    "#### Use the `str.replace` function to remove the dollar signs ($) from the values in the Amount column."
   ]
  },
  {
   "cell_type": "code",
   "execution_count": 147,
   "id": "2385a7e8-8e87-48cc-8a77-a717c0bee949",
   "metadata": {},
   "outputs": [
    {
     "name": "stderr",
     "output_type": "stream",
     "text": [
      "<ipython-input-147-98125c03c201>:2: FutureWarning: The default value of regex will change from True to False in a future version. In addition, single character regular expressions will*not* be treated as literal strings when regex=True.\n",
      "  msft_div.loc[:, \"Amount\"]= msft_div.loc[:, \"Amount\"].str.replace(\"$\", \"\")\n"
     ]
    }
   ],
   "source": [
    "# Use the str.replace function to remove the dollar sign, $\n",
    "msft_div.loc[:, \"Amount\"]= msft_div.loc[:, \"Amount\"].str.replace(\"$\", \"\")"
   ]
  },
  {
   "cell_type": "markdown",
   "id": "770ab75a-2ca8-46b2-beec-56cafe9ccc43",
   "metadata": {},
   "source": [
    "#### Convert the data type of the column to a `float`."
   ]
  },
  {
   "cell_type": "code",
   "execution_count": 150,
   "id": "48f732f2-a6c3-47e7-9f23-a563b16b6822",
   "metadata": {},
   "outputs": [
    {
     "data": {
      "text/plain": [
       "Announced        object\n",
       "Period           object\n",
       "Amount          float64\n",
       "Yield            object\n",
       "Ex-Dividend      object\n",
       "Record Date      object\n",
       "Payable Date     object\n",
       "dtype: object"
      ]
     },
     "execution_count": 150,
     "metadata": {},
     "output_type": "execute_result"
    }
   ],
   "source": [
    "# Convert the data type to a float\n",
    "msft_div.loc[:, \"Amount\"]= msft_div.loc[:, \"Amount\"].astype(\"float\")\n",
    "\n",
    "msft_div.dtypes"
   ]
  },
  {
   "cell_type": "markdown",
   "id": "aa11118b-a77e-465b-9b76-be0308f462bf",
   "metadata": {},
   "source": [
    "#### Choose columns of data on which to focus our analysis.\n",
    "\n",
    "Select the data to analyze. Use `loc` to select the following columns of data:\n",
    "* Amount"
   ]
  },
  {
   "cell_type": "code",
   "execution_count": 151,
   "id": "233e31ae-e07d-4f1b-b7ae-baed06759273",
   "metadata": {},
   "outputs": [
    {
     "data": {
      "text/plain": [
       "0    0.62\n",
       "1    0.56\n",
       "2    0.56\n",
       "3    0.56\n",
       "4    0.56\n",
       "Name: Amount, dtype: float64"
      ]
     },
     "execution_count": 151,
     "metadata": {},
     "output_type": "execute_result"
    }
   ],
   "source": [
    "# Use loc to select `Timestamp (the index)` and `Close` from bitstamp DataFrame\n",
    "msft_div_slices = msft_div.loc[:, \"Amount\"]\n",
    "\n",
    "# Review the first five rows of the DataFrame\n",
    "msft_div_slices.head()"
   ]
  },
  {
   "cell_type": "markdown",
   "id": "3b56901f-e4ac-4d1b-a1fc-1593fad7f844",
   "metadata": {},
   "source": [
    "#### Calculating the average dividends for MSFT"
   ]
  },
  {
   "cell_type": "code",
   "execution_count": 152,
   "id": "eaab2651-f266-4856-9cf4-a97f78257abd",
   "metadata": {},
   "outputs": [
    {
     "data": {
      "text/plain": [
       "0.46"
      ]
     },
     "execution_count": 152,
     "metadata": {},
     "output_type": "execute_result"
    }
   ],
   "source": [
    "# Calculating the average quaterly dividend for MSFT\n",
    "msft_div_slices_average = round(msft_div_slices.mean(),2)\n",
    "msft_div_slices_average"
   ]
  },
  {
   "cell_type": "code",
   "execution_count": 51,
   "id": "1bb9fc73-42a6-4ba3-95a9-7444b4e8ae47",
   "metadata": {},
   "outputs": [
    {
     "name": "stdout",
     "output_type": "stream",
     "text": [
      "The average yearly dividend for Microsoft is: $1.84 per share.\n"
     ]
    }
   ],
   "source": [
    "# calculating the Yearly average dividend for MSFT share\n",
    "average_year_div_msft = msft_div_slices_average * 4\n",
    "print(f\"The average yearly dividend for Microsoft is: ${average_year_div_msft} per share.\")"
   ]
  },
  {
   "cell_type": "markdown",
   "id": "c4edb5b6-d3e9-4255-b1d2-90e385c83b9b",
   "metadata": {},
   "source": [
    "### Evaluate the Bitcoin Value by Using the Requests Library\n",
    "\n",
    "In this section, we will collect the current prices for the Bitcoin cryptocurrencies by using the Python Requests library. To do all this, complete the following steps:\n",
    "\n",
    "1. Use the Requests library to get the current price (in US dollars) of Bitcoin (BTC) by using the API endpoints.\n",
    "\n",
    "2. Navigate the JSON response object to access the current price of Bitcoin, and store it in a variable.\n"
   ]
  },
  {
   "cell_type": "markdown",
   "id": "8afbad97-6703-4849-a42c-2fe39bf6dd7f",
   "metadata": {},
   "source": [
    "#### Review the endpoint URLs for the API calls to Free Crypto API in order to get the current pricing information for BTC."
   ]
  },
  {
   "cell_type": "code",
   "execution_count": 109,
   "id": "988b79d4-cd57-46d7-9986-06a83a444240",
   "metadata": {},
   "outputs": [],
   "source": [
    "# The Free Crypto API Call endpoint URLs for the held cryptocurrency assets\n",
    "btc_url = \"https://api.alternative.me/v2/ticker/Bitcoin/?convert=USD\""
   ]
  },
  {
   "cell_type": "markdown",
   "id": "fb46132c-10a1-4dd4-9c2f-01f1fe6e20bb",
   "metadata": {},
   "source": [
    "#### 1. Use the Requests library to get the current price (in US dollars) of Bitcoin (BTC) by using the API endpoints."
   ]
  },
  {
   "cell_type": "code",
   "execution_count": 110,
   "id": "58e248ba-1934-4328-831a-89fd95a33665",
   "metadata": {},
   "outputs": [
    {
     "name": "stdout",
     "output_type": "stream",
     "text": [
      "{\n",
      "    \"data\": {\n",
      "        \"1\": {\n",
      "            \"circulating_supply\": 18860950,\n",
      "            \"id\": 1,\n",
      "            \"last_updated\": 1635794052,\n",
      "            \"max_supply\": 21000000,\n",
      "            \"name\": \"Bitcoin\",\n",
      "            \"quotes\": {\n",
      "                \"USD\": {\n",
      "                    \"market_cap\": 1148190624646,\n",
      "                    \"percent_change_1h\": 0.273737200904498,\n",
      "                    \"percent_change_24h\": 0.213312546616552,\n",
      "                    \"percent_change_7d\": -0.318576816212922,\n",
      "                    \"percentage_change_1h\": 0.273737200904498,\n",
      "                    \"percentage_change_24h\": 0.213312546616552,\n",
      "                    \"percentage_change_7d\": -0.318576816212922,\n",
      "                    \"price\": 60978.0,\n",
      "                    \"volume_24h\": 35977662583\n",
      "                }\n",
      "            },\n",
      "            \"rank\": 1,\n",
      "            \"symbol\": \"BTC\",\n",
      "            \"total_supply\": 18860950,\n",
      "            \"website_slug\": \"bitcoin\"\n",
      "        }\n",
      "    },\n",
      "    \"metadata\": {\n",
      "        \"error\": null,\n",
      "        \"num_cryptocurrencies\": 3105,\n",
      "        \"timestamp\": 1635794052\n",
      "    }\n",
      "}\n"
     ]
    }
   ],
   "source": [
    "# Using the Python requests library, make an API call to access the current price of BTC\n",
    "btc_response = requests.get(btc_url).json()\n",
    "\n",
    "# Use the json.dumps function to review the response data from the API call\n",
    "# Use the indent and sort_keys parameters to make the response object readable\n",
    "print(json.dumps(btc_response, indent=4, sort_keys=True))"
   ]
  },
  {
   "cell_type": "markdown",
   "id": "a928119a-665c-47ad-b466-1a51c21b092a",
   "metadata": {},
   "source": [
    "#### 2.Navigate the JSON response object to access the current price of Bitcoin, and store it in a variable."
   ]
  },
  {
   "cell_type": "code",
   "execution_count": 111,
   "id": "1b05a397-05a0-4784-9240-eb98a0c69d75",
   "metadata": {},
   "outputs": [
    {
     "name": "stdout",
     "output_type": "stream",
     "text": [
      "The current price of BTC is $60978.00\n"
     ]
    }
   ],
   "source": [
    "# Navigate the BTC response object to access the current price of BTC\n",
    "btc_price = btc_response['data']['1']['quotes']['USD']['price']\n",
    "\n",
    "# Print the current price of BTC\n",
    "print(f'The current price of BTC is ${btc_price:.2f}')"
   ]
  },
  {
   "cell_type": "markdown",
   "id": "de6b5fc5-7c33-43d7-b27a-1631fd155929",
   "metadata": {},
   "source": [
    "## Option 1: Reinvesting the dividens into Microsoft (MSFT) "
   ]
  },
  {
   "cell_type": "markdown",
   "id": "a33f8b9c-7325-423e-80c3-cb34de898d22",
   "metadata": {},
   "source": [
    "### Create the Monte Carlo Simulation that will include reinstment of dividend on a yearly basis\n",
    "\n",
    "In this section, we will use the MCForecastTools library to create a Monte Carlo simulation for the purpose of reinvesting the dividend into the stock. \n",
    "\n",
    "1. Make an API call via the Alpaca SDK to get 5 years of historical closing prices for Microsft (MSFT).\n",
    "\n",
    "2. Run a Monte Carlo simulations of 1000 samples for 10, 20 and 30 years for the portfolio, and then plot the results. \n",
    "\n",
    "3. Plot the probability distribution of the Monte Carlo simulations. Plot the probability distribution of the Monte Carlo simulation.\n",
    "\n",
    "4. Generate the summary statistics for the Monte Carlo simulation.\n"
   ]
  },
  {
   "cell_type": "code",
   "execution_count": 116,
   "id": "341f8c48-b3c5-4d42-a1c4-42b3893c9897",
   "metadata": {},
   "outputs": [],
   "source": [
    "# impoprt New version of the Montecarlo\n",
    "from MCForecastTools_2Mod import MCSimulation"
   ]
  },
  {
   "cell_type": "markdown",
   "id": "9004f44b-7fe9-4e43-a0cb-7e92b3d28850",
   "metadata": {},
   "source": [
    "#### Step 1: Make an API call via the Alpaca SDK to get 5 years of historical closing prices for Microsoft."
   ]
  },
  {
   "cell_type": "code",
   "execution_count": 117,
   "id": "2990c5db-543b-4fa8-8b4c-7ed141a29477",
   "metadata": {},
   "outputs": [],
   "source": [
    "# Set start and end dates of 3 years back from your current date\n",
    "# Alternatively, you can use an end date of 2020-08-07 and work 3 years back from that date \n",
    "start_date = pd.Timestamp(\"2016-10-29\", tz=\"America/New_York\").isoformat() \n",
    "end_date = pd.Timestamp(\"2021-10-29\", tz=\"America/New_York\").isoformat()\n",
    "\n",
    "# Set number of rows to 1000 to retrieve the maximum amount of rows\n",
    "limit_rows = 1000"
   ]
  },
  {
   "cell_type": "code",
   "execution_count": 118,
   "id": "7f7cc05b-81f0-4e35-abf8-52d0530c0bf2",
   "metadata": {},
   "outputs": [
    {
     "data": {
      "text/html": [
       "<div>\n",
       "<style scoped>\n",
       "    .dataframe tbody tr th:only-of-type {\n",
       "        vertical-align: middle;\n",
       "    }\n",
       "\n",
       "    .dataframe tbody tr th {\n",
       "        vertical-align: top;\n",
       "    }\n",
       "\n",
       "    .dataframe thead tr th {\n",
       "        text-align: left;\n",
       "    }\n",
       "\n",
       "    .dataframe thead tr:last-of-type th {\n",
       "        text-align: right;\n",
       "    }\n",
       "</style>\n",
       "<table border=\"1\" class=\"dataframe\">\n",
       "  <thead>\n",
       "    <tr>\n",
       "      <th></th>\n",
       "      <th colspan=\"5\" halign=\"left\">MSFT</th>\n",
       "    </tr>\n",
       "    <tr>\n",
       "      <th></th>\n",
       "      <th>open</th>\n",
       "      <th>high</th>\n",
       "      <th>low</th>\n",
       "      <th>close</th>\n",
       "      <th>volume</th>\n",
       "    </tr>\n",
       "    <tr>\n",
       "      <th>time</th>\n",
       "      <th></th>\n",
       "      <th></th>\n",
       "      <th></th>\n",
       "      <th></th>\n",
       "      <th></th>\n",
       "    </tr>\n",
       "  </thead>\n",
       "  <tbody>\n",
       "    <tr>\n",
       "      <th>2017-11-09 00:00:00-05:00</th>\n",
       "      <td>84.11</td>\n",
       "      <td>84.270</td>\n",
       "      <td>82.90</td>\n",
       "      <td>84.09</td>\n",
       "      <td>16833031</td>\n",
       "    </tr>\n",
       "    <tr>\n",
       "      <th>2017-11-10 00:00:00-05:00</th>\n",
       "      <td>83.79</td>\n",
       "      <td>84.095</td>\n",
       "      <td>83.23</td>\n",
       "      <td>83.86</td>\n",
       "      <td>13902816</td>\n",
       "    </tr>\n",
       "    <tr>\n",
       "      <th>2017-11-13 00:00:00-05:00</th>\n",
       "      <td>83.66</td>\n",
       "      <td>83.940</td>\n",
       "      <td>83.46</td>\n",
       "      <td>83.93</td>\n",
       "      <td>9097109</td>\n",
       "    </tr>\n",
       "    <tr>\n",
       "      <th>2017-11-14 00:00:00-05:00</th>\n",
       "      <td>83.50</td>\n",
       "      <td>84.100</td>\n",
       "      <td>82.98</td>\n",
       "      <td>84.05</td>\n",
       "      <td>15246771</td>\n",
       "    </tr>\n",
       "    <tr>\n",
       "      <th>2017-11-15 00:00:00-05:00</th>\n",
       "      <td>83.47</td>\n",
       "      <td>83.690</td>\n",
       "      <td>82.69</td>\n",
       "      <td>82.99</td>\n",
       "      <td>14184790</td>\n",
       "    </tr>\n",
       "  </tbody>\n",
       "</table>\n",
       "</div>"
      ],
      "text/plain": [
       "                            MSFT                                \n",
       "                            open    high    low  close    volume\n",
       "time                                                            \n",
       "2017-11-09 00:00:00-05:00  84.11  84.270  82.90  84.09  16833031\n",
       "2017-11-10 00:00:00-05:00  83.79  84.095  83.23  83.86  13902816\n",
       "2017-11-13 00:00:00-05:00  83.66  83.940  83.46  83.93   9097109\n",
       "2017-11-14 00:00:00-05:00  83.50  84.100  82.98  84.05  15246771\n",
       "2017-11-15 00:00:00-05:00  83.47  83.690  82.69  82.99  14184790"
      ]
     },
     "metadata": {},
     "output_type": "display_data"
    },
    {
     "data": {
      "text/html": [
       "<div>\n",
       "<style scoped>\n",
       "    .dataframe tbody tr th:only-of-type {\n",
       "        vertical-align: middle;\n",
       "    }\n",
       "\n",
       "    .dataframe tbody tr th {\n",
       "        vertical-align: top;\n",
       "    }\n",
       "\n",
       "    .dataframe thead tr th {\n",
       "        text-align: left;\n",
       "    }\n",
       "\n",
       "    .dataframe thead tr:last-of-type th {\n",
       "        text-align: right;\n",
       "    }\n",
       "</style>\n",
       "<table border=\"1\" class=\"dataframe\">\n",
       "  <thead>\n",
       "    <tr>\n",
       "      <th></th>\n",
       "      <th colspan=\"5\" halign=\"left\">MSFT</th>\n",
       "    </tr>\n",
       "    <tr>\n",
       "      <th></th>\n",
       "      <th>open</th>\n",
       "      <th>high</th>\n",
       "      <th>low</th>\n",
       "      <th>close</th>\n",
       "      <th>volume</th>\n",
       "    </tr>\n",
       "    <tr>\n",
       "      <th>time</th>\n",
       "      <th></th>\n",
       "      <th></th>\n",
       "      <th></th>\n",
       "      <th></th>\n",
       "      <th></th>\n",
       "    </tr>\n",
       "  </thead>\n",
       "  <tbody>\n",
       "    <tr>\n",
       "      <th>2021-10-25 00:00:00-04:00</th>\n",
       "      <td>309.54</td>\n",
       "      <td>309.5400</td>\n",
       "      <td>306.4600</td>\n",
       "      <td>308.30</td>\n",
       "      <td>13455241</td>\n",
       "    </tr>\n",
       "    <tr>\n",
       "      <th>2021-10-26 00:00:00-04:00</th>\n",
       "      <td>310.81</td>\n",
       "      <td>312.3950</td>\n",
       "      <td>308.5967</td>\n",
       "      <td>309.71</td>\n",
       "      <td>20748654</td>\n",
       "    </tr>\n",
       "    <tr>\n",
       "      <th>2021-10-27 00:00:00-04:00</th>\n",
       "      <td>316.00</td>\n",
       "      <td>326.0973</td>\n",
       "      <td>316.0000</td>\n",
       "      <td>323.14</td>\n",
       "      <td>45222243</td>\n",
       "    </tr>\n",
       "    <tr>\n",
       "      <th>2021-10-28 00:00:00-04:00</th>\n",
       "      <td>324.32</td>\n",
       "      <td>324.8700</td>\n",
       "      <td>321.3601</td>\n",
       "      <td>324.32</td>\n",
       "      <td>21324602</td>\n",
       "    </tr>\n",
       "    <tr>\n",
       "      <th>2021-10-29 00:00:00-04:00</th>\n",
       "      <td>324.14</td>\n",
       "      <td>332.0000</td>\n",
       "      <td>323.9000</td>\n",
       "      <td>331.64</td>\n",
       "      <td>26504382</td>\n",
       "    </tr>\n",
       "  </tbody>\n",
       "</table>\n",
       "</div>"
      ],
      "text/plain": [
       "                             MSFT                                      \n",
       "                             open      high       low   close    volume\n",
       "time                                                                   \n",
       "2021-10-25 00:00:00-04:00  309.54  309.5400  306.4600  308.30  13455241\n",
       "2021-10-26 00:00:00-04:00  310.81  312.3950  308.5967  309.71  20748654\n",
       "2021-10-27 00:00:00-04:00  316.00  326.0973  316.0000  323.14  45222243\n",
       "2021-10-28 00:00:00-04:00  324.32  324.8700  321.3601  324.32  21324602\n",
       "2021-10-29 00:00:00-04:00  324.14  332.0000  323.9000  331.64  26504382"
      ]
     },
     "metadata": {},
     "output_type": "display_data"
    }
   ],
   "source": [
    "# Use the Alpaca get_barset function to make the API call to get the 3 years worth of pricing data\n",
    "# The tickers and timeframe parameters should have been set early of this activity \n",
    "# The start and end dates should be updated with the information set above\n",
    "# Adding the df property to the end of the call so the response is returned as a DataFrame\n",
    "prices_df = alpaca.get_barset(tickers, timeframe, start= start_date, end= end_date, limit= limit_rows).df\n",
    "\n",
    "\n",
    "# Display both the first and last five rows of the DataFrame\n",
    "display(prices_df.head())\n",
    "display(prices_df.tail())"
   ]
  },
  {
   "cell_type": "code",
   "execution_count": 122,
   "id": "6f887ed0-46a2-4eb6-b9b5-ecb0f67f65fa",
   "metadata": {},
   "outputs": [
    {
     "name": "stdout",
     "output_type": "stream",
     "text": [
      "('MSFT', 'open')\n",
      "('MSFT', 'high')\n",
      "('MSFT', 'low')\n",
      "('MSFT', 'close')\n",
      "('MSFT', 'volume')\n"
     ]
    },
    {
     "data": {
      "text/plain": [
       "MultiIndex([('MSFT',   'open'),\n",
       "            ('MSFT',   'high'),\n",
       "            ('MSFT',    'low'),\n",
       "            ('MSFT',  'close'),\n",
       "            ('MSFT', 'volume')],\n",
       "           )"
      ]
     },
     "execution_count": 122,
     "metadata": {},
     "output_type": "execute_result"
    }
   ],
   "source": [
    "for col in prices_df.columns:\n",
    "    print(col)\n",
    "prices_df.keys()"
   ]
  },
  {
   "cell_type": "markdown",
   "id": "b3529188-d154-4b3b-8a6a-ab4c4c6b6cfd",
   "metadata": {},
   "source": [
    "#### Step 2a: Run a Monte Carlo simulation of 1000 samples and 10 years for Microsoft, and then plot the results."
   ]
  },
  {
   "cell_type": "code",
   "execution_count": 114,
   "id": "26e772c7-2ca0-4952-bd66-9254e72dd92c",
   "metadata": {},
   "outputs": [
    {
     "data": {
      "text/html": [
       "<div>\n",
       "<style scoped>\n",
       "    .dataframe tbody tr th:only-of-type {\n",
       "        vertical-align: middle;\n",
       "    }\n",
       "\n",
       "    .dataframe tbody tr th {\n",
       "        vertical-align: top;\n",
       "    }\n",
       "\n",
       "    .dataframe thead tr th {\n",
       "        text-align: left;\n",
       "    }\n",
       "\n",
       "    .dataframe thead tr:last-of-type th {\n",
       "        text-align: right;\n",
       "    }\n",
       "</style>\n",
       "<table border=\"1\" class=\"dataframe\">\n",
       "  <thead>\n",
       "    <tr>\n",
       "      <th></th>\n",
       "      <th colspan=\"6\" halign=\"left\">MSFT</th>\n",
       "    </tr>\n",
       "    <tr>\n",
       "      <th></th>\n",
       "      <th>open</th>\n",
       "      <th>high</th>\n",
       "      <th>low</th>\n",
       "      <th>close</th>\n",
       "      <th>volume</th>\n",
       "      <th>daily_return</th>\n",
       "    </tr>\n",
       "    <tr>\n",
       "      <th>time</th>\n",
       "      <th></th>\n",
       "      <th></th>\n",
       "      <th></th>\n",
       "      <th></th>\n",
       "      <th></th>\n",
       "      <th></th>\n",
       "    </tr>\n",
       "  </thead>\n",
       "  <tbody>\n",
       "    <tr>\n",
       "      <th>2017-11-09 00:00:00-05:00</th>\n",
       "      <td>84.11</td>\n",
       "      <td>84.270</td>\n",
       "      <td>82.90</td>\n",
       "      <td>84.09</td>\n",
       "      <td>16833031</td>\n",
       "      <td>NaN</td>\n",
       "    </tr>\n",
       "    <tr>\n",
       "      <th>2017-11-10 00:00:00-05:00</th>\n",
       "      <td>83.79</td>\n",
       "      <td>84.095</td>\n",
       "      <td>83.23</td>\n",
       "      <td>83.86</td>\n",
       "      <td>13902816</td>\n",
       "      <td>-0.002735</td>\n",
       "    </tr>\n",
       "    <tr>\n",
       "      <th>2017-11-13 00:00:00-05:00</th>\n",
       "      <td>83.66</td>\n",
       "      <td>83.940</td>\n",
       "      <td>83.46</td>\n",
       "      <td>83.93</td>\n",
       "      <td>9097109</td>\n",
       "      <td>0.000835</td>\n",
       "    </tr>\n",
       "    <tr>\n",
       "      <th>2017-11-14 00:00:00-05:00</th>\n",
       "      <td>83.50</td>\n",
       "      <td>84.100</td>\n",
       "      <td>82.98</td>\n",
       "      <td>84.05</td>\n",
       "      <td>15246771</td>\n",
       "      <td>0.001430</td>\n",
       "    </tr>\n",
       "    <tr>\n",
       "      <th>2017-11-15 00:00:00-05:00</th>\n",
       "      <td>83.47</td>\n",
       "      <td>83.690</td>\n",
       "      <td>82.69</td>\n",
       "      <td>82.99</td>\n",
       "      <td>14184790</td>\n",
       "      <td>-0.012612</td>\n",
       "    </tr>\n",
       "  </tbody>\n",
       "</table>\n",
       "</div>"
      ],
      "text/plain": [
       "                            MSFT                                             \n",
       "                            open    high    low  close    volume daily_return\n",
       "time                                                                         \n",
       "2017-11-09 00:00:00-05:00  84.11  84.270  82.90  84.09  16833031          NaN\n",
       "2017-11-10 00:00:00-05:00  83.79  84.095  83.23  83.86  13902816    -0.002735\n",
       "2017-11-13 00:00:00-05:00  83.66  83.940  83.46  83.93   9097109     0.000835\n",
       "2017-11-14 00:00:00-05:00  83.50  84.100  82.98  84.05  15246771     0.001430\n",
       "2017-11-15 00:00:00-05:00  83.47  83.690  82.69  82.99  14184790    -0.012612"
      ]
     },
     "execution_count": 114,
     "metadata": {},
     "output_type": "execute_result"
    }
   ],
   "source": [
    "# Configure the Monte Carlo simulation to forecast 10 years cumulative returns\n",
    "# Run 1000 samples.\n",
    "MC_ten_years = MCSimulation(portfolio_data = prices_df,\n",
    "                             num_simulation= 1000,\n",
    "                             num_trading_days= 252*10)\n",
    "\n",
    "# Review the simulation input data\n",
    "MC_ten_years.portfolio_data.head()\n",
    "\n",
    "\n",
    "# We need to update the Montecarlo first for this part!!! "
   ]
  },
  {
   "cell_type": "code",
   "execution_count": null,
   "id": "2211200e-6468-46a0-934e-4e57bbd43aa3",
   "metadata": {},
   "outputs": [],
   "source": [
    "# Run the Monte Carlo simulation to forecast 10 years cumulative returns\n",
    "MC_ten_years.calc_cumulative_return()\n"
   ]
  },
  {
   "cell_type": "code",
   "execution_count": null,
   "id": "c191e616-e44a-47b3-a5ad-3e55ec498580",
   "metadata": {},
   "outputs": [],
   "source": [
    "# Visualize the 10-year Monte Carlo simulation by creating an\n",
    "# overlay line plot\n",
    "MC_ten_years.plot_simulation()\n"
   ]
  },
  {
   "cell_type": "markdown",
   "id": "1dc9bf20-d348-4151-99ec-b9e5e3f98465",
   "metadata": {},
   "source": [
    "#### Plot the probability distribution of the Monte Carlo simulation."
   ]
  },
  {
   "cell_type": "code",
   "execution_count": null,
   "id": "c268f5b6-d568-455f-bfa4-4b34e39138c1",
   "metadata": {},
   "outputs": [],
   "source": [
    "# Visualize the probability distribution of the 10-year Monte Carlo simulation \n",
    "# by plotting a histogram\n",
    "MC_thirty_years.plot_distribution()"
   ]
  },
  {
   "cell_type": "markdown",
   "id": "3c3c79a0-0fd8-43a7-8a90-e0777d7d8c3a",
   "metadata": {},
   "source": [
    "#### Generate the summary statistics for the Monte Carlo simulation."
   ]
  },
  {
   "cell_type": "code",
   "execution_count": null,
   "id": "25c3ceb3-5116-43aa-91bf-6f9a4da8952f",
   "metadata": {},
   "outputs": [],
   "source": [
    "# Generate summary statistics from the 10-year Monte Carlo simulation results\n",
    "# Save the results as a variable\n",
    "MC_ten_summary_statistics = round(MC_ten_years.summarize_cumulative_return(), 3)\n",
    "\n",
    "\n",
    "# Review the 10-year Monte Carlo summary statistics\n",
    "print(MC_ten_summary_statistics)"
   ]
  },
  {
   "cell_type": "markdown",
   "id": "51f6989b-1fee-4c6c-8e95-e7d12afbc3b0",
   "metadata": {},
   "source": [
    "### Analyze the Dividend Reinvestment Into Microsoft Portfolio Forecasts\n",
    "\n",
    "Using the current value of the stock portfolio and the summary statistics that was generated from the Monte Carlo simulation, let's see what are the lower and upper bounds for the expected value of the portfolio with a 95% confidence interval?\n"
   ]
  },
  {
   "cell_type": "code",
   "execution_count": null,
   "id": "d49b2a8a-23fa-4f35-94e9-52ad32c1b814",
   "metadata": {},
   "outputs": [],
   "source": [
    "# Print the current value of the stock.\n",
    "print(f\"The current value of the stock portfolio is: ${msft_value}\")\n"
   ]
  },
  {
   "cell_type": "code",
   "execution_count": null,
   "id": "34cc1048-e155-4b80-a974-1feda790cf32",
   "metadata": {},
   "outputs": [],
   "source": [
    "# Use the lower and upper `95%` confidence intervals to calculate the range of the possible outcomes for the portfolio\n",
    "ci_lower_ten_cumulative_return = MC_ten_summary_statistics[8] * msft_value\n",
    "ci_upper_ten_cumulative_return = MC_ten_summary_statistics[9] * msft_value\n",
    "\n",
    "# Print the result of your calculations\n",
    "print(f\"There is a 95% chance that you current protfolio over the next 30 years will end within in range of \\n\"\n",
    "     f\"${ci_lower_ten_cumulative_return: .2f} and ${ci_upper_ten_cumulative_return: .2f}\")\n"
   ]
  },
  {
   "cell_type": "code",
   "execution_count": null,
   "id": "394a29e9-facc-4e03-a459-63ed4dd07fa8",
   "metadata": {},
   "outputs": [],
   "source": []
  },
  {
   "cell_type": "markdown",
   "id": "1a0a330d-0f0d-41dc-b0cf-238e9cd8518a",
   "metadata": {},
   "source": [
    "#### Step 2b: Run a Monte Carlo simulation of 1000 samples and 20 years for Microsoft, and then plot the results."
   ]
  },
  {
   "cell_type": "code",
   "execution_count": null,
   "id": "0bad4ee4-cbac-4de4-a825-00e765182b9a",
   "metadata": {},
   "outputs": [],
   "source": [
    "# Configure the Monte Carlo simulation to forecast 20 years cumulative returns\n",
    "# Run 1000 samples.\n",
    "MC_twenty_years = MCSimulation(portfolio_data = prices_df,\n",
    "                             num_simulation= 1000,\n",
    "                             num_trading_days= 252*20)\n",
    "\n",
    "# Review the simulation input data\n",
    "MC_twenty_years.portfolio_data.head()\n",
    "\n",
    "\n",
    "# We need to update the Montecarlo first for this part!!! "
   ]
  },
  {
   "cell_type": "code",
   "execution_count": null,
   "id": "39c574bf-2fd0-46ce-bcbe-c9ae9fbad3b3",
   "metadata": {},
   "outputs": [],
   "source": [
    "# Run the Monte Carlo simulation to forecast 20 years cumulative returns\n",
    "MC_twenty_years.calc_cumulative_return()\n"
   ]
  },
  {
   "cell_type": "code",
   "execution_count": null,
   "id": "535bbdd8-e4ca-4cd9-9619-bc86877e8e1e",
   "metadata": {},
   "outputs": [],
   "source": [
    "# Visualize the 20-year Monte Carlo simulation by creating an\n",
    "# overlay line plot\n",
    "MC_twenty_years.plot_simulation()\n"
   ]
  },
  {
   "cell_type": "markdown",
   "id": "41c4ae6f-6d0e-4f35-a0b6-9adbe6a18a13",
   "metadata": {},
   "source": [
    "#### Plot the probability distribution of the Monte Carlo simulation."
   ]
  },
  {
   "cell_type": "code",
   "execution_count": null,
   "id": "8405e898-7086-431b-b565-15b702f58e38",
   "metadata": {},
   "outputs": [],
   "source": [
    "# Visualize the probability distribution of the 20-year Monte Carlo simulation \n",
    "# by plotting a histogram\n",
    "MC_thirty_years.plot_distribution()"
   ]
  },
  {
   "cell_type": "markdown",
   "id": "efd44a36-5c04-447f-b41d-d1931d90d598",
   "metadata": {},
   "source": [
    "#### Generate the summary statistics for the Monte Carlo simulation."
   ]
  },
  {
   "cell_type": "code",
   "execution_count": null,
   "id": "c9b4a054-1ab6-436d-9650-27c817fa42ce",
   "metadata": {},
   "outputs": [],
   "source": [
    "# Generate summary statistics from the 20-year Monte Carlo simulation results\n",
    "# Save the results as a variable\n",
    "MC_twenty_summary_statistics = round(MC_twenty_years.summarize_cumulative_return(), 3)\n",
    "\n",
    "\n",
    "# Review the 20-year Monte Carlo summary statistics\n",
    "print(MC_twenty_summary_statistics)"
   ]
  },
  {
   "cell_type": "markdown",
   "id": "9075008d-ca70-449d-96c8-ce048e02d17b",
   "metadata": {},
   "source": [
    "### Analyze the Dividend Reinvestment Into Microsoft Portfolio Forecasts\n",
    "\n",
    "Using the current value of the stock portfolio and the summary statistics that was generated from the Monte Carlo simulation, let's see what are the lower and upper bounds for the expected value of the portfolio with a 95% confidence interval?"
   ]
  },
  {
   "cell_type": "code",
   "execution_count": null,
   "id": "31d6aa39-6801-4ea6-afaf-508d404ea989",
   "metadata": {},
   "outputs": [],
   "source": [
    "# Print the current value of the stock.\n",
    "print(f\"The current value of the stock portfolio is: ${msft_value}\")\n"
   ]
  },
  {
   "cell_type": "code",
   "execution_count": null,
   "id": "2a711714-aa98-48c0-903b-6d5d1b5dc4dc",
   "metadata": {},
   "outputs": [],
   "source": [
    "# Use the lower and upper `95%` confidence intervals to calculate the range of the possible outcomes for the portfolio\n",
    "ci_lower_twenty_cumulative_return = MC_twenty_summary_statistics[8] * msft_value\n",
    "ci_upper_twenty_cumulative_return = MC_twenty_summary_statistics[9] * msft_value\n",
    "\n",
    "# Print the result of your calculations\n",
    "print(f\"There is a 95% chance that you current protfolio over the next 30 years will end within in range of \\n\"\n",
    "     f\"${ci_lower_twenty_cumulative_return: .2f} and ${ci_upper_twenty_cumulative_return: .2f}\")\n"
   ]
  },
  {
   "cell_type": "code",
   "execution_count": null,
   "id": "5c62095b-9283-4f42-9aad-753ef415afb4",
   "metadata": {},
   "outputs": [],
   "source": []
  },
  {
   "cell_type": "markdown",
   "id": "8b3fec38-f3a7-4748-997b-7f1869e6171e",
   "metadata": {},
   "source": [
    "#### Step 2c: Run a Monte Carlo simulation of 1000 samples and 30 years for Microsoft, and then plot the results."
   ]
  },
  {
   "cell_type": "code",
   "execution_count": null,
   "id": "4fa43781-0a48-4380-8aea-4a51f729001b",
   "metadata": {},
   "outputs": [],
   "source": [
    "# Configure the Monte Carlo simulation to forecast 30 years cumulative returns\n",
    "# Run 1000 samples.\n",
    "MC_thirty_years = MCSimulation(portfolio_data = prices_df,\n",
    "                             num_simulation= 1000,\n",
    "                             num_trading_days= 252*30)\n",
    "\n",
    "# Review the simulation input data\n",
    "MC_thirty_years.portfolio_data.head()\n",
    "\n",
    "\n",
    "# We need to update the Montecarlo first for this part!!! "
   ]
  },
  {
   "cell_type": "code",
   "execution_count": null,
   "id": "f85c29b9-f71b-4805-bf27-454c75d2e1b2",
   "metadata": {},
   "outputs": [],
   "source": [
    "# Run the Monte Carlo simulation to forecast 30 years cumulative returns\n",
    "MC_thirty_years.calc_cumulative_return()\n"
   ]
  },
  {
   "cell_type": "code",
   "execution_count": null,
   "id": "f4a35e8f-c8de-464c-9700-11a6f09242de",
   "metadata": {},
   "outputs": [],
   "source": [
    "# Visualize the 30-year Monte Carlo simulation by creating an\n",
    "# overlay line plot\n",
    "MC_thirty_years.plot_simulation()\n"
   ]
  },
  {
   "cell_type": "markdown",
   "id": "c6106324-87a0-442a-b7be-c095826a328b",
   "metadata": {},
   "source": [
    "#### Plot the probability distribution of the Monte Carlo simulation."
   ]
  },
  {
   "cell_type": "code",
   "execution_count": null,
   "id": "be073c62-613c-4513-ac56-1848a74c18fa",
   "metadata": {},
   "outputs": [],
   "source": [
    "# Visualize the probability distribution of the 30-year Monte Carlo simulation \n",
    "# by plotting a histogram\n",
    "MC_thirty_years.plot_distribution()"
   ]
  },
  {
   "cell_type": "markdown",
   "id": "c41b9407-b485-46e7-bd8a-720939711079",
   "metadata": {},
   "source": [
    "#### Generate the summary statistics for the Monte Carlo simulation."
   ]
  },
  {
   "cell_type": "code",
   "execution_count": null,
   "id": "50ae3322-26d4-4b6e-937b-5dc9dcd4d8da",
   "metadata": {},
   "outputs": [],
   "source": [
    "# Generate summary statistics from the 30-year Monte Carlo simulation results\n",
    "# Save the results as a variable\n",
    "MC_thirty_summary_statistics = round(MC_thirty_years.summarize_cumulative_return(), 3)\n",
    "\n",
    "\n",
    "# Review the 30-year Monte Carlo summary statistics\n",
    "print(MC_thirty_summary_statistics)"
   ]
  },
  {
   "cell_type": "markdown",
   "id": "ac20d398-50fd-4739-865a-cc66a68c9481",
   "metadata": {},
   "source": [
    "### Analyze the Dividend Reinvestment Into Microsoft Portfolio Forecasts\n",
    "\n",
    "Using the current value of the stock portfolio and the summary statistics that was generated from the Monte Carlo simulation, let's see what are the lower and upper bounds for the expected value of the portfolio with a 95% confidence interval?"
   ]
  },
  {
   "cell_type": "code",
   "execution_count": null,
   "id": "a059b962-984e-4404-94bd-dee636564c17",
   "metadata": {},
   "outputs": [],
   "source": [
    "# Print the current value of the stock.\n",
    "print(f\"The current value of the stock portfolio is: ${msft_value}\")\n"
   ]
  },
  {
   "cell_type": "code",
   "execution_count": null,
   "id": "803f55a8-d20f-47c3-a28a-fd99e2249837",
   "metadata": {},
   "outputs": [],
   "source": [
    "# Use the lower and upper `95%` confidence intervals to calculate the range of the possible outcomes for the portfolio\n",
    "ci_lower_thirty_cumulative_return = MC_thirty_summary_statistics[8] * msft_value\n",
    "ci_upper_thirty_cumulative_return = MC_thirty_summary_statistics[9] * msft_value\n",
    "\n",
    "# Print the result of your calculations\n",
    "print(f\"There is a 95% chance that you current protfolio over the next 30 years will end within in range of \\n\"\n",
    "     f\"${ci_lower_thirty_cumulative_return: .2f} and ${ci_upper_thirty_cumulative_return: .2f}\")\n"
   ]
  },
  {
   "cell_type": "code",
   "execution_count": null,
   "id": "bff1aba5-9ecf-4888-9ea7-82285a50dca9",
   "metadata": {},
   "outputs": [],
   "source": []
  },
  {
   "cell_type": "markdown",
   "id": "d362071f-5659-4516-9f3c-bf0ccc42dcd5",
   "metadata": {},
   "source": [
    "## Option 2: Reinvesting the dividens into Bitcoin Cryptocurrency (BTC) "
   ]
  },
  {
   "cell_type": "markdown",
   "id": "c0c84172-e120-4ee7-a0d5-a3e8893c66ed",
   "metadata": {},
   "source": [
    "### Create the Monte Carlo Simulation that will include reinstment of dividend on a yearly basis\n",
    "\n",
    "In this section, we will use the MCForecastTools library to create a Monte Carlo simulation for the purpose of reinvesting the dividend into the chosen crypto. \n",
    "\n",
    "1. Make an API call via the Alpaca SDK to get 5 years of historical closing prices for Bitcoin (BTC).\n",
    "\n",
    "-- Alpaca does not have a ticker for Bitcoin. Therefore, we will use a static CSV file from Yahoo Finance. --\n",
    "\n",
    "2. Run a Monte Carlo simulations of 1000 samples for 10, 20 and 30 years for the portfolio, and then plot the results. \n",
    "\n",
    "3. Plot the probability distribution of the Monte Carlo simulations. Plot the probability distribution of the Monte Carlo simulation.\n",
    "\n",
    "4. Generate the summary statistics for the Monte Carlo simulation.\n"
   ]
  },
  {
   "cell_type": "code",
   "execution_count": 129,
   "id": "6f25b414-9e58-465f-b7cf-6ec6f8430d93",
   "metadata": {},
   "outputs": [
    {
     "data": {
      "text/plain": [
       "<AxesSubplot:xlabel='Date'>"
      ]
     },
     "metadata": {},
     "output_type": "display_data"
    },
    {
     "data": {
      "text/html": [
       "<div>\n",
       "<style scoped>\n",
       "    .dataframe tbody tr th:only-of-type {\n",
       "        vertical-align: middle;\n",
       "    }\n",
       "\n",
       "    .dataframe tbody tr th {\n",
       "        vertical-align: top;\n",
       "    }\n",
       "\n",
       "    .dataframe thead th {\n",
       "        text-align: right;\n",
       "    }\n",
       "</style>\n",
       "<table border=\"1\" class=\"dataframe\">\n",
       "  <thead>\n",
       "    <tr style=\"text-align: right;\">\n",
       "      <th></th>\n",
       "      <th>Date</th>\n",
       "      <th>Open</th>\n",
       "      <th>High</th>\n",
       "      <th>Low</th>\n",
       "      <th>Close</th>\n",
       "      <th>Volume</th>\n",
       "    </tr>\n",
       "  </thead>\n",
       "  <tbody>\n",
       "    <tr>\n",
       "      <th>0</th>\n",
       "      <td>2014-09-17</td>\n",
       "      <td>465.864014</td>\n",
       "      <td>468.174011</td>\n",
       "      <td>452.421997</td>\n",
       "      <td>457.334015</td>\n",
       "      <td>21056800.0</td>\n",
       "    </tr>\n",
       "    <tr>\n",
       "      <th>1</th>\n",
       "      <td>2014-09-18</td>\n",
       "      <td>456.859985</td>\n",
       "      <td>456.859985</td>\n",
       "      <td>413.104004</td>\n",
       "      <td>424.440002</td>\n",
       "      <td>34483200.0</td>\n",
       "    </tr>\n",
       "    <tr>\n",
       "      <th>2</th>\n",
       "      <td>2014-09-19</td>\n",
       "      <td>424.102997</td>\n",
       "      <td>427.834991</td>\n",
       "      <td>384.532013</td>\n",
       "      <td>394.795990</td>\n",
       "      <td>37919700.0</td>\n",
       "    </tr>\n",
       "    <tr>\n",
       "      <th>3</th>\n",
       "      <td>2014-09-20</td>\n",
       "      <td>394.673004</td>\n",
       "      <td>423.295990</td>\n",
       "      <td>389.882996</td>\n",
       "      <td>408.903992</td>\n",
       "      <td>36863600.0</td>\n",
       "    </tr>\n",
       "    <tr>\n",
       "      <th>4</th>\n",
       "      <td>2014-09-21</td>\n",
       "      <td>408.084991</td>\n",
       "      <td>412.425995</td>\n",
       "      <td>393.181000</td>\n",
       "      <td>398.821014</td>\n",
       "      <td>26580100.0</td>\n",
       "    </tr>\n",
       "  </tbody>\n",
       "</table>\n",
       "</div>"
      ],
      "text/plain": [
       "         Date        Open        High         Low       Close      Volume\n",
       "0  2014-09-17  465.864014  468.174011  452.421997  457.334015  21056800.0\n",
       "1  2014-09-18  456.859985  456.859985  413.104004  424.440002  34483200.0\n",
       "2  2014-09-19  424.102997  427.834991  384.532013  394.795990  37919700.0\n",
       "3  2014-09-20  394.673004  423.295990  389.882996  408.903992  36863600.0\n",
       "4  2014-09-21  408.084991  412.425995  393.181000  398.821014  26580100.0"
      ]
     },
     "execution_count": 129,
     "metadata": {},
     "output_type": "execute_result"
    },
    {
     "data": {
      "image/png": "[encoded data removed]",
      "text/plain": [
       "<Figure size 432x288 with 1 Axes>"
      ]
     },
     "metadata": {
      "needs_background": "light"
     },
     "output_type": "display_data"
    }
   ],
   "source": [
    "btc_data =pd.read_csv(Path(\"./Resources/BTC-USD.csv\"))\n",
    "display(btc_data.plot(x=\"Date\", y=\"Close\", rot = 45))\n",
    "btc_data.drop(columns = \"Adj Close\", inplace =True)\n",
    "btc_data.head()"
   ]
  },
  {
   "cell_type": "code",
   "execution_count": 132,
   "id": "0165733f-f159-4fc2-b422-964a7e4b0ed3",
   "metadata": {},
   "outputs": [
    {
     "data": {
      "text/html": [
       "<div>\n",
       "<style scoped>\n",
       "    .dataframe tbody tr th:only-of-type {\n",
       "        vertical-align: middle;\n",
       "    }\n",
       "\n",
       "    .dataframe tbody tr th {\n",
       "        vertical-align: top;\n",
       "    }\n",
       "\n",
       "    .dataframe thead tr th {\n",
       "        text-align: left;\n",
       "    }\n",
       "</style>\n",
       "<table border=\"1\" class=\"dataframe\">\n",
       "  <thead>\n",
       "    <tr>\n",
       "      <th></th>\n",
       "      <th></th>\n",
       "      <th>Date</th>\n",
       "      <th>Open</th>\n",
       "      <th>High</th>\n",
       "      <th>Low</th>\n",
       "      <th>Close</th>\n",
       "      <th>Volume</th>\n",
       "    </tr>\n",
       "    <tr>\n",
       "      <th></th>\n",
       "      <th></th>\n",
       "      <th>BTC</th>\n",
       "      <th>BTC</th>\n",
       "      <th>BTC</th>\n",
       "      <th>BTC</th>\n",
       "      <th>BTC</th>\n",
       "      <th>BTC</th>\n",
       "    </tr>\n",
       "  </thead>\n",
       "  <tbody>\n",
       "    <tr>\n",
       "      <th>0</th>\n",
       "      <th>BTC</th>\n",
       "      <td>2014-09-17</td>\n",
       "      <td>465.864014</td>\n",
       "      <td>468.174011</td>\n",
       "      <td>452.421997</td>\n",
       "      <td>457.334015</td>\n",
       "      <td>21056800.0</td>\n",
       "    </tr>\n",
       "    <tr>\n",
       "      <th>1</th>\n",
       "      <th>BTC</th>\n",
       "      <td>2014-09-18</td>\n",
       "      <td>456.859985</td>\n",
       "      <td>456.859985</td>\n",
       "      <td>413.104004</td>\n",
       "      <td>424.440002</td>\n",
       "      <td>34483200.0</td>\n",
       "    </tr>\n",
       "    <tr>\n",
       "      <th>2</th>\n",
       "      <th>BTC</th>\n",
       "      <td>2014-09-19</td>\n",
       "      <td>424.102997</td>\n",
       "      <td>427.834991</td>\n",
       "      <td>384.532013</td>\n",
       "      <td>394.795990</td>\n",
       "      <td>37919700.0</td>\n",
       "    </tr>\n",
       "    <tr>\n",
       "      <th>3</th>\n",
       "      <th>BTC</th>\n",
       "      <td>2014-09-20</td>\n",
       "      <td>394.673004</td>\n",
       "      <td>423.295990</td>\n",
       "      <td>389.882996</td>\n",
       "      <td>408.903992</td>\n",
       "      <td>36863600.0</td>\n",
       "    </tr>\n",
       "    <tr>\n",
       "      <th>4</th>\n",
       "      <th>BTC</th>\n",
       "      <td>2014-09-21</td>\n",
       "      <td>408.084991</td>\n",
       "      <td>412.425995</td>\n",
       "      <td>393.181000</td>\n",
       "      <td>398.821014</td>\n",
       "      <td>26580100.0</td>\n",
       "    </tr>\n",
       "  </tbody>\n",
       "</table>\n",
       "</div>"
      ],
      "text/plain": [
       "             Date        Open        High         Low       Close      Volume\n",
       "              BTC         BTC         BTC         BTC         BTC         BTC\n",
       "0 BTC  2014-09-17  465.864014  468.174011  452.421997  457.334015  21056800.0\n",
       "1 BTC  2014-09-18  456.859985  456.859985  413.104004  424.440002  34483200.0\n",
       "2 BTC  2014-09-19  424.102997  427.834991  384.532013  394.795990  37919700.0\n",
       "3 BTC  2014-09-20  394.673004  423.295990  389.882996  408.903992  36863600.0\n",
       "4 BTC  2014-09-21  408.084991  412.425995  393.181000  398.821014  26580100.0"
      ]
     },
     "execution_count": 132,
     "metadata": {},
     "output_type": "execute_result"
    }
   ],
   "source": [
    "# pd.concat([df], axis=1, keys=['C']).swaplevel(0, 1, 1)\n",
    "btc_data = pd.concat([btc_data], axis = 1, keys = [\"BTC\"]).swaplevel(0,1,1)\n",
    "btc_data.head()"
   ]
  },
  {
   "cell_type": "code",
   "execution_count": 98,
   "id": "ff6770d5-0f87-49e2-99dc-67e070430ef6",
   "metadata": {},
   "outputs": [
    {
     "data": {
      "text/plain": [
       "Date          object\n",
       "Open         float64\n",
       "High         float64\n",
       "Low          float64\n",
       "Close        float64\n",
       "Adj Close    float64\n",
       "Volume       float64\n",
       "dtype: object"
      ]
     },
     "execution_count": 98,
     "metadata": {},
     "output_type": "execute_result"
    }
   ],
   "source": [
    "btc_data.dtypes"
   ]
  },
  {
   "cell_type": "code",
   "execution_count": 108,
   "id": "925b7e12-c6fb-4714-965b-89a7d3ee106b",
   "metadata": {},
   "outputs": [
    {
     "data": {
      "text/html": [
       "<div>\n",
       "<style scoped>\n",
       "    .dataframe tbody tr th:only-of-type {\n",
       "        vertical-align: middle;\n",
       "    }\n",
       "\n",
       "    .dataframe tbody tr th {\n",
       "        vertical-align: top;\n",
       "    }\n",
       "\n",
       "    .dataframe thead th {\n",
       "        text-align: right;\n",
       "    }\n",
       "</style>\n",
       "<table border=\"1\" class=\"dataframe\">\n",
       "  <thead>\n",
       "    <tr style=\"text-align: right;\">\n",
       "      <th></th>\n",
       "      <th>Date</th>\n",
       "      <th>Open</th>\n",
       "      <th>High</th>\n",
       "      <th>Low</th>\n",
       "      <th>Close</th>\n",
       "      <th>Adj Close</th>\n",
       "      <th>Volume</th>\n",
       "      <th>pct_change</th>\n",
       "    </tr>\n",
       "  </thead>\n",
       "  <tbody>\n",
       "    <tr>\n",
       "      <th>1</th>\n",
       "      <td>2014-09-18</td>\n",
       "      <td>456.859985</td>\n",
       "      <td>456.859985</td>\n",
       "      <td>413.104004</td>\n",
       "      <td>424.440002</td>\n",
       "      <td>424.440002</td>\n",
       "      <td>34483200.0</td>\n",
       "      <td>-0.071926</td>\n",
       "    </tr>\n",
       "    <tr>\n",
       "      <th>2</th>\n",
       "      <td>2014-09-19</td>\n",
       "      <td>424.102997</td>\n",
       "      <td>427.834991</td>\n",
       "      <td>384.532013</td>\n",
       "      <td>394.795990</td>\n",
       "      <td>394.795990</td>\n",
       "      <td>37919700.0</td>\n",
       "      <td>-0.069843</td>\n",
       "    </tr>\n",
       "    <tr>\n",
       "      <th>3</th>\n",
       "      <td>2014-09-20</td>\n",
       "      <td>394.673004</td>\n",
       "      <td>423.295990</td>\n",
       "      <td>389.882996</td>\n",
       "      <td>408.903992</td>\n",
       "      <td>408.903992</td>\n",
       "      <td>36863600.0</td>\n",
       "      <td>0.035735</td>\n",
       "    </tr>\n",
       "    <tr>\n",
       "      <th>4</th>\n",
       "      <td>2014-09-21</td>\n",
       "      <td>408.084991</td>\n",
       "      <td>412.425995</td>\n",
       "      <td>393.181000</td>\n",
       "      <td>398.821014</td>\n",
       "      <td>398.821014</td>\n",
       "      <td>26580100.0</td>\n",
       "      <td>-0.024659</td>\n",
       "    </tr>\n",
       "    <tr>\n",
       "      <th>5</th>\n",
       "      <td>2014-09-22</td>\n",
       "      <td>399.100006</td>\n",
       "      <td>406.915985</td>\n",
       "      <td>397.130005</td>\n",
       "      <td>402.152008</td>\n",
       "      <td>402.152008</td>\n",
       "      <td>24127600.0</td>\n",
       "      <td>0.008352</td>\n",
       "    </tr>\n",
       "  </tbody>\n",
       "</table>\n",
       "</div>"
      ],
      "text/plain": [
       "         Date        Open        High         Low       Close   Adj Close  \\\n",
       "1  2014-09-18  456.859985  456.859985  413.104004  424.440002  424.440002   \n",
       "2  2014-09-19  424.102997  427.834991  384.532013  394.795990  394.795990   \n",
       "3  2014-09-20  394.673004  423.295990  389.882996  408.903992  408.903992   \n",
       "4  2014-09-21  408.084991  412.425995  393.181000  398.821014  398.821014   \n",
       "5  2014-09-22  399.100006  406.915985  397.130005  402.152008  402.152008   \n",
       "\n",
       "       Volume  pct_change  \n",
       "1  34483200.0   -0.071926  \n",
       "2  37919700.0   -0.069843  \n",
       "3  36863600.0    0.035735  \n",
       "4  26580100.0   -0.024659  \n",
       "5  24127600.0    0.008352  "
      ]
     },
     "metadata": {},
     "output_type": "display_data"
    }
   ],
   "source": [
    "btc_data_pct = btc_data\n",
    "btc_data_pct[\"pct_change\"] = btc_data[\"Close\"].pct_change()\n",
    "btc_data_pct.dropna(inplace = True)\n",
    "display(btc_data_pct.head())"
   ]
  },
  {
   "cell_type": "code",
   "execution_count": 109,
   "id": "ea848781-cc85-4278-9c0a-68dce0e91861",
   "metadata": {},
   "outputs": [
    {
     "data": {
      "text/plain": [
       "count    2598.000000\n",
       "mean        0.002658\n",
       "std         0.039113\n",
       "min        -0.371695\n",
       "25%        -0.012831\n",
       "50%         0.002032\n",
       "75%         0.018448\n",
       "max         0.252472\n",
       "Name: pct_change, dtype: float64"
      ]
     },
     "metadata": {},
     "output_type": "display_data"
    },
    {
     "data": {
      "text/plain": [
       "<AxesSubplot:ylabel='Frequency'>"
      ]
     },
     "execution_count": 109,
     "metadata": {},
     "output_type": "execute_result"
    },
    {
     "data": {
      "image/png": "[encoded data removed]",
      "text/plain": [
       "<Figure size 432x288 with 1 Axes>"
      ]
     },
     "metadata": {
      "needs_background": "light"
     },
     "output_type": "display_data"
    }
   ],
   "source": [
    "display(btc_data_pct[\"pct_change\"].describe())\n",
    "btc_data_pct[\"pct_change\"].plot.hist()\n",
    "#This does not look like a normal distribution so I do not recommend a Monte Carlo Simulation?"
   ]
  },
  {
   "cell_type": "code",
   "execution_count": 115,
   "id": "8d683dde-9eb9-4741-8789-eabd7968cafb",
   "metadata": {},
   "outputs": [
    {
     "ename": "IndexError",
     "evalue": "Too many levels: Index has only 1 level, not 2",
     "output_type": "error",
     "traceback": [
      "\u001b[1;31m---------------------------------------------------------------------------\u001b[0m",
      "\u001b[1;31mIndexError\u001b[0m                                Traceback (most recent call last)",
      "\u001b[1;32m<ipython-input-115-2efcca16df2d>\u001b[0m in \u001b[0;36m<module>\u001b[1;34m\u001b[0m\n\u001b[1;32m----> 1\u001b[1;33m MC_btc = MCSimulation(portfolio_data = btc_data,\n\u001b[0m\u001b[0;32m      2\u001b[0m                 \u001b[0mnum_simulation\u001b[0m\u001b[1;33m=\u001b[0m \u001b[1;36m1000\u001b[0m\u001b[1;33m,\u001b[0m\u001b[1;33m\u001b[0m\u001b[1;33m\u001b[0m\u001b[0m\n\u001b[0;32m      3\u001b[0m                 num_trading_days= 252*10)\n",
      "\u001b[1;32m~\\Desktop\\fintech bootcamp\\Fintech-Workspace\\Project1 - Copy\\MCForecastTools.py\u001b[0m in \u001b[0;36m__init__\u001b[1;34m(self, portfolio_data, weights, num_simulation, num_trading_days)\u001b[0m\n\u001b[0;32m     59\u001b[0m \u001b[1;33m\u001b[0m\u001b[0m\n\u001b[0;32m     60\u001b[0m         \u001b[1;31m# Calculate daily return if not within dataframe\u001b[0m\u001b[1;33m\u001b[0m\u001b[1;33m\u001b[0m\u001b[1;33m\u001b[0m\u001b[0m\n\u001b[1;32m---> 61\u001b[1;33m         \u001b[1;32mif\u001b[0m \u001b[1;32mnot\u001b[0m \u001b[1;34m\"daily_return\"\u001b[0m \u001b[1;32min\u001b[0m \u001b[0mportfolio_data\u001b[0m\u001b[1;33m.\u001b[0m\u001b[0mcolumns\u001b[0m\u001b[1;33m.\u001b[0m\u001b[0mget_level_values\u001b[0m\u001b[1;33m(\u001b[0m\u001b[1;36m1\u001b[0m\u001b[1;33m)\u001b[0m\u001b[1;33m.\u001b[0m\u001b[0munique\u001b[0m\u001b[1;33m(\u001b[0m\u001b[1;33m)\u001b[0m\u001b[1;33m:\u001b[0m\u001b[1;33m\u001b[0m\u001b[1;33m\u001b[0m\u001b[0m\n\u001b[0m\u001b[0;32m     62\u001b[0m             \u001b[0mclose_df\u001b[0m \u001b[1;33m=\u001b[0m \u001b[0mportfolio_data\u001b[0m\u001b[1;33m.\u001b[0m\u001b[0mxs\u001b[0m\u001b[1;33m(\u001b[0m\u001b[1;34m'close'\u001b[0m\u001b[1;33m,\u001b[0m\u001b[0mlevel\u001b[0m\u001b[1;33m=\u001b[0m\u001b[1;36m1\u001b[0m\u001b[1;33m,\u001b[0m\u001b[0maxis\u001b[0m\u001b[1;33m=\u001b[0m\u001b[1;36m1\u001b[0m\u001b[1;33m)\u001b[0m\u001b[1;33m.\u001b[0m\u001b[0mpct_change\u001b[0m\u001b[1;33m(\u001b[0m\u001b[1;33m)\u001b[0m\u001b[1;33m\u001b[0m\u001b[1;33m\u001b[0m\u001b[0m\n\u001b[0;32m     63\u001b[0m             \u001b[0mtickers\u001b[0m \u001b[1;33m=\u001b[0m \u001b[0mportfolio_data\u001b[0m\u001b[1;33m.\u001b[0m\u001b[0mcolumns\u001b[0m\u001b[1;33m.\u001b[0m\u001b[0mget_level_values\u001b[0m\u001b[1;33m(\u001b[0m\u001b[1;36m0\u001b[0m\u001b[1;33m)\u001b[0m\u001b[1;33m.\u001b[0m\u001b[0munique\u001b[0m\u001b[1;33m(\u001b[0m\u001b[1;33m)\u001b[0m\u001b[1;33m\u001b[0m\u001b[1;33m\u001b[0m\u001b[0m\n",
      "\u001b[1;32m~\\anaconda3\\lib\\site-packages\\pandas\\core\\indexes\\base.py\u001b[0m in \u001b[0;36m_get_level_values\u001b[1;34m(self, level)\u001b[0m\n\u001b[0;32m   1554\u001b[0m         \u001b[0mIndex\u001b[0m\u001b[1;33m(\u001b[0m\u001b[1;33m[\u001b[0m\u001b[1;34m'a'\u001b[0m\u001b[1;33m,\u001b[0m \u001b[1;34m'b'\u001b[0m\u001b[1;33m,\u001b[0m \u001b[1;34m'c'\u001b[0m\u001b[1;33m]\u001b[0m\u001b[1;33m,\u001b[0m \u001b[0mdtype\u001b[0m\u001b[1;33m=\u001b[0m\u001b[1;34m'object'\u001b[0m\u001b[1;33m)\u001b[0m\u001b[1;33m\u001b[0m\u001b[1;33m\u001b[0m\u001b[0m\n\u001b[0;32m   1555\u001b[0m         \"\"\"\n\u001b[1;32m-> 1556\u001b[1;33m         \u001b[0mself\u001b[0m\u001b[1;33m.\u001b[0m\u001b[0m_validate_index_level\u001b[0m\u001b[1;33m(\u001b[0m\u001b[0mlevel\u001b[0m\u001b[1;33m)\u001b[0m\u001b[1;33m\u001b[0m\u001b[1;33m\u001b[0m\u001b[0m\n\u001b[0m\u001b[0;32m   1557\u001b[0m         \u001b[1;32mreturn\u001b[0m \u001b[0mself\u001b[0m\u001b[1;33m\u001b[0m\u001b[1;33m\u001b[0m\u001b[0m\n\u001b[0;32m   1558\u001b[0m \u001b[1;33m\u001b[0m\u001b[0m\n",
      "\u001b[1;32m~\\anaconda3\\lib\\site-packages\\pandas\\core\\indexes\\base.py\u001b[0m in \u001b[0;36m_validate_index_level\u001b[1;34m(self, level)\u001b[0m\n\u001b[0;32m   1473\u001b[0m                 )\n\u001b[0;32m   1474\u001b[0m             \u001b[1;32melif\u001b[0m \u001b[0mlevel\u001b[0m \u001b[1;33m>\u001b[0m \u001b[1;36m0\u001b[0m\u001b[1;33m:\u001b[0m\u001b[1;33m\u001b[0m\u001b[1;33m\u001b[0m\u001b[0m\n\u001b[1;32m-> 1475\u001b[1;33m                 raise IndexError(\n\u001b[0m\u001b[0;32m   1476\u001b[0m                     \u001b[1;34mf\"Too many levels: Index has only 1 level, not {level + 1}\"\u001b[0m\u001b[1;33m\u001b[0m\u001b[1;33m\u001b[0m\u001b[0m\n\u001b[0;32m   1477\u001b[0m                 )\n",
      "\u001b[1;31mIndexError\u001b[0m: Too many levels: Index has only 1 level, not 2"
     ]
    }
   ],
   "source": [
    "MC_btc = MCSimulation(portfolio_data = btc_data, \n",
    "                      num_simulation= 1000,\n",
    "                      num_trading_days= 252*10)"
   ]
  },
  {
   "cell_type": "markdown",
   "id": "b6f2a079-e422-485e-9c11-742384efd4c5",
   "metadata": {},
   "source": [
    "## Option 3: Keep the dividens as cash and see where Microsoft (MSFT) could be without reinvesting"
   ]
  },
  {
   "cell_type": "markdown",
   "id": "7b9679cf-fe2c-497e-a475-cd2a8bc35f04",
   "metadata": {},
   "source": [
    "### Create the Monte Carlo Simulation that will include reinstment of dividend on a yearly basis\n",
    "\n",
    "In this section, we will use the MCForecastTools library to create a Monte Carlo simulation for Microsoft (MSFT)\n",
    "\n",
    "1. Make an API call via the Alpaca SDK to get 5 years of historical closing prices for Microsoft (MSFT).\n",
    "\n",
    "2. Run a Monte Carlo simulations of 1000 samples for 10, 20 and 30 years for the portfolio, and then plot the results. \n",
    "\n",
    "3. Plot the probability distribution of the Monte Carlo simulations. Plot the probability distribution of the Monte Carlo simulation.\n",
    "\n",
    "4. Generate the summary statistics for the Monte Carlo simulation.\n",
    "\n",
    "5. Add the total accumulation of dividend. \n"
   ]
  },
  {
   "cell_type": "code",
   "execution_count": null,
   "id": "3d46417e-a423-4ff9-88d6-c6f95c6607d6",
   "metadata": {},
   "outputs": [],
   "source": []
  },
  {
   "cell_type": "code",
   "execution_count": null,
   "id": "0eb8d590-63d3-4eef-b320-4f1ca6d1ccd4",
   "metadata": {},
   "outputs": [],
   "source": []
  },
  {
   "cell_type": "code",
   "execution_count": null,
   "id": "75d5459d-a516-4fca-839d-0784fb5543e3",
   "metadata": {},
   "outputs": [],
   "source": []
  },
  {
   "cell_type": "code",
   "execution_count": null,
   "id": "f786afd6-2a4a-4342-ab87-1756198becc2",
   "metadata": {},
   "outputs": [],
   "source": [
    "\n",
    "class stock():\n",
    "    def __init__(self,name,wkn):\n",
    "        self.name = name\n",
    "        self.wkn = wkn\n",
    "\n",
    "    def set_div_values(self,div_yield,div_growth,share_growth_pa,price):\n",
    "        self.price = price\n",
    "        self.div_yield = div_yield / 100\n",
    "        self.div_growth = div_growth / 100\n",
    "        self.share_growth_pa = share_growth_pa / 100\n",
    "        self.div = price * div_yield / 100\n",
    "        self.div_sum = 0\n",
    "\n",
    "    # calc compounded dividends p.a grown over time\n",
    "    def calc_div(self,time, reinvest = True):\n",
    "\n",
    "        dividends = dict()\n",
    "        dividends[0] = [self.div]\n",
    "\n",
    "        if reinvest is True:\n",
    "            for t in range(1,time+1):\n",
    "                temp = []\n",
    "                for i in range(t):\n",
    "                    temp.append(dividends[t-1][i]*(1+self.div_growth))\n",
    "\n",
    "                div_sum_reinvest = sum(dividends[t - 1])\n",
    "                temp.append(div_sum_reinvest*self.div_yield)\n",
    "                dividends[t] = temp\n",
    "\n",
    "            n = len(dividends.keys())-1\n",
    "            div_pa = sum(dividends[n])\n",
    "\n",
    "        else:\n",
    "            div_pa = self.div\n",
    "            for t in range(1,time+1):\n",
    "                div_pa = div_pa * (1+self.div_growth)\n",
    "                #print(f\"{t}:  Div: {div} \")\n",
    "\n",
    "        return div_pa\n",
    "\n",
    "    # calc compount interest\n",
    "    def calc_endcap(self,time):\n",
    "        return self.price * pow(1+self.share_growth_pa,time)\n",
    "\n",
    "\n",
    "coke = stock(\"Coca Cola\",\"850663\")\n",
    "coke.set_div_values(3.1,5,5,100)\n",
    "\n",
    "coke_dividends_re = coke.calc_div(20)\n",
    "coke_dividends = coke.calc_div(20,False)\n",
    "coke_endcap = coke.calc_endcap(20)\n",
    "print(f\"dividends reinveste:\\t{coke_dividends_re}\\ndividends not reinveste:\\t{coke_dividends}\\nendcap: \\t{coke_endcap}\") "
   ]
  }
 ],
 "metadata": {
  "kernelspec": {
   "display_name": "Python 3",
   "language": "python",
   "name": "python3"
  },
  "language_info": {
   "codemirror_mode": {
    "name": "ipython",
    "version": 3
   },
   "file_extension": ".py",
   "mimetype": "text/x-python",
   "name": "python",
   "nbconvert_exporter": "python",
   "pygments_lexer": "ipython3",
   "version": "3.8.8"
  }
 },
 "nbformat": 4,
 "nbformat_minor": 5
}
