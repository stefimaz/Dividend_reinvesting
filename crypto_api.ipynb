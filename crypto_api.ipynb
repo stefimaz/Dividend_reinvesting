{
 "cells": [
  {
   "cell_type": "markdown",
   "id": "19b65183-78e2-4041-9dde-7308788a59bc",
   "metadata": {},
   "source": []
  },
  {
   "cell_type": "code",
   "execution_count": null,
   "id": "7be9bfe0-caa3-4491-9d4c-1800f25177e4",
   "metadata": {},
   "outputs": [],
   "source": [
    "from binance.client import Client\n",
    "import os , csv\n",
    "from dotenv import load_dotenv\n",
    "\n",
    "import pandas as pd\n",
    "from datetime import timedelta, datetime\n"
   ]
  },
  {
   "cell_type": "code",
   "execution_count": 29,
   "id": "55423975-015c-4c53-a995-e11c97a2464e",
   "metadata": {},
   "outputs": [
    {
     "name": "stdout",
     "output_type": "stream",
     "text": [
      "[        nan         nan         nan ... 34.68614494 44.19044074\n",
      " 46.23780388]\n"
     ]
    }
   ],
   "source": [
    "import numpy\n",
    "import talib\n",
    "from numpy import genfromtxt\n",
    "\n",
    "my_data = genfromtxt('eth_usd_historical.csv', delimiter= ',')\n",
    "\n",
    "#print(my_data)\n",
    "\n",
    "close = my_data[:,4]\n",
    "\n",
    "rsi = talib.RSI(close)\n",
    "\n",
    "print(rsi)"
   ]
  },
  {
   "cell_type": "code",
   "execution_count": null,
   "id": "0f5f938a-7476-43c9-bd0c-a6dfa5246c3b",
   "metadata": {},
   "outputs": [],
   "source": [
    "close = numpy.random.random(100)\n",
    "\n",
    "moving_average = talib.SMA(close, timeperiod=10)\n",
    "\n",
    "print(moving_average)\n",
    "\n",
    "\n",
    "\n",
    "print(rsi)"
   ]
  },
  {
   "cell_type": "code",
   "execution_count": null,
   "id": "2af4f099-1f38-408d-9943-b5be192a71c0",
   "metadata": {},
   "outputs": [],
   "source": []
  },
  {
   "cell_type": "code",
   "execution_count": null,
   "id": "54d427cd-5d2c-4cdc-b294-77f4f766d5e5",
   "metadata": {},
   "outputs": [],
   "source": []
  },
  {
   "cell_type": "code",
   "execution_count": null,
   "id": "2c8765c0-7317-470a-b7f6-ab26065faa5a",
   "metadata": {},
   "outputs": [],
   "source": []
  },
  {
   "cell_type": "markdown",
   "id": "b947edee-eb42-4964-b8dd-c4337101f72a",
   "metadata": {},
   "source": [
    "adding something to it"
   ]
  },
  {
   "cell_type": "code",
   "execution_count": null,
   "id": "6c18401f-7fb8-4893-aa69-6d640658cb05",
   "metadata": {},
   "outputs": [],
   "source": []
  },
  {
   "cell_type": "code",
   "execution_count": null,
   "id": "c224d78e-db19-461d-8a00-07c53ce8cd07",
   "metadata": {},
   "outputs": [],
   "source": [
    "\n",
    "candles = client.get_klines(symbol= 'ETHUSDT', interval= Client.KLINE_INTERVAL_1DAY)\n",
    "\n",
    "eth_file = open('eth_usd_historical.csv', 'w', newline='')\n",
    "\n",
    "candlestick_writer = csv.writer(eth_file, delimiter=',',)    \n",
    "   \n",
    "\n",
    "candlesticks = client.get_historical_klines(\"ETHUSDT\", Client.KLINE_INTERVAL_1DAY, \"2015.01.01\", \"2021.10.29\")\n",
    "\n",
    "for candlestick in candlesticks:\n",
    "    candlestick_writer.writerow(candlestick)"
   ]
  }
 ],
 "metadata": {
  "kernelspec": {
   "display_name": "Python (dev)",
   "language": "python",
   "name": "dev"
  },
  "language_info": {
   "codemirror_mode": {
    "name": "ipython",
    "version": 3
   },
   "file_extension": ".py",
   "mimetype": "text/x-python",
   "name": "python",
   "nbconvert_exporter": "python",
   "pygments_lexer": "ipython3",
   "version": "3.7.7"
  }
 },
 "nbformat": 4,
 "nbformat_minor": 5
}
