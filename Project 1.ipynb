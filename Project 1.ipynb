{
 "cells": [
  {
   "cell_type": "markdown",
   "id": "133cc0a4-6394-4e20-988e-11c55bd00f69",
   "metadata": {},
   "source": [
    "# The Power of Dividend Reinvestment with APIs, CSV and Montecarlo Simulations\n",
    "\n",
    "Microsoft and Bitcoin will be used in this analysis. \n",
    "Gather historical data over 5 year period of time using one stock (MSFT) and one crypto currencies(BTC).\n",
    " \n",
    "We will provide 3 different scenarios: \n",
    "1. Dividend reinvested in MSFT over 10, 20 and 30 Year period.\n",
    "2. Dividend reinvested in Bitcoin over 10, 20 and 30 Year period.\n",
    "3. Dividend not reinvested. \n",
    "\n",
    "we will use the information from the Monte Carlo simulation to answer questions about the portfolio."
   ]
  },
  {
   "cell_type": "code",
   "execution_count": 166,
   "id": "2c3d9419-4b89-4bba-a2cb-8be895e63cb3",
   "metadata": {},
   "outputs": [],
   "source": [
    "# Import the required libraries and dependencies\n",
    "import os\n",
    "from pathlib import Path\n",
    "import requests\n",
    "import json\n",
    "import pandas as pd\n",
    "from dotenv import load_dotenv\n",
    "import alpaca_trade_api as tradeapi\n",
    "import hvplot.pandas\n",
    "from MCForecastTools import MCSimulation\n",
    "\n",
    "%matplotlib inline"
   ]
  },
  {
   "cell_type": "code",
   "execution_count": 167,
   "id": "e500b0bf-fdb5-4746-be43-33d8313ea0b4",
   "metadata": {},
   "outputs": [
    {
     "data": {
      "text/plain": [
       "True"
      ]
     },
     "execution_count": 167,
     "metadata": {},
     "output_type": "execute_result"
    }
   ],
   "source": [
    "# Load the environment variables from the .env file\n",
    "# by calling the load_dotenv function\n",
    "load_dotenv()"
   ]
  },
  {
   "cell_type": "markdown",
   "id": "8252b62b-e472-48b8-86f7-861af07b26eb",
   "metadata": {},
   "source": [
    "## Evaluate the Stock Holdings by Using the Alpaca SDK\n",
    "\n",
    "In this section, we will determine the current value of the chosen stock holdings. We will make an API call to Alpaca via the Alpaca SDK to get the current closing prices of Microsoft (ticker: MSFT). For the prototype, assume that we hold 300 shares of MSFT, which represents the stock portfolio.\n",
    "\n",
    "1. Create an environment file (`.env`) to store the values of your Alpaca API key and Alpaca secret key.\n",
    "\n",
    "2. Set the variables for the Alpaca API and secret keys. Using the Alpaca SDK, create the Alpaca `tradeapi.REST` object. In this object, include the parameters for the Alpaca API key, the secret key, and the version number.\n",
    "\n",
    "3. Set the following parameters for the Alpaca API call:\n",
    "\n",
    "    - `tickers`: Use the tickers for Microsof.\n",
    "\n",
    "    - `timeframe`: Use a time frame of one day.\n",
    "\n",
    "    - `start_date` and `end_date`: Use the same date for these parameters, and format them with the date of the previous weekday. This is because you want the one closing price for the most-recent trading day.\n",
    "\n",
    "4. Get the current closing prices for `MSFT` by using the Alpaca `get_barset` function. Format the response as a Pandas DataFrame by including the `df` property at the end of the `get_barset` function.\n",
    "\n",
    "5. Navigating the Alpaca response DataFrame, select the `MSFT` closing prices, and store as variables.\n",
    "\n",
    "6. Calculate the value, in US dollars, of the current amount of shares of the stock portfolio, and print the results.\n"
   ]
  },
  {
   "cell_type": "markdown",
   "id": "20c2e6ab-d802-4387-9755-69fa7cc91d26",
   "metadata": {},
   "source": [
    "Review the total number of shares held in our starting portfolio (SPY)"
   ]
  },
  {
   "cell_type": "code",
   "execution_count": 168,
   "id": "3fe3e5a9-56a7-4fea-956f-3dd4f46ef3b2",
   "metadata": {},
   "outputs": [],
   "source": [
    "# Current amount of shares held in the stock (MSFT) portfolio.\n",
    "msft_shares = 300 "
   ]
  },
  {
   "cell_type": "markdown",
   "id": "7ca1763d-46ba-44f3-9a6c-47e5a2ff50a4",
   "metadata": {},
   "source": [
    "#### 1: Create an environment file (`.env`) to store the values of your Alpaca API key and Alpaca secret key."
   ]
  },
  {
   "cell_type": "markdown",
   "id": "5860734d-ce42-4443-96d4-8fe92505bbac",
   "metadata": {},
   "source": [
    "#### 2. Set the variables for the Alpaca API and secret keys. Using the Alpaca SDK, create the Alpaca `tradeapi.REST` object. In this object, include the parameters for the Alpaca API key, the secret key, and the version number."
   ]
  },
  {
   "cell_type": "code",
   "execution_count": 169,
   "id": "05aca16f-3315-43fe-9fe6-98cbba783627",
   "metadata": {},
   "outputs": [],
   "source": [
    "# Set Alpaca API key and secret\n",
    "alpaca_api_key = os.getenv(\"ALPACA_API_KEY\")\n",
    "alpaca_secret_key = os.getenv(\"ALPACA_SECRET_KEY\")"
   ]
  },
  {
   "cell_type": "code",
   "execution_count": 170,
   "id": "53adba14-82c7-4bf0-ba9f-186cd05c4d33",
   "metadata": {},
   "outputs": [],
   "source": [
    "# Create the Alpaca API object\n",
    "alpaca = tradeapi.REST(\n",
    "    alpaca_api_key,\n",
    "    alpaca_secret_key,\n",
    "    api_version=\"v2\")"
   ]
  },
  {
   "cell_type": "markdown",
   "id": "3a951eb4-4431-487d-9a3a-6c95340a93f7",
   "metadata": {},
   "source": [
    "#### 3: Set the following parameters for the Alpaca API call:\n",
    "\n",
    "- `tickers`: Use the tickers for the member’s stock and bond holdings.\n",
    "\n",
    "- `timeframe`: Use a time frame of one day.\n",
    "\n",
    "- `start_date` and `end_date`: Use the same date for these parameters, and format them with the date of the previous weekday. This is because you want the one closing price for the most-recent trading day."
   ]
  },
  {
   "cell_type": "code",
   "execution_count": 171,
   "id": "5434b43c-d845-4f4a-8b74-05fd758ab331",
   "metadata": {},
   "outputs": [],
   "source": [
    "# Set the tickers\n",
    "tickers = [\"MSFT\"]"
   ]
  },
  {
   "cell_type": "code",
   "execution_count": 172,
   "id": "cabcf2b3-8bb4-464c-9166-e557505d6900",
   "metadata": {},
   "outputs": [],
   "source": [
    "# Set timeframe to one day ('1D') for the Alpaca API\n",
    "timeframe = \"1D\""
   ]
  },
  {
   "cell_type": "code",
   "execution_count": 173,
   "id": "ca16dd56-93c4-490e-9860-a964f53200c2",
   "metadata": {},
   "outputs": [],
   "source": [
    "# Format current date as ISO format\n",
    "start_date = pd.Timestamp(\"2021-10-29\", tz=\"America/New_York\").isoformat()\n",
    "end_date = pd.Timestamp(\"2021-10-29\", tz=\"America/New_York\").isoformat()"
   ]
  },
  {
   "cell_type": "markdown",
   "id": "597c8460-5b5d-44da-b2c5-1d795aecbd5d",
   "metadata": {},
   "source": [
    "#### 4: Get the current closing prices for `MSFT` by using the Alpaca `get_barset` function. Format the response as a Pandas DataFrame by including the `df` property at the end of the `get_barset` function."
   ]
  },
  {
   "cell_type": "code",
   "execution_count": 174,
   "id": "72a38466-a641-44aa-b3fd-210301e3e100",
   "metadata": {},
   "outputs": [
    {
     "data": {
      "text/html": [
       "<div>\n",
       "<style scoped>\n",
       "    .dataframe tbody tr th:only-of-type {\n",
       "        vertical-align: middle;\n",
       "    }\n",
       "\n",
       "    .dataframe tbody tr th {\n",
       "        vertical-align: top;\n",
       "    }\n",
       "\n",
       "    .dataframe thead tr th {\n",
       "        text-align: left;\n",
       "    }\n",
       "\n",
       "    .dataframe thead tr:last-of-type th {\n",
       "        text-align: right;\n",
       "    }\n",
       "</style>\n",
       "<table border=\"1\" class=\"dataframe\">\n",
       "  <thead>\n",
       "    <tr>\n",
       "      <th></th>\n",
       "      <th colspan=\"5\" halign=\"left\">MSFT</th>\n",
       "    </tr>\n",
       "    <tr>\n",
       "      <th></th>\n",
       "      <th>open</th>\n",
       "      <th>high</th>\n",
       "      <th>low</th>\n",
       "      <th>close</th>\n",
       "      <th>volume</th>\n",
       "    </tr>\n",
       "    <tr>\n",
       "      <th>time</th>\n",
       "      <th></th>\n",
       "      <th></th>\n",
       "      <th></th>\n",
       "      <th></th>\n",
       "      <th></th>\n",
       "    </tr>\n",
       "  </thead>\n",
       "  <tbody>\n",
       "    <tr>\n",
       "      <th>2021-10-29 00:00:00-04:00</th>\n",
       "      <td>324.14</td>\n",
       "      <td>332</td>\n",
       "      <td>323.9</td>\n",
       "      <td>331.64</td>\n",
       "      <td>26504382</td>\n",
       "    </tr>\n",
       "  </tbody>\n",
       "</table>\n",
       "</div>"
      ],
      "text/plain": [
       "                             MSFT                              \n",
       "                             open high    low   close    volume\n",
       "time                                                           \n",
       "2021-10-29 00:00:00-04:00  324.14  332  323.9  331.64  26504382"
      ]
     },
     "execution_count": 174,
     "metadata": {},
     "output_type": "execute_result"
    }
   ],
   "source": [
    "# Use the Alpaca get_barset function to get current closing prices the portfolio\n",
    "current_msft_price_df = alpaca.get_barset(\n",
    "    tickers,\n",
    "    timeframe,\n",
    "    start = start_date,\n",
    "    end = end_date\n",
    ").df\n",
    "\n",
    "# Review the first 5 rows of the Alpaca DataFrame\n",
    "current_msft_price_df.head()"
   ]
  },
  {
   "cell_type": "markdown",
   "id": "29e76750-af5a-4537-b599-ae58af73da5f",
   "metadata": {},
   "source": [
    "#### 5: Navigating the Alpaca response DataFrame, select the `MSFT` closing prices, and store them as variables."
   ]
  },
  {
   "cell_type": "code",
   "execution_count": 175,
   "id": "bcdcc5c6-d1e8-4a9c-be71-e55ec436dcbc",
   "metadata": {},
   "outputs": [
    {
     "name": "stdout",
     "output_type": "stream",
     "text": [
      "331.64\n"
     ]
    }
   ],
   "source": [
    "# Access the closing price for MSFT from the Alpaca DataFrame\n",
    "# Converting the value to a floating point number\n",
    "msft_close_price = float(current_msft_price_df[\"MSFT\"][\"close\"])\n",
    "\n",
    "# Print the MSFT closing price\n",
    "print(msft_close_price)"
   ]
  },
  {
   "cell_type": "markdown",
   "id": "b78d7ce6-fc48-4058-820a-e6cbbc1ad2d8",
   "metadata": {},
   "source": [
    "#### 6: Calculate the value, in US dollars, of the current amount of shares of the stock portfolio, and print the results."
   ]
  },
  {
   "cell_type": "code",
   "execution_count": 176,
   "id": "1a99d9da-abab-45d7-b194-1a404bbc1459",
   "metadata": {},
   "outputs": [
    {
     "name": "stdout",
     "output_type": "stream",
     "text": [
      "The portofolio has a value of: 99492.0\n"
     ]
    }
   ],
   "source": [
    "# Calculate the current value of the portfolio\n",
    "msft_value = round(msft_shares * msft_close_price, 3)\n",
    "\n",
    "# Print the current value of the bond portfolio\n",
    "print(f\"The portofolio has a value of: {msft_value}\")\n"
   ]
  },
  {
   "cell_type": "markdown",
   "id": "458f402d-6887-4f69-924b-7851c45e862e",
   "metadata": {},
   "source": [
    "## Use the `read_csv` function and the `Path` module to read the `msft_dividends.csv` file into a Pandas DataFrame.  Review the first five rows of the DataFrame by using the `head` function."
   ]
  },
  {
   "cell_type": "code",
   "execution_count": 177,
   "id": "cb16aa5b-3bff-4d89-ac59-70fa28ac9fb9",
   "metadata": {},
   "outputs": [
    {
     "data": {
      "text/html": [
       "<div>\n",
       "<style scoped>\n",
       "    .dataframe tbody tr th:only-of-type {\n",
       "        vertical-align: middle;\n",
       "    }\n",
       "\n",
       "    .dataframe tbody tr th {\n",
       "        vertical-align: top;\n",
       "    }\n",
       "\n",
       "    .dataframe thead th {\n",
       "        text-align: right;\n",
       "    }\n",
       "</style>\n",
       "<table border=\"1\" class=\"dataframe\">\n",
       "  <thead>\n",
       "    <tr style=\"text-align: right;\">\n",
       "      <th></th>\n",
       "      <th>Announced</th>\n",
       "      <th>Period</th>\n",
       "      <th>Amount</th>\n",
       "      <th>Yield</th>\n",
       "      <th>Ex-Dividend</th>\n",
       "      <th>Record Date</th>\n",
       "      <th>Payable Date</th>\n",
       "    </tr>\n",
       "  </thead>\n",
       "  <tbody>\n",
       "    <tr>\n",
       "      <th>0</th>\n",
       "      <td>9/14/2021</td>\n",
       "      <td>quarterly</td>\n",
       "      <td>$0.62</td>\n",
       "      <td>0.83%</td>\n",
       "      <td>11/17/2021</td>\n",
       "      <td>11/18/2021</td>\n",
       "      <td>12/9/2021</td>\n",
       "    </tr>\n",
       "    <tr>\n",
       "      <th>1</th>\n",
       "      <td>6/16/2021</td>\n",
       "      <td>quarterly</td>\n",
       "      <td>$0.56</td>\n",
       "      <td>0.87%</td>\n",
       "      <td>8/18/2021</td>\n",
       "      <td>8/19/2021</td>\n",
       "      <td>9/9/2021</td>\n",
       "    </tr>\n",
       "    <tr>\n",
       "      <th>2</th>\n",
       "      <td>3/16/2021</td>\n",
       "      <td>quarterly</td>\n",
       "      <td>$0.56</td>\n",
       "      <td>0.94%</td>\n",
       "      <td>5/19/2021</td>\n",
       "      <td>5/20/2021</td>\n",
       "      <td>6/10/2021</td>\n",
       "    </tr>\n",
       "    <tr>\n",
       "      <th>3</th>\n",
       "      <td>12/2/2020</td>\n",
       "      <td>quarterly</td>\n",
       "      <td>$0.56</td>\n",
       "      <td>1.04%</td>\n",
       "      <td>2/17/2021</td>\n",
       "      <td>2/18/2021</td>\n",
       "      <td>3/11/2021</td>\n",
       "    </tr>\n",
       "    <tr>\n",
       "      <th>4</th>\n",
       "      <td>9/15/2020</td>\n",
       "      <td>quarterly</td>\n",
       "      <td>$0.56</td>\n",
       "      <td>1.07%</td>\n",
       "      <td>11/18/2020</td>\n",
       "      <td>11/19/2020</td>\n",
       "      <td>12/10/2020</td>\n",
       "    </tr>\n",
       "  </tbody>\n",
       "</table>\n",
       "</div>"
      ],
      "text/plain": [
       "  Announced      Period  Amount  Yield Ex-Dividend Record Date Payable Date\n",
       "0  9/14/2021  quarterly  $0.62   0.83%  11/17/2021  11/18/2021    12/9/2021\n",
       "1  6/16/2021  quarterly  $0.56   0.87%   8/18/2021   8/19/2021     9/9/2021\n",
       "2  3/16/2021  quarterly  $0.56   0.94%   5/19/2021   5/20/2021    6/10/2021\n",
       "3  12/2/2020  quarterly  $0.56   1.04%   2/17/2021   2/18/2021    3/11/2021\n",
       "4  9/15/2020  quarterly  $0.56   1.07%  11/18/2020  11/19/2020   12/10/2020"
      ]
     },
     "execution_count": 177,
     "metadata": {},
     "output_type": "execute_result"
    }
   ],
   "source": [
    "# Import the data by reading in the CSV file\n",
    "# Review the first 5 rows of the DataFrame\n",
    "msft_div = pd.read_csv(Path(\"Resources/msft_dividends.csv\"))\n",
    "\n",
    "msft_div.head()"
   ]
  },
  {
   "cell_type": "markdown",
   "id": "8211f6c6-6e7d-4811-aefe-446fc6d0d44f",
   "metadata": {},
   "source": [
    "#### Use the `str.replace` function to remove the dollar signs ($) from the values in the Amount column."
   ]
  },
  {
   "cell_type": "code",
   "execution_count": 180,
   "id": "2385a7e8-8e87-48cc-8a77-a717c0bee949",
   "metadata": {},
   "outputs": [],
   "source": [
    "# Use the str.replace function to remove the percent sign, %\n",
    "msft_div.loc[:, \"Yield\"]= msft_div.loc[:, \"Yield\"].str.replace(\"%\", \"\")"
   ]
  },
  {
   "cell_type": "markdown",
   "id": "770ab75a-2ca8-46b2-beec-56cafe9ccc43",
   "metadata": {},
   "source": [
    "#### Convert the data type of the column to a `float`."
   ]
  },
  {
   "cell_type": "code",
   "execution_count": 181,
   "id": "48f732f2-a6c3-47e7-9f23-a563b16b6822",
   "metadata": {},
   "outputs": [
    {
     "data": {
      "text/plain": [
       "Announced        object\n",
       "Period           object\n",
       "Amount           object\n",
       "Yield           float64\n",
       "Ex-Dividend      object\n",
       "Record Date      object\n",
       "Payable Date     object\n",
       "dtype: object"
      ]
     },
     "execution_count": 181,
     "metadata": {},
     "output_type": "execute_result"
    }
   ],
   "source": [
    "# Convert the data type to a float\n",
    "msft_div.loc[:, \"Yield\"]= msft_div.loc[:, \"Yield\"].astype(\"float\")\n",
    "\n",
    "msft_div.dtypes"
   ]
  },
  {
   "cell_type": "markdown",
   "id": "aa11118b-a77e-465b-9b76-be0308f462bf",
   "metadata": {},
   "source": [
    "#### Choose columns of data on which to focus our analysis.\n",
    "\n",
    "Select the data to analyze. Use `loc` to select the following columns of data:\n",
    "* Yield"
   ]
  },
  {
   "cell_type": "code",
   "execution_count": 183,
   "id": "233e31ae-e07d-4f1b-b7ae-baed06759273",
   "metadata": {},
   "outputs": [
    {
     "data": {
      "text/plain": [
       "0    0.83\n",
       "1    0.87\n",
       "2    0.94\n",
       "3    1.04\n",
       "4    1.07\n",
       "Name: Yield, dtype: float64"
      ]
     },
     "execution_count": 183,
     "metadata": {},
     "output_type": "execute_result"
    }
   ],
   "source": [
    "# Use loc to select `Yield` from the DataFrame\n",
    "msft_div_slices = msft_div.loc[:, \"Yield\"]\n",
    "\n",
    "# Review the first five rows of the DataFrame\n",
    "msft_div_slices.head()"
   ]
  },
  {
   "cell_type": "markdown",
   "id": "3b56901f-e4ac-4d1b-a1fc-1593fad7f844",
   "metadata": {},
   "source": [
    "#### Calculating the average yearly % dividends for MSFT"
   ]
  },
  {
   "cell_type": "code",
   "execution_count": 185,
   "id": "eaab2651-f266-4856-9cf4-a97f78257abd",
   "metadata": {},
   "outputs": [
    {
     "name": "stdout",
     "output_type": "stream",
     "text": [
      "The average yearly dividend for Microsoft is: $1.84 per share.\n"
     ]
    }
   ],
   "source": [
    "# Calculating the average yearly % dividend for MSFT\n",
    "msft_div_slices_average = round(msft_div_slices.mean(),2)\n",
    "\n",
    "print(f\"The average yearly dividend for Microsoft is: {average_year_div_msft}%.\")"
   ]
  },
  {
   "cell_type": "markdown",
   "id": "c4edb5b6-d3e9-4255-b1d2-90e385c83b9b",
   "metadata": {},
   "source": [
    "### Evaluate the Bitcoin Value by Using the Requests Library\n",
    "\n",
    "In this section, we will collect the current prices for the Bitcoin cryptocurrencies by using the Python Requests library. To do all this, complete the following steps:\n",
    "\n",
    "1. Use the Requests library to get the current price (in US dollars) of Bitcoin (BTC) by using the API endpoints.\n",
    "\n",
    "2. Navigate the JSON response object to access the current price of Bitcoin, and store it in a variable.\n"
   ]
  },
  {
   "cell_type": "markdown",
   "id": "8afbad97-6703-4849-a42c-2fe39bf6dd7f",
   "metadata": {},
   "source": [
    "#### Review the endpoint URLs for the API calls to Free Crypto API in order to get the current pricing information for BTC."
   ]
  },
  {
   "cell_type": "code",
   "execution_count": 141,
   "id": "988b79d4-cd57-46d7-9986-06a83a444240",
   "metadata": {},
   "outputs": [],
   "source": [
    "# The Free Crypto API Call endpoint URLs for the held cryptocurrency assets\n",
    "btc_url = \"https://api.alternative.me/v2/ticker/Bitcoin/?convert=USD\""
   ]
  },
  {
   "cell_type": "markdown",
   "id": "fb46132c-10a1-4dd4-9c2f-01f1fe6e20bb",
   "metadata": {},
   "source": [
    "#### 1. Use the Requests library to get the current price (in US dollars) of Bitcoin (BTC) by using the API endpoints."
   ]
  },
  {
   "cell_type": "code",
   "execution_count": 142,
   "id": "58e248ba-1934-4328-831a-89fd95a33665",
   "metadata": {},
   "outputs": [
    {
     "name": "stdout",
     "output_type": "stream",
     "text": [
      "{\n",
      "    \"data\": {\n",
      "        \"1\": {\n",
      "            \"circulating_supply\": 18861862,\n",
      "            \"id\": 1,\n",
      "            \"last_updated\": 1635880109,\n",
      "            \"max_supply\": 21000000,\n",
      "            \"name\": \"Bitcoin\",\n",
      "            \"quotes\": {\n",
      "                \"USD\": {\n",
      "                    \"market_cap\": 1193506334566,\n",
      "                    \"percent_change_1h\": -0.180213483857481,\n",
      "                    \"percent_change_24h\": 3.87629306140436,\n",
      "                    \"percent_change_7d\": 0.106699306698335,\n",
      "                    \"percentage_change_1h\": -0.180213483857481,\n",
      "                    \"percentage_change_24h\": 3.87629306140436,\n",
      "                    \"percentage_change_7d\": 0.106699306698335,\n",
      "                    \"price\": 63296.0,\n",
      "                    \"volume_24h\": 36228991531\n",
      "                }\n",
      "            },\n",
      "            \"rank\": 1,\n",
      "            \"symbol\": \"BTC\",\n",
      "            \"total_supply\": 18861862,\n",
      "            \"website_slug\": \"bitcoin\"\n",
      "        }\n",
      "    },\n",
      "    \"metadata\": {\n",
      "        \"error\": null,\n",
      "        \"num_cryptocurrencies\": 3105,\n",
      "        \"timestamp\": 1635880109\n",
      "    }\n",
      "}\n"
     ]
    }
   ],
   "source": [
    "# Using the Python requests library, make an API call to access the current price of BTC\n",
    "btc_response = requests.get(btc_url).json()\n",
    "\n",
    "# Use the json.dumps function to review the response data from the API call\n",
    "# Use the indent and sort_keys parameters to make the response object readable\n",
    "print(json.dumps(btc_response, indent=4, sort_keys=True))"
   ]
  },
  {
   "cell_type": "markdown",
   "id": "a928119a-665c-47ad-b466-1a51c21b092a",
   "metadata": {},
   "source": [
    "#### 2.Navigate the JSON response object to access the current price of Bitcoin, and store it in a variable."
   ]
  },
  {
   "cell_type": "code",
   "execution_count": 143,
   "id": "1b05a397-05a0-4784-9240-eb98a0c69d75",
   "metadata": {},
   "outputs": [
    {
     "name": "stdout",
     "output_type": "stream",
     "text": [
      "The current price of BTC is $63296.00\n"
     ]
    }
   ],
   "source": [
    "# Navigate the BTC response object to access the current price of BTC\n",
    "btc_price = btc_response['data']['1']['quotes']['USD']['price']\n",
    "\n",
    "# Print the current price of BTC\n",
    "print(f'The current price of BTC is ${btc_price:.2f}')"
   ]
  },
  {
   "cell_type": "markdown",
   "id": "de6b5fc5-7c33-43d7-b27a-1631fd155929",
   "metadata": {},
   "source": [
    "## Option 1: Reinvesting the dividens into Microsoft (MSFT) "
   ]
  },
  {
   "cell_type": "markdown",
   "id": "a33f8b9c-7325-423e-80c3-cb34de898d22",
   "metadata": {},
   "source": [
    "### Create the Monte Carlo Simulation that will include reinstment of dividend on a yearly basis\n",
    "\n",
    "In this section, we will use the MCForecastTools library to create a Monte Carlo simulation for the purpose of reinvesting the dividend into the stock. \n",
    "\n",
    "1. Make an API call via the Alpaca SDK to get 5 years of historical closing prices for Microsft (MSFT).\n",
    "\n",
    "2. Run a Monte Carlo simulations of 1000 samples for 10, 20 and 30 years for the portfolio, and then plot the results. \n",
    "\n",
    "3. Plot the probability distribution of the Monte Carlo simulations. Plot the probability distribution of the Monte Carlo simulation.\n",
    "\n",
    "4. Generate the summary statistics for the Monte Carlo simulation.\n"
   ]
  },
  {
   "cell_type": "code",
   "execution_count": 144,
   "id": "341f8c48-b3c5-4d42-a1c4-42b3893c9897",
   "metadata": {},
   "outputs": [],
   "source": [
    "# impoprt New version of the Montecarlo\n",
    "from MCForecastTools_2Mod import MCSimulation"
   ]
  },
  {
   "cell_type": "markdown",
   "id": "9004f44b-7fe9-4e43-a0cb-7e92b3d28850",
   "metadata": {},
   "source": [
    "#### Step 1: Make an API call via the Alpaca SDK to get 5 years of historical closing prices for Microsoft."
   ]
  },
  {
   "cell_type": "code",
   "execution_count": 145,
   "id": "2990c5db-543b-4fa8-8b4c-7ed141a29477",
   "metadata": {},
   "outputs": [],
   "source": [
    "# Set start and end dates of 3 years back from your current date\n",
    "# Alternatively, you can use an end date of 2020-08-07 and work 3 years back from that date \n",
    "start_date = pd.Timestamp(\"2016-10-29\", tz=\"America/New_York\").isoformat() \n",
    "end_date = pd.Timestamp(\"2021-10-29\", tz=\"America/New_York\").isoformat()\n",
    "\n",
    "# Set number of rows to 1000 to retrieve the maximum amount of rows\n",
    "limit_rows = 1000"
   ]
  },
  {
   "cell_type": "code",
   "execution_count": 146,
   "id": "7f7cc05b-81f0-4e35-abf8-52d0530c0bf2",
   "metadata": {},
   "outputs": [
    {
     "data": {
      "text/html": [
       "<div>\n",
       "<style scoped>\n",
       "    .dataframe tbody tr th:only-of-type {\n",
       "        vertical-align: middle;\n",
       "    }\n",
       "\n",
       "    .dataframe tbody tr th {\n",
       "        vertical-align: top;\n",
       "    }\n",
       "\n",
       "    .dataframe thead tr th {\n",
       "        text-align: left;\n",
       "    }\n",
       "\n",
       "    .dataframe thead tr:last-of-type th {\n",
       "        text-align: right;\n",
       "    }\n",
       "</style>\n",
       "<table border=\"1\" class=\"dataframe\">\n",
       "  <thead>\n",
       "    <tr>\n",
       "      <th></th>\n",
       "      <th colspan=\"5\" halign=\"left\">MSFT</th>\n",
       "    </tr>\n",
       "    <tr>\n",
       "      <th></th>\n",
       "      <th>open</th>\n",
       "      <th>high</th>\n",
       "      <th>low</th>\n",
       "      <th>close</th>\n",
       "      <th>volume</th>\n",
       "    </tr>\n",
       "    <tr>\n",
       "      <th>time</th>\n",
       "      <th></th>\n",
       "      <th></th>\n",
       "      <th></th>\n",
       "      <th></th>\n",
       "      <th></th>\n",
       "    </tr>\n",
       "  </thead>\n",
       "  <tbody>\n",
       "    <tr>\n",
       "      <th>2017-11-09 00:00:00-05:00</th>\n",
       "      <td>84.11</td>\n",
       "      <td>84.270</td>\n",
       "      <td>82.90</td>\n",
       "      <td>84.09</td>\n",
       "      <td>16833031</td>\n",
       "    </tr>\n",
       "    <tr>\n",
       "      <th>2017-11-10 00:00:00-05:00</th>\n",
       "      <td>83.79</td>\n",
       "      <td>84.095</td>\n",
       "      <td>83.23</td>\n",
       "      <td>83.86</td>\n",
       "      <td>13902816</td>\n",
       "    </tr>\n",
       "    <tr>\n",
       "      <th>2017-11-13 00:00:00-05:00</th>\n",
       "      <td>83.66</td>\n",
       "      <td>83.940</td>\n",
       "      <td>83.46</td>\n",
       "      <td>83.93</td>\n",
       "      <td>9097109</td>\n",
       "    </tr>\n",
       "    <tr>\n",
       "      <th>2017-11-14 00:00:00-05:00</th>\n",
       "      <td>83.50</td>\n",
       "      <td>84.100</td>\n",
       "      <td>82.98</td>\n",
       "      <td>84.05</td>\n",
       "      <td>15246771</td>\n",
       "    </tr>\n",
       "    <tr>\n",
       "      <th>2017-11-15 00:00:00-05:00</th>\n",
       "      <td>83.47</td>\n",
       "      <td>83.690</td>\n",
       "      <td>82.69</td>\n",
       "      <td>82.99</td>\n",
       "      <td>14184790</td>\n",
       "    </tr>\n",
       "  </tbody>\n",
       "</table>\n",
       "</div>"
      ],
      "text/plain": [
       "                            MSFT                                \n",
       "                            open    high    low  close    volume\n",
       "time                                                            \n",
       "2017-11-09 00:00:00-05:00  84.11  84.270  82.90  84.09  16833031\n",
       "2017-11-10 00:00:00-05:00  83.79  84.095  83.23  83.86  13902816\n",
       "2017-11-13 00:00:00-05:00  83.66  83.940  83.46  83.93   9097109\n",
       "2017-11-14 00:00:00-05:00  83.50  84.100  82.98  84.05  15246771\n",
       "2017-11-15 00:00:00-05:00  83.47  83.690  82.69  82.99  14184790"
      ]
     },
     "metadata": {},
     "output_type": "display_data"
    },
    {
     "data": {
      "text/html": [
       "<div>\n",
       "<style scoped>\n",
       "    .dataframe tbody tr th:only-of-type {\n",
       "        vertical-align: middle;\n",
       "    }\n",
       "\n",
       "    .dataframe tbody tr th {\n",
       "        vertical-align: top;\n",
       "    }\n",
       "\n",
       "    .dataframe thead tr th {\n",
       "        text-align: left;\n",
       "    }\n",
       "\n",
       "    .dataframe thead tr:last-of-type th {\n",
       "        text-align: right;\n",
       "    }\n",
       "</style>\n",
       "<table border=\"1\" class=\"dataframe\">\n",
       "  <thead>\n",
       "    <tr>\n",
       "      <th></th>\n",
       "      <th colspan=\"5\" halign=\"left\">MSFT</th>\n",
       "    </tr>\n",
       "    <tr>\n",
       "      <th></th>\n",
       "      <th>open</th>\n",
       "      <th>high</th>\n",
       "      <th>low</th>\n",
       "      <th>close</th>\n",
       "      <th>volume</th>\n",
       "    </tr>\n",
       "    <tr>\n",
       "      <th>time</th>\n",
       "      <th></th>\n",
       "      <th></th>\n",
       "      <th></th>\n",
       "      <th></th>\n",
       "      <th></th>\n",
       "    </tr>\n",
       "  </thead>\n",
       "  <tbody>\n",
       "    <tr>\n",
       "      <th>2021-10-25 00:00:00-04:00</th>\n",
       "      <td>309.54</td>\n",
       "      <td>309.5400</td>\n",
       "      <td>306.4600</td>\n",
       "      <td>308.30</td>\n",
       "      <td>13455241</td>\n",
       "    </tr>\n",
       "    <tr>\n",
       "      <th>2021-10-26 00:00:00-04:00</th>\n",
       "      <td>310.81</td>\n",
       "      <td>312.3950</td>\n",
       "      <td>308.5967</td>\n",
       "      <td>309.71</td>\n",
       "      <td>20748654</td>\n",
       "    </tr>\n",
       "    <tr>\n",
       "      <th>2021-10-27 00:00:00-04:00</th>\n",
       "      <td>316.00</td>\n",
       "      <td>326.0973</td>\n",
       "      <td>316.0000</td>\n",
       "      <td>323.14</td>\n",
       "      <td>45222243</td>\n",
       "    </tr>\n",
       "    <tr>\n",
       "      <th>2021-10-28 00:00:00-04:00</th>\n",
       "      <td>324.32</td>\n",
       "      <td>324.8700</td>\n",
       "      <td>321.3601</td>\n",
       "      <td>324.32</td>\n",
       "      <td>21324602</td>\n",
       "    </tr>\n",
       "    <tr>\n",
       "      <th>2021-10-29 00:00:00-04:00</th>\n",
       "      <td>324.14</td>\n",
       "      <td>332.0000</td>\n",
       "      <td>323.9000</td>\n",
       "      <td>331.64</td>\n",
       "      <td>26504382</td>\n",
       "    </tr>\n",
       "  </tbody>\n",
       "</table>\n",
       "</div>"
      ],
      "text/plain": [
       "                             MSFT                                      \n",
       "                             open      high       low   close    volume\n",
       "time                                                                   \n",
       "2021-10-25 00:00:00-04:00  309.54  309.5400  306.4600  308.30  13455241\n",
       "2021-10-26 00:00:00-04:00  310.81  312.3950  308.5967  309.71  20748654\n",
       "2021-10-27 00:00:00-04:00  316.00  326.0973  316.0000  323.14  45222243\n",
       "2021-10-28 00:00:00-04:00  324.32  324.8700  321.3601  324.32  21324602\n",
       "2021-10-29 00:00:00-04:00  324.14  332.0000  323.9000  331.64  26504382"
      ]
     },
     "metadata": {},
     "output_type": "display_data"
    }
   ],
   "source": [
    "# Use the Alpaca get_barset function to make the API call to get the 3 years worth of pricing data\n",
    "# The tickers and timeframe parameters should have been set early of this activity \n",
    "# The start and end dates should be updated with the information set above\n",
    "# Adding the df property to the end of the call so the response is returned as a DataFrame\n",
    "prices_df = alpaca.get_barset(tickers, timeframe, start= start_date, end= end_date, limit= limit_rows).df\n",
    "\n",
    "\n",
    "# Display both the first and last five rows of the DataFrame\n",
    "display(prices_df.head())\n",
    "display(prices_df.tail())"
   ]
  },
  {
   "cell_type": "markdown",
   "id": "b3529188-d154-4b3b-8a6a-ab4c4c6b6cfd",
   "metadata": {},
   "source": [
    "#### Step 2a: Run a Monte Carlo simulation of 1000 samples and 10 years for Microsoft, and then plot the results."
   ]
  },
  {
   "cell_type": "code",
   "execution_count": 147,
   "id": "26e772c7-2ca0-4952-bd66-9254e72dd92c",
   "metadata": {},
   "outputs": [
    {
     "data": {
      "text/html": [
       "<div>\n",
       "<style scoped>\n",
       "    .dataframe tbody tr th:only-of-type {\n",
       "        vertical-align: middle;\n",
       "    }\n",
       "\n",
       "    .dataframe tbody tr th {\n",
       "        vertical-align: top;\n",
       "    }\n",
       "\n",
       "    .dataframe thead tr th {\n",
       "        text-align: left;\n",
       "    }\n",
       "\n",
       "    .dataframe thead tr:last-of-type th {\n",
       "        text-align: right;\n",
       "    }\n",
       "</style>\n",
       "<table border=\"1\" class=\"dataframe\">\n",
       "  <thead>\n",
       "    <tr>\n",
       "      <th></th>\n",
       "      <th colspan=\"6\" halign=\"left\">MSFT</th>\n",
       "    </tr>\n",
       "    <tr>\n",
       "      <th></th>\n",
       "      <th>open</th>\n",
       "      <th>high</th>\n",
       "      <th>low</th>\n",
       "      <th>close</th>\n",
       "      <th>volume</th>\n",
       "      <th>daily_return</th>\n",
       "    </tr>\n",
       "    <tr>\n",
       "      <th>time</th>\n",
       "      <th></th>\n",
       "      <th></th>\n",
       "      <th></th>\n",
       "      <th></th>\n",
       "      <th></th>\n",
       "      <th></th>\n",
       "    </tr>\n",
       "  </thead>\n",
       "  <tbody>\n",
       "    <tr>\n",
       "      <th>2017-11-09 00:00:00-05:00</th>\n",
       "      <td>84.11</td>\n",
       "      <td>84.270</td>\n",
       "      <td>82.90</td>\n",
       "      <td>84.09</td>\n",
       "      <td>16833031</td>\n",
       "      <td>NaN</td>\n",
       "    </tr>\n",
       "    <tr>\n",
       "      <th>2017-11-10 00:00:00-05:00</th>\n",
       "      <td>83.79</td>\n",
       "      <td>84.095</td>\n",
       "      <td>83.23</td>\n",
       "      <td>83.86</td>\n",
       "      <td>13902816</td>\n",
       "      <td>-0.002735</td>\n",
       "    </tr>\n",
       "    <tr>\n",
       "      <th>2017-11-13 00:00:00-05:00</th>\n",
       "      <td>83.66</td>\n",
       "      <td>83.940</td>\n",
       "      <td>83.46</td>\n",
       "      <td>83.93</td>\n",
       "      <td>9097109</td>\n",
       "      <td>0.000835</td>\n",
       "    </tr>\n",
       "    <tr>\n",
       "      <th>2017-11-14 00:00:00-05:00</th>\n",
       "      <td>83.50</td>\n",
       "      <td>84.100</td>\n",
       "      <td>82.98</td>\n",
       "      <td>84.05</td>\n",
       "      <td>15246771</td>\n",
       "      <td>0.001430</td>\n",
       "    </tr>\n",
       "    <tr>\n",
       "      <th>2017-11-15 00:00:00-05:00</th>\n",
       "      <td>83.47</td>\n",
       "      <td>83.690</td>\n",
       "      <td>82.69</td>\n",
       "      <td>82.99</td>\n",
       "      <td>14184790</td>\n",
       "      <td>-0.012612</td>\n",
       "    </tr>\n",
       "  </tbody>\n",
       "</table>\n",
       "</div>"
      ],
      "text/plain": [
       "                            MSFT                                             \n",
       "                            open    high    low  close    volume daily_return\n",
       "time                                                                         \n",
       "2017-11-09 00:00:00-05:00  84.11  84.270  82.90  84.09  16833031          NaN\n",
       "2017-11-10 00:00:00-05:00  83.79  84.095  83.23  83.86  13902816    -0.002735\n",
       "2017-11-13 00:00:00-05:00  83.66  83.940  83.46  83.93   9097109     0.000835\n",
       "2017-11-14 00:00:00-05:00  83.50  84.100  82.98  84.05  15246771     0.001430\n",
       "2017-11-15 00:00:00-05:00  83.47  83.690  82.69  82.99  14184790    -0.012612"
      ]
     },
     "execution_count": 147,
     "metadata": {},
     "output_type": "execute_result"
    }
   ],
   "source": [
    "# Configure the Monte Carlo simulation to forecast 10 years cumulative returns\n",
    "# Run 1000 samples.\n",
    "MC_ten_years = MCSimulation(portfolio_data = prices_df,\n",
    "                             num_simulation= 1000,\n",
    "                             num_trading_days= 252*10)\n",
    "\n",
    "# Review the simulation input data\n",
    "MC_ten_years.portfolio_data.head()\n",
    "\n",
    "\n",
    "# We still need to update the Montecarlo first for this part!!! "
   ]
  },
  {
   "cell_type": "code",
   "execution_count": 148,
   "id": "2211200e-6468-46a0-934e-4e57bbd43aa3",
   "metadata": {},
   "outputs": [
    {
     "name": "stdout",
     "output_type": "stream",
     "text": [
      "Running Monte Carlo simulation number 0.\n",
      "Running Monte Carlo simulation number 10.\n",
      "Running Monte Carlo simulation number 20.\n",
      "Running Monte Carlo simulation number 30.\n",
      "Running Monte Carlo simulation number 40.\n",
      "Running Monte Carlo simulation number 50.\n",
      "Running Monte Carlo simulation number 60.\n",
      "Running Monte Carlo simulation number 70.\n",
      "Running Monte Carlo simulation number 80.\n",
      "Running Monte Carlo simulation number 90.\n",
      "Running Monte Carlo simulation number 100.\n",
      "Running Monte Carlo simulation number 110.\n",
      "Running Monte Carlo simulation number 120.\n",
      "Running Monte Carlo simulation number 130.\n",
      "Running Monte Carlo simulation number 140.\n",
      "Running Monte Carlo simulation number 150.\n",
      "Running Monte Carlo simulation number 160.\n",
      "Running Monte Carlo simulation number 170.\n",
      "Running Monte Carlo simulation number 180.\n",
      "Running Monte Carlo simulation number 190.\n",
      "Running Monte Carlo simulation number 200.\n",
      "Running Monte Carlo simulation number 210.\n",
      "Running Monte Carlo simulation number 220.\n",
      "Running Monte Carlo simulation number 230.\n",
      "Running Monte Carlo simulation number 240.\n",
      "Running Monte Carlo simulation number 250.\n",
      "Running Monte Carlo simulation number 260.\n",
      "Running Monte Carlo simulation number 270.\n",
      "Running Monte Carlo simulation number 280.\n",
      "Running Monte Carlo simulation number 290.\n",
      "Running Monte Carlo simulation number 300.\n",
      "Running Monte Carlo simulation number 310.\n",
      "Running Monte Carlo simulation number 320.\n",
      "Running Monte Carlo simulation number 330.\n",
      "Running Monte Carlo simulation number 340.\n",
      "Running Monte Carlo simulation number 350.\n",
      "Running Monte Carlo simulation number 360.\n",
      "Running Monte Carlo simulation number 370.\n",
      "Running Monte Carlo simulation number 380.\n",
      "Running Monte Carlo simulation number 390.\n",
      "Running Monte Carlo simulation number 400.\n",
      "Running Monte Carlo simulation number 410.\n",
      "Running Monte Carlo simulation number 420.\n",
      "Running Monte Carlo simulation number 430.\n",
      "Running Monte Carlo simulation number 440.\n",
      "Running Monte Carlo simulation number 450.\n",
      "Running Monte Carlo simulation number 460.\n",
      "Running Monte Carlo simulation number 470.\n",
      "Running Monte Carlo simulation number 480.\n",
      "Running Monte Carlo simulation number 490.\n",
      "Running Monte Carlo simulation number 500.\n",
      "Running Monte Carlo simulation number 510.\n",
      "Running Monte Carlo simulation number 520.\n",
      "Running Monte Carlo simulation number 530.\n",
      "Running Monte Carlo simulation number 540.\n",
      "Running Monte Carlo simulation number 550.\n",
      "Running Monte Carlo simulation number 560.\n",
      "Running Monte Carlo simulation number 570.\n",
      "Running Monte Carlo simulation number 580.\n",
      "Running Monte Carlo simulation number 590.\n",
      "Running Monte Carlo simulation number 600.\n",
      "Running Monte Carlo simulation number 610.\n",
      "Running Monte Carlo simulation number 620.\n",
      "Running Monte Carlo simulation number 630.\n",
      "Running Monte Carlo simulation number 640.\n",
      "Running Monte Carlo simulation number 650.\n",
      "Running Monte Carlo simulation number 660.\n",
      "Running Monte Carlo simulation number 670.\n",
      "Running Monte Carlo simulation number 680.\n",
      "Running Monte Carlo simulation number 690.\n",
      "Running Monte Carlo simulation number 700.\n",
      "Running Monte Carlo simulation number 710.\n",
      "Running Monte Carlo simulation number 720.\n",
      "Running Monte Carlo simulation number 730.\n",
      "Running Monte Carlo simulation number 740.\n",
      "Running Monte Carlo simulation number 750.\n",
      "Running Monte Carlo simulation number 760.\n",
      "Running Monte Carlo simulation number 770.\n",
      "Running Monte Carlo simulation number 780.\n",
      "Running Monte Carlo simulation number 790.\n",
      "Running Monte Carlo simulation number 800.\n",
      "Running Monte Carlo simulation number 810.\n",
      "Running Monte Carlo simulation number 820.\n",
      "Running Monte Carlo simulation number 830.\n",
      "Running Monte Carlo simulation number 840.\n",
      "Running Monte Carlo simulation number 850.\n",
      "Running Monte Carlo simulation number 860.\n",
      "Running Monte Carlo simulation number 870.\n",
      "Running Monte Carlo simulation number 880.\n",
      "Running Monte Carlo simulation number 890.\n",
      "Running Monte Carlo simulation number 900.\n",
      "Running Monte Carlo simulation number 910.\n",
      "Running Monte Carlo simulation number 920.\n",
      "Running Monte Carlo simulation number 930.\n",
      "Running Monte Carlo simulation number 940.\n",
      "Running Monte Carlo simulation number 950.\n",
      "Running Monte Carlo simulation number 960.\n",
      "Running Monte Carlo simulation number 970.\n",
      "Running Monte Carlo simulation number 980.\n",
      "Running Monte Carlo simulation number 990.\n"
     ]
    },
    {
     "data": {
      "text/html": [
       "<div>\n",
       "<style scoped>\n",
       "    .dataframe tbody tr th:only-of-type {\n",
       "        vertical-align: middle;\n",
       "    }\n",
       "\n",
       "    .dataframe tbody tr th {\n",
       "        vertical-align: top;\n",
       "    }\n",
       "\n",
       "    .dataframe thead th {\n",
       "        text-align: right;\n",
       "    }\n",
       "</style>\n",
       "<table border=\"1\" class=\"dataframe\">\n",
       "  <thead>\n",
       "    <tr style=\"text-align: right;\">\n",
       "      <th></th>\n",
       "      <th>0</th>\n",
       "      <th>1</th>\n",
       "      <th>2</th>\n",
       "      <th>3</th>\n",
       "      <th>4</th>\n",
       "      <th>5</th>\n",
       "      <th>6</th>\n",
       "      <th>7</th>\n",
       "      <th>8</th>\n",
       "      <th>9</th>\n",
       "      <th>...</th>\n",
       "      <th>990</th>\n",
       "      <th>991</th>\n",
       "      <th>992</th>\n",
       "      <th>993</th>\n",
       "      <th>994</th>\n",
       "      <th>995</th>\n",
       "      <th>996</th>\n",
       "      <th>997</th>\n",
       "      <th>998</th>\n",
       "      <th>999</th>\n",
       "    </tr>\n",
       "  </thead>\n",
       "  <tbody>\n",
       "    <tr>\n",
       "      <th>0</th>\n",
       "      <td>1.000000</td>\n",
       "      <td>1.000000</td>\n",
       "      <td>1.000000</td>\n",
       "      <td>1.000000</td>\n",
       "      <td>1.000000</td>\n",
       "      <td>1.000000</td>\n",
       "      <td>1.000000</td>\n",
       "      <td>1.000000</td>\n",
       "      <td>1.000000</td>\n",
       "      <td>1.000000</td>\n",
       "      <td>...</td>\n",
       "      <td>1.000000</td>\n",
       "      <td>1.000000</td>\n",
       "      <td>1.000000</td>\n",
       "      <td>1.000000</td>\n",
       "      <td>1.000000</td>\n",
       "      <td>1.000000</td>\n",
       "      <td>1.000000</td>\n",
       "      <td>1.000000</td>\n",
       "      <td>1.000000</td>\n",
       "      <td>1.000000</td>\n",
       "    </tr>\n",
       "    <tr>\n",
       "      <th>1</th>\n",
       "      <td>1.006884</td>\n",
       "      <td>1.040765</td>\n",
       "      <td>1.000732</td>\n",
       "      <td>0.981742</td>\n",
       "      <td>0.985437</td>\n",
       "      <td>1.020583</td>\n",
       "      <td>1.041405</td>\n",
       "      <td>0.978204</td>\n",
       "      <td>1.002500</td>\n",
       "      <td>0.973881</td>\n",
       "      <td>...</td>\n",
       "      <td>1.007582</td>\n",
       "      <td>1.036587</td>\n",
       "      <td>1.006404</td>\n",
       "      <td>1.029734</td>\n",
       "      <td>0.983788</td>\n",
       "      <td>1.014395</td>\n",
       "      <td>1.007583</td>\n",
       "      <td>0.980807</td>\n",
       "      <td>0.985389</td>\n",
       "      <td>0.967601</td>\n",
       "    </tr>\n",
       "    <tr>\n",
       "      <th>2</th>\n",
       "      <td>0.988896</td>\n",
       "      <td>1.049768</td>\n",
       "      <td>1.000075</td>\n",
       "      <td>1.002267</td>\n",
       "      <td>0.986668</td>\n",
       "      <td>1.030869</td>\n",
       "      <td>1.039858</td>\n",
       "      <td>0.960799</td>\n",
       "      <td>0.998573</td>\n",
       "      <td>0.989428</td>\n",
       "      <td>...</td>\n",
       "      <td>1.024457</td>\n",
       "      <td>1.040898</td>\n",
       "      <td>1.016838</td>\n",
       "      <td>1.020113</td>\n",
       "      <td>0.993963</td>\n",
       "      <td>1.007482</td>\n",
       "      <td>1.030102</td>\n",
       "      <td>0.958963</td>\n",
       "      <td>0.994032</td>\n",
       "      <td>0.987933</td>\n",
       "    </tr>\n",
       "    <tr>\n",
       "      <th>3</th>\n",
       "      <td>0.975727</td>\n",
       "      <td>1.045718</td>\n",
       "      <td>1.033872</td>\n",
       "      <td>1.019488</td>\n",
       "      <td>0.948261</td>\n",
       "      <td>1.048489</td>\n",
       "      <td>1.069679</td>\n",
       "      <td>0.951246</td>\n",
       "      <td>0.978144</td>\n",
       "      <td>0.967001</td>\n",
       "      <td>...</td>\n",
       "      <td>1.020916</td>\n",
       "      <td>1.031373</td>\n",
       "      <td>0.995454</td>\n",
       "      <td>1.012158</td>\n",
       "      <td>0.992905</td>\n",
       "      <td>1.002747</td>\n",
       "      <td>0.974315</td>\n",
       "      <td>0.972809</td>\n",
       "      <td>0.961438</td>\n",
       "      <td>0.983772</td>\n",
       "    </tr>\n",
       "    <tr>\n",
       "      <th>4</th>\n",
       "      <td>0.932377</td>\n",
       "      <td>1.022819</td>\n",
       "      <td>1.035877</td>\n",
       "      <td>1.029983</td>\n",
       "      <td>0.980517</td>\n",
       "      <td>1.040809</td>\n",
       "      <td>1.077233</td>\n",
       "      <td>0.958448</td>\n",
       "      <td>0.962745</td>\n",
       "      <td>0.965887</td>\n",
       "      <td>...</td>\n",
       "      <td>1.010876</td>\n",
       "      <td>1.047549</td>\n",
       "      <td>0.991763</td>\n",
       "      <td>1.003561</td>\n",
       "      <td>0.956303</td>\n",
       "      <td>1.017617</td>\n",
       "      <td>0.974238</td>\n",
       "      <td>0.977224</td>\n",
       "      <td>0.966302</td>\n",
       "      <td>0.986691</td>\n",
       "    </tr>\n",
       "    <tr>\n",
       "      <th>...</th>\n",
       "      <td>...</td>\n",
       "      <td>...</td>\n",
       "      <td>...</td>\n",
       "      <td>...</td>\n",
       "      <td>...</td>\n",
       "      <td>...</td>\n",
       "      <td>...</td>\n",
       "      <td>...</td>\n",
       "      <td>...</td>\n",
       "      <td>...</td>\n",
       "      <td>...</td>\n",
       "      <td>...</td>\n",
       "      <td>...</td>\n",
       "      <td>...</td>\n",
       "      <td>...</td>\n",
       "      <td>...</td>\n",
       "      <td>...</td>\n",
       "      <td>...</td>\n",
       "      <td>...</td>\n",
       "      <td>...</td>\n",
       "      <td>...</td>\n",
       "    </tr>\n",
       "    <tr>\n",
       "      <th>2516</th>\n",
       "      <td>32.166446</td>\n",
       "      <td>33.933750</td>\n",
       "      <td>23.689473</td>\n",
       "      <td>9.597337</td>\n",
       "      <td>34.530315</td>\n",
       "      <td>74.156043</td>\n",
       "      <td>17.437325</td>\n",
       "      <td>5.612450</td>\n",
       "      <td>11.947986</td>\n",
       "      <td>6.196738</td>\n",
       "      <td>...</td>\n",
       "      <td>17.395953</td>\n",
       "      <td>14.911275</td>\n",
       "      <td>31.301094</td>\n",
       "      <td>106.857420</td>\n",
       "      <td>131.057537</td>\n",
       "      <td>29.454436</td>\n",
       "      <td>31.694108</td>\n",
       "      <td>45.937168</td>\n",
       "      <td>48.252883</td>\n",
       "      <td>34.284760</td>\n",
       "    </tr>\n",
       "    <tr>\n",
       "      <th>2517</th>\n",
       "      <td>33.015321</td>\n",
       "      <td>32.570956</td>\n",
       "      <td>23.647783</td>\n",
       "      <td>9.529299</td>\n",
       "      <td>34.469026</td>\n",
       "      <td>73.694435</td>\n",
       "      <td>16.913549</td>\n",
       "      <td>5.578908</td>\n",
       "      <td>12.030887</td>\n",
       "      <td>6.190117</td>\n",
       "      <td>...</td>\n",
       "      <td>17.623082</td>\n",
       "      <td>14.756760</td>\n",
       "      <td>31.623948</td>\n",
       "      <td>104.342283</td>\n",
       "      <td>132.388667</td>\n",
       "      <td>29.113331</td>\n",
       "      <td>31.734451</td>\n",
       "      <td>45.669400</td>\n",
       "      <td>48.377306</td>\n",
       "      <td>34.623044</td>\n",
       "    </tr>\n",
       "    <tr>\n",
       "      <th>2518</th>\n",
       "      <td>32.904224</td>\n",
       "      <td>32.762474</td>\n",
       "      <td>23.595292</td>\n",
       "      <td>9.671726</td>\n",
       "      <td>34.501659</td>\n",
       "      <td>74.736417</td>\n",
       "      <td>16.871251</td>\n",
       "      <td>5.432670</td>\n",
       "      <td>12.309969</td>\n",
       "      <td>6.252236</td>\n",
       "      <td>...</td>\n",
       "      <td>18.419400</td>\n",
       "      <td>14.616484</td>\n",
       "      <td>32.073992</td>\n",
       "      <td>102.667559</td>\n",
       "      <td>132.953777</td>\n",
       "      <td>29.998162</td>\n",
       "      <td>31.515633</td>\n",
       "      <td>46.576732</td>\n",
       "      <td>48.848100</td>\n",
       "      <td>33.688203</td>\n",
       "    </tr>\n",
       "    <tr>\n",
       "      <th>2519</th>\n",
       "      <td>33.565866</td>\n",
       "      <td>33.482437</td>\n",
       "      <td>23.175866</td>\n",
       "      <td>9.562773</td>\n",
       "      <td>34.711464</td>\n",
       "      <td>73.336328</td>\n",
       "      <td>16.791547</td>\n",
       "      <td>5.419731</td>\n",
       "      <td>12.077419</td>\n",
       "      <td>6.042487</td>\n",
       "      <td>...</td>\n",
       "      <td>18.920628</td>\n",
       "      <td>14.670031</td>\n",
       "      <td>32.812040</td>\n",
       "      <td>102.291319</td>\n",
       "      <td>132.991129</td>\n",
       "      <td>30.941073</td>\n",
       "      <td>31.517057</td>\n",
       "      <td>46.389649</td>\n",
       "      <td>49.200413</td>\n",
       "      <td>33.712995</td>\n",
       "    </tr>\n",
       "    <tr>\n",
       "      <th>2520</th>\n",
       "      <td>34.183557</td>\n",
       "      <td>32.861346</td>\n",
       "      <td>22.678370</td>\n",
       "      <td>9.795646</td>\n",
       "      <td>35.434235</td>\n",
       "      <td>74.067608</td>\n",
       "      <td>16.898812</td>\n",
       "      <td>5.418281</td>\n",
       "      <td>12.514306</td>\n",
       "      <td>5.976148</td>\n",
       "      <td>...</td>\n",
       "      <td>19.148099</td>\n",
       "      <td>14.371521</td>\n",
       "      <td>32.964155</td>\n",
       "      <td>103.656247</td>\n",
       "      <td>133.526031</td>\n",
       "      <td>31.597918</td>\n",
       "      <td>30.559847</td>\n",
       "      <td>46.444335</td>\n",
       "      <td>51.298726</td>\n",
       "      <td>34.125478</td>\n",
       "    </tr>\n",
       "  </tbody>\n",
       "</table>\n",
       "<p>2521 rows × 1000 columns</p>\n",
       "</div>"
      ],
      "text/plain": [
       "            0          1          2         3          4          5    \\\n",
       "0      1.000000   1.000000   1.000000  1.000000   1.000000   1.000000   \n",
       "1      1.006884   1.040765   1.000732  0.981742   0.985437   1.020583   \n",
       "2      0.988896   1.049768   1.000075  1.002267   0.986668   1.030869   \n",
       "3      0.975727   1.045718   1.033872  1.019488   0.948261   1.048489   \n",
       "4      0.932377   1.022819   1.035877  1.029983   0.980517   1.040809   \n",
       "...         ...        ...        ...       ...        ...        ...   \n",
       "2516  32.166446  33.933750  23.689473  9.597337  34.530315  74.156043   \n",
       "2517  33.015321  32.570956  23.647783  9.529299  34.469026  73.694435   \n",
       "2518  32.904224  32.762474  23.595292  9.671726  34.501659  74.736417   \n",
       "2519  33.565866  33.482437  23.175866  9.562773  34.711464  73.336328   \n",
       "2520  34.183557  32.861346  22.678370  9.795646  35.434235  74.067608   \n",
       "\n",
       "            6         7          8         9    ...        990        991  \\\n",
       "0      1.000000  1.000000   1.000000  1.000000  ...   1.000000   1.000000   \n",
       "1      1.041405  0.978204   1.002500  0.973881  ...   1.007582   1.036587   \n",
       "2      1.039858  0.960799   0.998573  0.989428  ...   1.024457   1.040898   \n",
       "3      1.069679  0.951246   0.978144  0.967001  ...   1.020916   1.031373   \n",
       "4      1.077233  0.958448   0.962745  0.965887  ...   1.010876   1.047549   \n",
       "...         ...       ...        ...       ...  ...        ...        ...   \n",
       "2516  17.437325  5.612450  11.947986  6.196738  ...  17.395953  14.911275   \n",
       "2517  16.913549  5.578908  12.030887  6.190117  ...  17.623082  14.756760   \n",
       "2518  16.871251  5.432670  12.309969  6.252236  ...  18.419400  14.616484   \n",
       "2519  16.791547  5.419731  12.077419  6.042487  ...  18.920628  14.670031   \n",
       "2520  16.898812  5.418281  12.514306  5.976148  ...  19.148099  14.371521   \n",
       "\n",
       "            992         993         994        995        996        997  \\\n",
       "0      1.000000    1.000000    1.000000   1.000000   1.000000   1.000000   \n",
       "1      1.006404    1.029734    0.983788   1.014395   1.007583   0.980807   \n",
       "2      1.016838    1.020113    0.993963   1.007482   1.030102   0.958963   \n",
       "3      0.995454    1.012158    0.992905   1.002747   0.974315   0.972809   \n",
       "4      0.991763    1.003561    0.956303   1.017617   0.974238   0.977224   \n",
       "...         ...         ...         ...        ...        ...        ...   \n",
       "2516  31.301094  106.857420  131.057537  29.454436  31.694108  45.937168   \n",
       "2517  31.623948  104.342283  132.388667  29.113331  31.734451  45.669400   \n",
       "2518  32.073992  102.667559  132.953777  29.998162  31.515633  46.576732   \n",
       "2519  32.812040  102.291319  132.991129  30.941073  31.517057  46.389649   \n",
       "2520  32.964155  103.656247  133.526031  31.597918  30.559847  46.444335   \n",
       "\n",
       "            998        999  \n",
       "0      1.000000   1.000000  \n",
       "1      0.985389   0.967601  \n",
       "2      0.994032   0.987933  \n",
       "3      0.961438   0.983772  \n",
       "4      0.966302   0.986691  \n",
       "...         ...        ...  \n",
       "2516  48.252883  34.284760  \n",
       "2517  48.377306  34.623044  \n",
       "2518  48.848100  33.688203  \n",
       "2519  49.200413  33.712995  \n",
       "2520  51.298726  34.125478  \n",
       "\n",
       "[2521 rows x 1000 columns]"
      ]
     },
     "execution_count": 148,
     "metadata": {},
     "output_type": "execute_result"
    }
   ],
   "source": [
    "# Run the Monte Carlo simulation to forecast 10 years cumulative returns\n",
    "MC_ten_years.calc_cumulative_return()\n"
   ]
  },
  {
   "cell_type": "code",
   "execution_count": 149,
   "id": "c191e616-e44a-47b3-a5ad-3e55ec498580",
   "metadata": {},
   "outputs": [
    {
     "data": {
      "text/plain": [
       "<AxesSubplot:title={'center':'1000 Simulations of Cumulative Portfolio Return Trajectories Over the Next 2520 Trading Days.'}>"
      ]
     },
     "execution_count": 149,
     "metadata": {},
     "output_type": "execute_result"
    },
    {
     "data": {
      "image/png": "[encoded data removed]",
      "text/plain": [
       "<Figure size 432x288 with 1 Axes>"
      ]
     },
     "metadata": {
      "needs_background": "light"
     },
     "output_type": "display_data"
    }
   ],
   "source": [
    "# Visualize the 10-year Monte Carlo simulation by creating an\n",
    "# overlay line plot\n",
    "MC_ten_years.plot_simulation()\n"
   ]
  },
  {
   "cell_type": "markdown",
   "id": "1dc9bf20-d348-4151-99ec-b9e5e3f98465",
   "metadata": {},
   "source": [
    "#### Plot the probability distribution of the Monte Carlo simulation."
   ]
  },
  {
   "cell_type": "code",
   "execution_count": 151,
   "id": "c268f5b6-d568-455f-bfa4-4b34e39138c1",
   "metadata": {},
   "outputs": [
    {
     "data": {
      "text/plain": [
       "<AxesSubplot:title={'center':'Distribution of Final Cumuluative Returns Across All 1000 Simulations'}, ylabel='Frequency'>"
      ]
     },
     "execution_count": 151,
     "metadata": {},
     "output_type": "execute_result"
    },
    {
     "data": {
      "image/png": "[encoded data removed]",
      "text/plain": [
       "<Figure size 432x288 with 1 Axes>"
      ]
     },
     "metadata": {
      "needs_background": "light"
     },
     "output_type": "display_data"
    }
   ],
   "source": [
    "# Visualize the probability distribution of the 10-year Monte Carlo simulation \n",
    "# by plotting a histogram\n",
    "MC_ten_years.plot_distribution()"
   ]
  },
  {
   "cell_type": "markdown",
   "id": "3c3c79a0-0fd8-43a7-8a90-e0777d7d8c3a",
   "metadata": {},
   "source": [
    "#### Generate the summary statistics for the Monte Carlo simulation."
   ]
  },
  {
   "cell_type": "code",
   "execution_count": 152,
   "id": "25c3ceb3-5116-43aa-91bf-6f9a4da8952f",
   "metadata": {},
   "outputs": [
    {
     "name": "stdout",
     "output_type": "stream",
     "text": [
      "count           1000.000\n",
      "mean              49.211\n",
      "std               67.587\n",
      "min                0.827\n",
      "25%               17.077\n",
      "50%               30.775\n",
      "75%               55.660\n",
      "max             1091.926\n",
      "95% CI Lower       5.371\n",
      "95% CI Upper     208.674\n",
      "Name: 2520, dtype: float64\n"
     ]
    }
   ],
   "source": [
    "# Generate summary statistics from the 10-year Monte Carlo simulation results\n",
    "# Save the results as a variable\n",
    "MC_ten_summary_statistics = round(MC_ten_years.summarize_cumulative_return(), 3)\n",
    "\n",
    "\n",
    "# Review the 10-year Monte Carlo summary statistics\n",
    "print(MC_ten_summary_statistics)"
   ]
  },
  {
   "cell_type": "markdown",
   "id": "51f6989b-1fee-4c6c-8e95-e7d12afbc3b0",
   "metadata": {},
   "source": [
    "### Analyze the Dividend Reinvestment Into Microsoft Portfolio Forecasts\n",
    "\n",
    "Using the current value of the stock portfolio and the summary statistics that was generated from the Monte Carlo simulation, let's see what are the lower and upper bounds for the expected value of the portfolio with a 95% confidence interval?\n"
   ]
  },
  {
   "cell_type": "code",
   "execution_count": 153,
   "id": "d49b2a8a-23fa-4f35-94e9-52ad32c1b814",
   "metadata": {},
   "outputs": [
    {
     "name": "stdout",
     "output_type": "stream",
     "text": [
      "The current value of the stock portfolio is: $99492.0\n"
     ]
    }
   ],
   "source": [
    "# Print the current value of the stock.\n",
    "print(f\"The current value of the stock portfolio is: ${msft_value}\")\n"
   ]
  },
  {
   "cell_type": "code",
   "execution_count": 154,
   "id": "34cc1048-e155-4b80-a974-1feda790cf32",
   "metadata": {},
   "outputs": [
    {
     "name": "stdout",
     "output_type": "stream",
     "text": [
      "There is a 95% chance that you current protfolio over the next 30 years will end within in range of \n",
      "$ 534371.53 and $ 20761393.61\n"
     ]
    }
   ],
   "source": [
    "# Use the lower and upper `95%` confidence intervals to calculate the range of the possible outcomes for the portfolio\n",
    "ci_lower_ten_cumulative_return = MC_ten_summary_statistics[8] * msft_value\n",
    "ci_upper_ten_cumulative_return = MC_ten_summary_statistics[9] * msft_value\n",
    "\n",
    "# Print the result of your calculations\n",
    "print(f\"There is a 95% chance that you current protfolio and the reinvested deividend over the next 10 years will end within in range of \\n\"\n",
    "     f\"${ci_lower_ten_cumulative_return: .2f} and ${ci_upper_ten_cumulative_return: .2f}\")\n"
   ]
  },
  {
   "cell_type": "code",
   "execution_count": null,
   "id": "394a29e9-facc-4e03-a459-63ed4dd07fa8",
   "metadata": {},
   "outputs": [],
   "source": []
  },
  {
   "cell_type": "markdown",
   "id": "1a0a330d-0f0d-41dc-b0cf-238e9cd8518a",
   "metadata": {},
   "source": [
    "#### Step 2b: Run a Monte Carlo simulation of 1000 samples and 20 years for Microsoft, and then plot the results."
   ]
  },
  {
   "cell_type": "code",
   "execution_count": 155,
   "id": "0bad4ee4-cbac-4de4-a825-00e765182b9a",
   "metadata": {},
   "outputs": [
    {
     "data": {
      "text/html": [
       "<div>\n",
       "<style scoped>\n",
       "    .dataframe tbody tr th:only-of-type {\n",
       "        vertical-align: middle;\n",
       "    }\n",
       "\n",
       "    .dataframe tbody tr th {\n",
       "        vertical-align: top;\n",
       "    }\n",
       "\n",
       "    .dataframe thead tr th {\n",
       "        text-align: left;\n",
       "    }\n",
       "\n",
       "    .dataframe thead tr:last-of-type th {\n",
       "        text-align: right;\n",
       "    }\n",
       "</style>\n",
       "<table border=\"1\" class=\"dataframe\">\n",
       "  <thead>\n",
       "    <tr>\n",
       "      <th></th>\n",
       "      <th colspan=\"6\" halign=\"left\">MSFT</th>\n",
       "    </tr>\n",
       "    <tr>\n",
       "      <th></th>\n",
       "      <th>open</th>\n",
       "      <th>high</th>\n",
       "      <th>low</th>\n",
       "      <th>close</th>\n",
       "      <th>volume</th>\n",
       "      <th>daily_return</th>\n",
       "    </tr>\n",
       "    <tr>\n",
       "      <th>time</th>\n",
       "      <th></th>\n",
       "      <th></th>\n",
       "      <th></th>\n",
       "      <th></th>\n",
       "      <th></th>\n",
       "      <th></th>\n",
       "    </tr>\n",
       "  </thead>\n",
       "  <tbody>\n",
       "    <tr>\n",
       "      <th>2017-11-09 00:00:00-05:00</th>\n",
       "      <td>84.11</td>\n",
       "      <td>84.270</td>\n",
       "      <td>82.90</td>\n",
       "      <td>84.09</td>\n",
       "      <td>16833031</td>\n",
       "      <td>NaN</td>\n",
       "    </tr>\n",
       "    <tr>\n",
       "      <th>2017-11-10 00:00:00-05:00</th>\n",
       "      <td>83.79</td>\n",
       "      <td>84.095</td>\n",
       "      <td>83.23</td>\n",
       "      <td>83.86</td>\n",
       "      <td>13902816</td>\n",
       "      <td>-0.002735</td>\n",
       "    </tr>\n",
       "    <tr>\n",
       "      <th>2017-11-13 00:00:00-05:00</th>\n",
       "      <td>83.66</td>\n",
       "      <td>83.940</td>\n",
       "      <td>83.46</td>\n",
       "      <td>83.93</td>\n",
       "      <td>9097109</td>\n",
       "      <td>0.000835</td>\n",
       "    </tr>\n",
       "    <tr>\n",
       "      <th>2017-11-14 00:00:00-05:00</th>\n",
       "      <td>83.50</td>\n",
       "      <td>84.100</td>\n",
       "      <td>82.98</td>\n",
       "      <td>84.05</td>\n",
       "      <td>15246771</td>\n",
       "      <td>0.001430</td>\n",
       "    </tr>\n",
       "    <tr>\n",
       "      <th>2017-11-15 00:00:00-05:00</th>\n",
       "      <td>83.47</td>\n",
       "      <td>83.690</td>\n",
       "      <td>82.69</td>\n",
       "      <td>82.99</td>\n",
       "      <td>14184790</td>\n",
       "      <td>-0.012612</td>\n",
       "    </tr>\n",
       "  </tbody>\n",
       "</table>\n",
       "</div>"
      ],
      "text/plain": [
       "                            MSFT                                             \n",
       "                            open    high    low  close    volume daily_return\n",
       "time                                                                         \n",
       "2017-11-09 00:00:00-05:00  84.11  84.270  82.90  84.09  16833031          NaN\n",
       "2017-11-10 00:00:00-05:00  83.79  84.095  83.23  83.86  13902816    -0.002735\n",
       "2017-11-13 00:00:00-05:00  83.66  83.940  83.46  83.93   9097109     0.000835\n",
       "2017-11-14 00:00:00-05:00  83.50  84.100  82.98  84.05  15246771     0.001430\n",
       "2017-11-15 00:00:00-05:00  83.47  83.690  82.69  82.99  14184790    -0.012612"
      ]
     },
     "execution_count": 155,
     "metadata": {},
     "output_type": "execute_result"
    }
   ],
   "source": [
    "# Configure the Monte Carlo simulation to forecast 20 years cumulative returns\n",
    "# Run 1000 samples.\n",
    "MC_twenty_years = MCSimulation(portfolio_data = prices_df,\n",
    "                             num_simulation= 1000,\n",
    "                             num_trading_days= 252*20)\n",
    "\n",
    "# Review the simulation input data\n",
    "MC_twenty_years.portfolio_data.head()\n",
    "\n",
    "\n",
    "# We need to update the Montecarlo first for this part!!! "
   ]
  },
  {
   "cell_type": "code",
   "execution_count": 156,
   "id": "39c574bf-2fd0-46ce-bcbe-c9ae9fbad3b3",
   "metadata": {},
   "outputs": [
    {
     "name": "stdout",
     "output_type": "stream",
     "text": [
      "Running Monte Carlo simulation number 0.\n",
      "Running Monte Carlo simulation number 10.\n",
      "Running Monte Carlo simulation number 20.\n",
      "Running Monte Carlo simulation number 30.\n",
      "Running Monte Carlo simulation number 40.\n",
      "Running Monte Carlo simulation number 50.\n",
      "Running Monte Carlo simulation number 60.\n",
      "Running Monte Carlo simulation number 70.\n",
      "Running Monte Carlo simulation number 80.\n",
      "Running Monte Carlo simulation number 90.\n",
      "Running Monte Carlo simulation number 100.\n",
      "Running Monte Carlo simulation number 110.\n",
      "Running Monte Carlo simulation number 120.\n",
      "Running Monte Carlo simulation number 130.\n",
      "Running Monte Carlo simulation number 140.\n",
      "Running Monte Carlo simulation number 150.\n",
      "Running Monte Carlo simulation number 160.\n",
      "Running Monte Carlo simulation number 170.\n",
      "Running Monte Carlo simulation number 180.\n",
      "Running Monte Carlo simulation number 190.\n",
      "Running Monte Carlo simulation number 200.\n",
      "Running Monte Carlo simulation number 210.\n",
      "Running Monte Carlo simulation number 220.\n",
      "Running Monte Carlo simulation number 230.\n",
      "Running Monte Carlo simulation number 240.\n",
      "Running Monte Carlo simulation number 250.\n",
      "Running Monte Carlo simulation number 260.\n",
      "Running Monte Carlo simulation number 270.\n",
      "Running Monte Carlo simulation number 280.\n",
      "Running Monte Carlo simulation number 290.\n",
      "Running Monte Carlo simulation number 300.\n",
      "Running Monte Carlo simulation number 310.\n",
      "Running Monte Carlo simulation number 320.\n",
      "Running Monte Carlo simulation number 330.\n",
      "Running Monte Carlo simulation number 340.\n",
      "Running Monte Carlo simulation number 350.\n",
      "Running Monte Carlo simulation number 360.\n",
      "Running Monte Carlo simulation number 370.\n",
      "Running Monte Carlo simulation number 380.\n",
      "Running Monte Carlo simulation number 390.\n",
      "Running Monte Carlo simulation number 400.\n",
      "Running Monte Carlo simulation number 410.\n",
      "Running Monte Carlo simulation number 420.\n",
      "Running Monte Carlo simulation number 430.\n",
      "Running Monte Carlo simulation number 440.\n",
      "Running Monte Carlo simulation number 450.\n",
      "Running Monte Carlo simulation number 460.\n",
      "Running Monte Carlo simulation number 470.\n",
      "Running Monte Carlo simulation number 480.\n",
      "Running Monte Carlo simulation number 490.\n",
      "Running Monte Carlo simulation number 500.\n",
      "Running Monte Carlo simulation number 510.\n",
      "Running Monte Carlo simulation number 520.\n",
      "Running Monte Carlo simulation number 530.\n",
      "Running Monte Carlo simulation number 540.\n",
      "Running Monte Carlo simulation number 550.\n",
      "Running Monte Carlo simulation number 560.\n",
      "Running Monte Carlo simulation number 570.\n",
      "Running Monte Carlo simulation number 580.\n",
      "Running Monte Carlo simulation number 590.\n",
      "Running Monte Carlo simulation number 600.\n",
      "Running Monte Carlo simulation number 610.\n",
      "Running Monte Carlo simulation number 620.\n",
      "Running Monte Carlo simulation number 630.\n",
      "Running Monte Carlo simulation number 640.\n",
      "Running Monte Carlo simulation number 650.\n",
      "Running Monte Carlo simulation number 660.\n",
      "Running Monte Carlo simulation number 670.\n",
      "Running Monte Carlo simulation number 680.\n",
      "Running Monte Carlo simulation number 690.\n",
      "Running Monte Carlo simulation number 700.\n",
      "Running Monte Carlo simulation number 710.\n",
      "Running Monte Carlo simulation number 720.\n",
      "Running Monte Carlo simulation number 730.\n",
      "Running Monte Carlo simulation number 740.\n",
      "Running Monte Carlo simulation number 750.\n",
      "Running Monte Carlo simulation number 760.\n",
      "Running Monte Carlo simulation number 770.\n",
      "Running Monte Carlo simulation number 780.\n",
      "Running Monte Carlo simulation number 790.\n",
      "Running Monte Carlo simulation number 800.\n",
      "Running Monte Carlo simulation number 810.\n",
      "Running Monte Carlo simulation number 820.\n",
      "Running Monte Carlo simulation number 830.\n",
      "Running Monte Carlo simulation number 840.\n",
      "Running Monte Carlo simulation number 850.\n",
      "Running Monte Carlo simulation number 860.\n",
      "Running Monte Carlo simulation number 870.\n",
      "Running Monte Carlo simulation number 880.\n",
      "Running Monte Carlo simulation number 890.\n",
      "Running Monte Carlo simulation number 900.\n",
      "Running Monte Carlo simulation number 910.\n",
      "Running Monte Carlo simulation number 920.\n",
      "Running Monte Carlo simulation number 930.\n",
      "Running Monte Carlo simulation number 940.\n",
      "Running Monte Carlo simulation number 950.\n",
      "Running Monte Carlo simulation number 960.\n",
      "Running Monte Carlo simulation number 970.\n",
      "Running Monte Carlo simulation number 980.\n",
      "Running Monte Carlo simulation number 990.\n"
     ]
    },
    {
     "data": {
      "text/html": [
       "<div>\n",
       "<style scoped>\n",
       "    .dataframe tbody tr th:only-of-type {\n",
       "        vertical-align: middle;\n",
       "    }\n",
       "\n",
       "    .dataframe tbody tr th {\n",
       "        vertical-align: top;\n",
       "    }\n",
       "\n",
       "    .dataframe thead th {\n",
       "        text-align: right;\n",
       "    }\n",
       "</style>\n",
       "<table border=\"1\" class=\"dataframe\">\n",
       "  <thead>\n",
       "    <tr style=\"text-align: right;\">\n",
       "      <th></th>\n",
       "      <th>0</th>\n",
       "      <th>1</th>\n",
       "      <th>2</th>\n",
       "      <th>3</th>\n",
       "      <th>4</th>\n",
       "      <th>5</th>\n",
       "      <th>6</th>\n",
       "      <th>7</th>\n",
       "      <th>8</th>\n",
       "      <th>9</th>\n",
       "      <th>...</th>\n",
       "      <th>990</th>\n",
       "      <th>991</th>\n",
       "      <th>992</th>\n",
       "      <th>993</th>\n",
       "      <th>994</th>\n",
       "      <th>995</th>\n",
       "      <th>996</th>\n",
       "      <th>997</th>\n",
       "      <th>998</th>\n",
       "      <th>999</th>\n",
       "    </tr>\n",
       "  </thead>\n",
       "  <tbody>\n",
       "    <tr>\n",
       "      <th>0</th>\n",
       "      <td>1.000000</td>\n",
       "      <td>1.000000</td>\n",
       "      <td>1.000000</td>\n",
       "      <td>1.000000</td>\n",
       "      <td>1.000000</td>\n",
       "      <td>1.000000</td>\n",
       "      <td>1.000000</td>\n",
       "      <td>1.000000</td>\n",
       "      <td>1.000000</td>\n",
       "      <td>1.000000</td>\n",
       "      <td>...</td>\n",
       "      <td>1.000000</td>\n",
       "      <td>1.000000</td>\n",
       "      <td>1.000000</td>\n",
       "      <td>1.000000</td>\n",
       "      <td>1.000000</td>\n",
       "      <td>1.000000</td>\n",
       "      <td>1.000000</td>\n",
       "      <td>1.000000</td>\n",
       "      <td>1.000000</td>\n",
       "      <td>1.000000</td>\n",
       "    </tr>\n",
       "    <tr>\n",
       "      <th>1</th>\n",
       "      <td>0.975920</td>\n",
       "      <td>1.001516</td>\n",
       "      <td>1.022538</td>\n",
       "      <td>1.007904</td>\n",
       "      <td>1.008955</td>\n",
       "      <td>1.021343</td>\n",
       "      <td>0.996460</td>\n",
       "      <td>0.977719</td>\n",
       "      <td>0.994554</td>\n",
       "      <td>0.996430</td>\n",
       "      <td>...</td>\n",
       "      <td>0.989092</td>\n",
       "      <td>1.006123</td>\n",
       "      <td>1.005169</td>\n",
       "      <td>0.984516</td>\n",
       "      <td>1.023349</td>\n",
       "      <td>1.004237</td>\n",
       "      <td>1.009993</td>\n",
       "      <td>0.995444</td>\n",
       "      <td>1.035497</td>\n",
       "      <td>0.994723</td>\n",
       "    </tr>\n",
       "    <tr>\n",
       "      <th>2</th>\n",
       "      <td>0.980016</td>\n",
       "      <td>0.996084</td>\n",
       "      <td>1.027424</td>\n",
       "      <td>1.010112</td>\n",
       "      <td>0.994881</td>\n",
       "      <td>1.015282</td>\n",
       "      <td>0.976494</td>\n",
       "      <td>0.996261</td>\n",
       "      <td>0.990879</td>\n",
       "      <td>1.004351</td>\n",
       "      <td>...</td>\n",
       "      <td>0.964746</td>\n",
       "      <td>1.024540</td>\n",
       "      <td>0.995672</td>\n",
       "      <td>1.011427</td>\n",
       "      <td>1.015220</td>\n",
       "      <td>0.962197</td>\n",
       "      <td>1.027337</td>\n",
       "      <td>0.978170</td>\n",
       "      <td>1.005199</td>\n",
       "      <td>0.987762</td>\n",
       "    </tr>\n",
       "    <tr>\n",
       "      <th>3</th>\n",
       "      <td>0.994850</td>\n",
       "      <td>0.979420</td>\n",
       "      <td>1.037314</td>\n",
       "      <td>0.985334</td>\n",
       "      <td>0.989455</td>\n",
       "      <td>1.034651</td>\n",
       "      <td>0.986929</td>\n",
       "      <td>1.005175</td>\n",
       "      <td>1.021754</td>\n",
       "      <td>0.969361</td>\n",
       "      <td>...</td>\n",
       "      <td>0.968533</td>\n",
       "      <td>1.011461</td>\n",
       "      <td>0.954943</td>\n",
       "      <td>1.036377</td>\n",
       "      <td>1.043423</td>\n",
       "      <td>0.979650</td>\n",
       "      <td>1.077961</td>\n",
       "      <td>0.985115</td>\n",
       "      <td>1.005366</td>\n",
       "      <td>0.995181</td>\n",
       "    </tr>\n",
       "    <tr>\n",
       "      <th>4</th>\n",
       "      <td>0.997896</td>\n",
       "      <td>0.963503</td>\n",
       "      <td>1.017865</td>\n",
       "      <td>1.021823</td>\n",
       "      <td>0.989386</td>\n",
       "      <td>1.057163</td>\n",
       "      <td>0.974599</td>\n",
       "      <td>1.014983</td>\n",
       "      <td>1.046481</td>\n",
       "      <td>0.977793</td>\n",
       "      <td>...</td>\n",
       "      <td>0.973158</td>\n",
       "      <td>1.022841</td>\n",
       "      <td>0.950036</td>\n",
       "      <td>1.017466</td>\n",
       "      <td>1.039839</td>\n",
       "      <td>0.950362</td>\n",
       "      <td>1.104263</td>\n",
       "      <td>0.982671</td>\n",
       "      <td>1.021052</td>\n",
       "      <td>0.975594</td>\n",
       "    </tr>\n",
       "    <tr>\n",
       "      <th>...</th>\n",
       "      <td>...</td>\n",
       "      <td>...</td>\n",
       "      <td>...</td>\n",
       "      <td>...</td>\n",
       "      <td>...</td>\n",
       "      <td>...</td>\n",
       "      <td>...</td>\n",
       "      <td>...</td>\n",
       "      <td>...</td>\n",
       "      <td>...</td>\n",
       "      <td>...</td>\n",
       "      <td>...</td>\n",
       "      <td>...</td>\n",
       "      <td>...</td>\n",
       "      <td>...</td>\n",
       "      <td>...</td>\n",
       "      <td>...</td>\n",
       "      <td>...</td>\n",
       "      <td>...</td>\n",
       "      <td>...</td>\n",
       "      <td>...</td>\n",
       "    </tr>\n",
       "    <tr>\n",
       "      <th>5036</th>\n",
       "      <td>974.989343</td>\n",
       "      <td>1900.137025</td>\n",
       "      <td>1809.149676</td>\n",
       "      <td>223.949976</td>\n",
       "      <td>650.310979</td>\n",
       "      <td>3261.226457</td>\n",
       "      <td>2588.824856</td>\n",
       "      <td>150.147735</td>\n",
       "      <td>3512.329137</td>\n",
       "      <td>1523.149617</td>\n",
       "      <td>...</td>\n",
       "      <td>164.960763</td>\n",
       "      <td>417.364528</td>\n",
       "      <td>532.843738</td>\n",
       "      <td>4076.173927</td>\n",
       "      <td>339.978336</td>\n",
       "      <td>375.465322</td>\n",
       "      <td>917.662095</td>\n",
       "      <td>1678.237133</td>\n",
       "      <td>2721.377923</td>\n",
       "      <td>1801.583224</td>\n",
       "    </tr>\n",
       "    <tr>\n",
       "      <th>5037</th>\n",
       "      <td>967.007088</td>\n",
       "      <td>1946.382690</td>\n",
       "      <td>1843.844688</td>\n",
       "      <td>224.770782</td>\n",
       "      <td>651.609289</td>\n",
       "      <td>3286.418476</td>\n",
       "      <td>2582.176694</td>\n",
       "      <td>147.415104</td>\n",
       "      <td>3430.827083</td>\n",
       "      <td>1574.273713</td>\n",
       "      <td>...</td>\n",
       "      <td>163.030089</td>\n",
       "      <td>407.382166</td>\n",
       "      <td>524.103432</td>\n",
       "      <td>4176.861750</td>\n",
       "      <td>343.991696</td>\n",
       "      <td>373.775232</td>\n",
       "      <td>926.587734</td>\n",
       "      <td>1752.594046</td>\n",
       "      <td>2761.961944</td>\n",
       "      <td>1777.664853</td>\n",
       "    </tr>\n",
       "    <tr>\n",
       "      <th>5038</th>\n",
       "      <td>990.664308</td>\n",
       "      <td>1972.548622</td>\n",
       "      <td>1804.527945</td>\n",
       "      <td>220.096324</td>\n",
       "      <td>649.601167</td>\n",
       "      <td>3357.147684</td>\n",
       "      <td>2616.041650</td>\n",
       "      <td>150.425457</td>\n",
       "      <td>3479.694535</td>\n",
       "      <td>1601.164690</td>\n",
       "      <td>...</td>\n",
       "      <td>158.064368</td>\n",
       "      <td>415.229806</td>\n",
       "      <td>530.424531</td>\n",
       "      <td>4120.728976</td>\n",
       "      <td>352.760440</td>\n",
       "      <td>372.206864</td>\n",
       "      <td>954.904329</td>\n",
       "      <td>1759.298379</td>\n",
       "      <td>2745.917912</td>\n",
       "      <td>1747.058072</td>\n",
       "    </tr>\n",
       "    <tr>\n",
       "      <th>5039</th>\n",
       "      <td>965.261147</td>\n",
       "      <td>1998.096360</td>\n",
       "      <td>1771.157839</td>\n",
       "      <td>213.788618</td>\n",
       "      <td>635.014281</td>\n",
       "      <td>3454.600167</td>\n",
       "      <td>2631.944549</td>\n",
       "      <td>150.461250</td>\n",
       "      <td>3486.641387</td>\n",
       "      <td>1676.667968</td>\n",
       "      <td>...</td>\n",
       "      <td>158.197675</td>\n",
       "      <td>415.966222</td>\n",
       "      <td>532.489402</td>\n",
       "      <td>4092.235612</td>\n",
       "      <td>358.487071</td>\n",
       "      <td>370.913700</td>\n",
       "      <td>964.066539</td>\n",
       "      <td>1772.912839</td>\n",
       "      <td>2688.156539</td>\n",
       "      <td>1744.515865</td>\n",
       "    </tr>\n",
       "    <tr>\n",
       "      <th>5040</th>\n",
       "      <td>965.763531</td>\n",
       "      <td>1965.510206</td>\n",
       "      <td>1741.859872</td>\n",
       "      <td>210.298421</td>\n",
       "      <td>648.109718</td>\n",
       "      <td>3550.186053</td>\n",
       "      <td>2573.033670</td>\n",
       "      <td>157.331313</td>\n",
       "      <td>3591.264868</td>\n",
       "      <td>1646.926381</td>\n",
       "      <td>...</td>\n",
       "      <td>161.573756</td>\n",
       "      <td>417.009495</td>\n",
       "      <td>526.699536</td>\n",
       "      <td>3970.740725</td>\n",
       "      <td>363.073220</td>\n",
       "      <td>364.603702</td>\n",
       "      <td>957.639148</td>\n",
       "      <td>1827.242024</td>\n",
       "      <td>2757.080569</td>\n",
       "      <td>1723.813623</td>\n",
       "    </tr>\n",
       "  </tbody>\n",
       "</table>\n",
       "<p>5041 rows × 1000 columns</p>\n",
       "</div>"
      ],
      "text/plain": [
       "             0            1            2           3           4    \\\n",
       "0       1.000000     1.000000     1.000000    1.000000    1.000000   \n",
       "1       0.975920     1.001516     1.022538    1.007904    1.008955   \n",
       "2       0.980016     0.996084     1.027424    1.010112    0.994881   \n",
       "3       0.994850     0.979420     1.037314    0.985334    0.989455   \n",
       "4       0.997896     0.963503     1.017865    1.021823    0.989386   \n",
       "...          ...          ...          ...         ...         ...   \n",
       "5036  974.989343  1900.137025  1809.149676  223.949976  650.310979   \n",
       "5037  967.007088  1946.382690  1843.844688  224.770782  651.609289   \n",
       "5038  990.664308  1972.548622  1804.527945  220.096324  649.601167   \n",
       "5039  965.261147  1998.096360  1771.157839  213.788618  635.014281   \n",
       "5040  965.763531  1965.510206  1741.859872  210.298421  648.109718   \n",
       "\n",
       "              5            6           7            8            9    ...  \\\n",
       "0        1.000000     1.000000    1.000000     1.000000     1.000000  ...   \n",
       "1        1.021343     0.996460    0.977719     0.994554     0.996430  ...   \n",
       "2        1.015282     0.976494    0.996261     0.990879     1.004351  ...   \n",
       "3        1.034651     0.986929    1.005175     1.021754     0.969361  ...   \n",
       "4        1.057163     0.974599    1.014983     1.046481     0.977793  ...   \n",
       "...           ...          ...         ...          ...          ...  ...   \n",
       "5036  3261.226457  2588.824856  150.147735  3512.329137  1523.149617  ...   \n",
       "5037  3286.418476  2582.176694  147.415104  3430.827083  1574.273713  ...   \n",
       "5038  3357.147684  2616.041650  150.425457  3479.694535  1601.164690  ...   \n",
       "5039  3454.600167  2631.944549  150.461250  3486.641387  1676.667968  ...   \n",
       "5040  3550.186053  2573.033670  157.331313  3591.264868  1646.926381  ...   \n",
       "\n",
       "             990         991         992          993         994         995  \\\n",
       "0       1.000000    1.000000    1.000000     1.000000    1.000000    1.000000   \n",
       "1       0.989092    1.006123    1.005169     0.984516    1.023349    1.004237   \n",
       "2       0.964746    1.024540    0.995672     1.011427    1.015220    0.962197   \n",
       "3       0.968533    1.011461    0.954943     1.036377    1.043423    0.979650   \n",
       "4       0.973158    1.022841    0.950036     1.017466    1.039839    0.950362   \n",
       "...          ...         ...         ...          ...         ...         ...   \n",
       "5036  164.960763  417.364528  532.843738  4076.173927  339.978336  375.465322   \n",
       "5037  163.030089  407.382166  524.103432  4176.861750  343.991696  373.775232   \n",
       "5038  158.064368  415.229806  530.424531  4120.728976  352.760440  372.206864   \n",
       "5039  158.197675  415.966222  532.489402  4092.235612  358.487071  370.913700   \n",
       "5040  161.573756  417.009495  526.699536  3970.740725  363.073220  364.603702   \n",
       "\n",
       "             996          997          998          999  \n",
       "0       1.000000     1.000000     1.000000     1.000000  \n",
       "1       1.009993     0.995444     1.035497     0.994723  \n",
       "2       1.027337     0.978170     1.005199     0.987762  \n",
       "3       1.077961     0.985115     1.005366     0.995181  \n",
       "4       1.104263     0.982671     1.021052     0.975594  \n",
       "...          ...          ...          ...          ...  \n",
       "5036  917.662095  1678.237133  2721.377923  1801.583224  \n",
       "5037  926.587734  1752.594046  2761.961944  1777.664853  \n",
       "5038  954.904329  1759.298379  2745.917912  1747.058072  \n",
       "5039  964.066539  1772.912839  2688.156539  1744.515865  \n",
       "5040  957.639148  1827.242024  2757.080569  1723.813623  \n",
       "\n",
       "[5041 rows x 1000 columns]"
      ]
     },
     "execution_count": 156,
     "metadata": {},
     "output_type": "execute_result"
    }
   ],
   "source": [
    "# Run the Monte Carlo simulation to forecast 20 years cumulative returns\n",
    "MC_twenty_years.calc_cumulative_return()\n"
   ]
  },
  {
   "cell_type": "code",
   "execution_count": 157,
   "id": "535bbdd8-e4ca-4cd9-9619-bc86877e8e1e",
   "metadata": {},
   "outputs": [
    {
     "data": {
      "text/plain": [
       "<AxesSubplot:title={'center':'1000 Simulations of Cumulative Portfolio Return Trajectories Over the Next 5040 Trading Days.'}>"
      ]
     },
     "execution_count": 157,
     "metadata": {},
     "output_type": "execute_result"
    },
    {
     "data": {
      "image/png": "[encoded data removed]",
      "text/plain": [
       "<Figure size 432x288 with 1 Axes>"
      ]
     },
     "metadata": {
      "needs_background": "light"
     },
     "output_type": "display_data"
    }
   ],
   "source": [
    "# Visualize the 20-year Monte Carlo simulation by creating an\n",
    "# overlay line plot\n",
    "MC_twenty_years.plot_simulation()\n"
   ]
  },
  {
   "cell_type": "markdown",
   "id": "41c4ae6f-6d0e-4f35-a0b6-9adbe6a18a13",
   "metadata": {},
   "source": [
    "#### Plot the probability distribution of the Monte Carlo simulation."
   ]
  },
  {
   "cell_type": "code",
   "execution_count": 159,
   "id": "8405e898-7086-431b-b565-15b702f58e38",
   "metadata": {},
   "outputs": [
    {
     "data": {
      "text/plain": [
       "<AxesSubplot:title={'center':'Distribution of Final Cumuluative Returns Across All 1000 Simulations'}, ylabel='Frequency'>"
      ]
     },
     "execution_count": 159,
     "metadata": {},
     "output_type": "execute_result"
    },
    {
     "data": {
      "image/png": "[encoded data removed]",
      "text/plain": [
       "<Figure size 432x288 with 1 Axes>"
      ]
     },
     "metadata": {
      "needs_background": "light"
     },
     "output_type": "display_data"
    }
   ],
   "source": [
    "# Visualize the probability distribution of the 20-year Monte Carlo simulation \n",
    "# by plotting a histogram\n",
    "MC_twenty_years.plot_distribution()"
   ]
  },
  {
   "cell_type": "markdown",
   "id": "efd44a36-5c04-447f-b41d-d1931d90d598",
   "metadata": {},
   "source": [
    "#### Generate the summary statistics for the Monte Carlo simulation."
   ]
  },
  {
   "cell_type": "code",
   "execution_count": 160,
   "id": "c9b4a054-1ab6-436d-9650-27c817fa42ce",
   "metadata": {},
   "outputs": [
    {
     "name": "stdout",
     "output_type": "stream",
     "text": [
      "count            1000.000\n",
      "mean             2469.295\n",
      "std              5567.959\n",
      "min                15.820\n",
      "25%               457.529\n",
      "50%              1054.030\n",
      "75%              2543.281\n",
      "max             94226.485\n",
      "95% CI Lower       86.605\n",
      "95% CI Upper    12381.035\n",
      "Name: 5040, dtype: float64\n"
     ]
    }
   ],
   "source": [
    "# Generate summary statistics from the 20-year Monte Carlo simulation results\n",
    "# Save the results as a variable\n",
    "MC_twenty_summary_statistics = round(MC_twenty_years.summarize_cumulative_return(), 3)\n",
    "\n",
    "\n",
    "# Review the 20-year Monte Carlo summary statistics\n",
    "print(MC_twenty_summary_statistics)"
   ]
  },
  {
   "cell_type": "markdown",
   "id": "9075008d-ca70-449d-96c8-ce048e02d17b",
   "metadata": {},
   "source": [
    "### Analyze the Dividend Reinvestment Into Microsoft Portfolio Forecasts\n",
    "\n",
    "Using the current value of the stock portfolio and the summary statistics that was generated from the Monte Carlo simulation, let's see what are the lower and upper bounds for the expected value of the portfolio with a 95% confidence interval?"
   ]
  },
  {
   "cell_type": "code",
   "execution_count": 161,
   "id": "31d6aa39-6801-4ea6-afaf-508d404ea989",
   "metadata": {},
   "outputs": [
    {
     "name": "stdout",
     "output_type": "stream",
     "text": [
      "The current value of the stock portfolio is: $99492.0\n"
     ]
    }
   ],
   "source": [
    "# Print the current value of the stock.\n",
    "print(f\"The current value of the stock portfolio is: ${msft_value}\")\n"
   ]
  },
  {
   "cell_type": "code",
   "execution_count": 162,
   "id": "2a711714-aa98-48c0-903b-6d5d1b5dc4dc",
   "metadata": {},
   "outputs": [
    {
     "name": "stdout",
     "output_type": "stream",
     "text": [
      "There is a 95% chance that you current protfolio over the next 30 years will end within in range of \n",
      "$ 8616504.66 and $ 1231813934.22\n"
     ]
    }
   ],
   "source": [
    "# Use the lower and upper `95%` confidence intervals to calculate the range of the possible outcomes for the portfolio\n",
    "ci_lower_twenty_cumulative_return = MC_twenty_summary_statistics[8] * msft_value\n",
    "ci_upper_twenty_cumulative_return = MC_twenty_summary_statistics[9] * msft_value\n",
    "\n",
    "# Print the result of your calculations\n",
    "print(f\"There is a 95% chance that you current protfolio and the reinvested deividend over the next 20 years will end within in range of \\n\"\n",
    "     f\"${ci_lower_twenty_cumulative_return: .2f} and ${ci_upper_twenty_cumulative_return: .2f}\")\n"
   ]
  },
  {
   "cell_type": "code",
   "execution_count": null,
   "id": "5c62095b-9283-4f42-9aad-753ef415afb4",
   "metadata": {},
   "outputs": [],
   "source": []
  },
  {
   "cell_type": "markdown",
   "id": "8b3fec38-f3a7-4748-997b-7f1869e6171e",
   "metadata": {},
   "source": [
    "#### Step 2c: Run a Monte Carlo simulation of 1000 samples and 30 years for Microsoft, and then plot the results."
   ]
  },
  {
   "cell_type": "code",
   "execution_count": null,
   "id": "4fa43781-0a48-4380-8aea-4a51f729001b",
   "metadata": {},
   "outputs": [],
   "source": [
    "# Configure the Monte Carlo simulation to forecast 30 years cumulative returns\n",
    "# Run 1000 samples.\n",
    "MC_thirty_years = MCSimulation(portfolio_data = prices_df,\n",
    "                             num_simulation= 1000,\n",
    "                             num_trading_days= 252*30)\n",
    "\n",
    "# Review the simulation input data\n",
    "MC_thirty_years.portfolio_data.head()\n",
    "\n",
    "\n",
    "# We need to update the Montecarlo first for this part!!! "
   ]
  },
  {
   "cell_type": "code",
   "execution_count": null,
   "id": "f85c29b9-f71b-4805-bf27-454c75d2e1b2",
   "metadata": {},
   "outputs": [],
   "source": [
    "# Run the Monte Carlo simulation to forecast 30 years cumulative returns\n",
    "MC_thirty_years.calc_cumulative_return()\n"
   ]
  },
  {
   "cell_type": "code",
   "execution_count": null,
   "id": "f4a35e8f-c8de-464c-9700-11a6f09242de",
   "metadata": {},
   "outputs": [],
   "source": [
    "# Visualize the 30-year Monte Carlo simulation by creating an\n",
    "# overlay line plot\n",
    "MC_thirty_years.plot_simulation()\n"
   ]
  },
  {
   "cell_type": "markdown",
   "id": "c6106324-87a0-442a-b7be-c095826a328b",
   "metadata": {},
   "source": [
    "#### Plot the probability distribution of the Monte Carlo simulation."
   ]
  },
  {
   "cell_type": "code",
   "execution_count": null,
   "id": "be073c62-613c-4513-ac56-1848a74c18fa",
   "metadata": {},
   "outputs": [],
   "source": [
    "# Visualize the probability distribution of the 30-year Monte Carlo simulation \n",
    "# by plotting a histogram\n",
    "MC_thirty_years.plot_distribution()"
   ]
  },
  {
   "cell_type": "markdown",
   "id": "c41b9407-b485-46e7-bd8a-720939711079",
   "metadata": {},
   "source": [
    "#### Generate the summary statistics for the Monte Carlo simulation."
   ]
  },
  {
   "cell_type": "code",
   "execution_count": null,
   "id": "50ae3322-26d4-4b6e-937b-5dc9dcd4d8da",
   "metadata": {},
   "outputs": [],
   "source": [
    "# Generate summary statistics from the 30-year Monte Carlo simulation results\n",
    "# Save the results as a variable\n",
    "MC_thirty_summary_statistics = round(MC_thirty_years.summarize_cumulative_return(), 3)\n",
    "\n",
    "\n",
    "# Review the 30-year Monte Carlo summary statistics\n",
    "print(MC_thirty_summary_statistics)"
   ]
  },
  {
   "cell_type": "markdown",
   "id": "ac20d398-50fd-4739-865a-cc66a68c9481",
   "metadata": {},
   "source": [
    "### Analyze the Dividend Reinvestment Into Microsoft Portfolio Forecasts\n",
    "\n",
    "Using the current value of the stock portfolio and the summary statistics that was generated from the Monte Carlo simulation, let's see what are the lower and upper bounds for the expected value of the portfolio with a 95% confidence interval?"
   ]
  },
  {
   "cell_type": "code",
   "execution_count": null,
   "id": "a059b962-984e-4404-94bd-dee636564c17",
   "metadata": {},
   "outputs": [],
   "source": [
    "# Print the current value of the stock.\n",
    "print(f\"The current value of the stock portfolio is: ${msft_value}\")\n"
   ]
  },
  {
   "cell_type": "code",
   "execution_count": null,
   "id": "803f55a8-d20f-47c3-a28a-fd99e2249837",
   "metadata": {},
   "outputs": [],
   "source": [
    "# Use the lower and upper `95%` confidence intervals to calculate the range of the possible outcomes for the portfolio\n",
    "ci_lower_thirty_cumulative_return = MC_thirty_summary_statistics[8] * msft_value\n",
    "ci_upper_thirty_cumulative_return = MC_thirty_summary_statistics[9] * msft_value\n",
    "\n",
    "# Print the result of your calculations\n",
    "print(f\"There is a 95% chance that you current protfolio and the reinvested deividend over the next 30 years will end within in range of \\n\"\n",
    "     f\"${ci_lower_thirty_cumulative_return: .2f} and ${ci_upper_thirty_cumulative_return: .2f}\")\n"
   ]
  },
  {
   "cell_type": "code",
   "execution_count": null,
   "id": "bff1aba5-9ecf-4888-9ea7-82285a50dca9",
   "metadata": {},
   "outputs": [],
   "source": []
  },
  {
   "cell_type": "markdown",
   "id": "d362071f-5659-4516-9f3c-bf0ccc42dcd5",
   "metadata": {},
   "source": [
    "## Option 2: Reinvesting the dividens into Bitcoin Cryptocurrency (BTC) "
   ]
  },
  {
   "cell_type": "markdown",
   "id": "c0c84172-e120-4ee7-a0d5-a3e8893c66ed",
   "metadata": {},
   "source": [
    "### Create the Monte Carlo Simulation that will include reinstment of dividend on a yearly basis\n",
    "\n",
    "In this section, we will use the MCForecastTools library to create a Monte Carlo simulation for the purpose of reinvesting the dividend into the chosen crypto. \n",
    "\n",
    "1. Using read_csv, get the historical closing prices for Bitcoin (BTC).\n",
    "\n",
    "2. Run a Monte Carlo simulations of 1000 samples for 10, 20 and 30 years for the portfolio, and then plot the results. \n",
    "\n",
    "3. Plot the probability distribution of the Monte Carlo simulations. Plot the probability distribution of the Monte Carlo simulation.\n",
    "\n",
    "4. Generate the summary statistics for the Monte Carlo simulation.\n"
   ]
  },
  {
   "cell_type": "code",
   "execution_count": null,
   "id": "6f25b414-9e58-465f-b7cf-6ec6f8430d93",
   "metadata": {},
   "outputs": [],
   "source": []
  },
  {
   "cell_type": "code",
   "execution_count": null,
   "id": "ff6770d5-0f87-49e2-99dc-67e070430ef6",
   "metadata": {},
   "outputs": [],
   "source": []
  },
  {
   "cell_type": "code",
   "execution_count": null,
   "id": "925b7e12-c6fb-4714-965b-89a7d3ee106b",
   "metadata": {},
   "outputs": [],
   "source": []
  },
  {
   "cell_type": "code",
   "execution_count": null,
   "id": "ea848781-cc85-4278-9c0a-68dce0e91861",
   "metadata": {},
   "outputs": [],
   "source": []
  },
  {
   "cell_type": "markdown",
   "id": "b6f2a079-e422-485e-9c11-742384efd4c5",
   "metadata": {},
   "source": [
    "## Option 3: Keep the dividens as cash and see where Microsoft (MSFT) could be without reinvesting"
   ]
  },
  {
   "cell_type": "markdown",
   "id": "7b9679cf-fe2c-497e-a475-cd2a8bc35f04",
   "metadata": {},
   "source": [
    "### Create the Monte Carlo Simulation that will include reinstment of dividend on a yearly basis\n",
    "\n",
    "In this section, we will use the MCForecastTools library to create a Monte Carlo simulation for Microsoft (MSFT)\n",
    "\n",
    "1. Run a Monte Carlo simulations of 1000 samples for 10, 20 and 30 years for the portfolio, and then plot the results. \n",
    "\n",
    "2. Plot the probability distribution of the Monte Carlo simulations. Plot the probability distribution of the Monte Carlo simulation.\n",
    "\n",
    "3. Generate the summary statistics for the Monte Carlo simulation.\n"
   ]
  },
  {
   "cell_type": "markdown",
   "id": "6ac63194-f137-468e-a459-96d02c7bb261",
   "metadata": {},
   "source": [
    "#### Step 1a: Run a Monte Carlo simulation of 1000 samples and 10 years for Microsoft, and then plot the results."
   ]
  },
  {
   "cell_type": "code",
   "execution_count": null,
   "id": "3d46417e-a423-4ff9-88d6-c6f95c6607d6",
   "metadata": {},
   "outputs": [],
   "source": [
    "# Configure the Monte Carlo simulation to forecast 10 years cumulative returns\n",
    "# Run 1000 samples.\n",
    "ten_year_simulation = MCSimulation(portfolio_data = prices_df,\n",
    "                             num_simulation= 1000,\n",
    "                             num_trading_days= 252*10)\n",
    "\n",
    "# Review the simulation input data\n",
    "ten_year_simulation.portfolio_data.head()"
   ]
  },
  {
   "cell_type": "code",
   "execution_count": null,
   "id": "0eb8d590-63d3-4eef-b320-4f1ca6d1ccd4",
   "metadata": {},
   "outputs": [],
   "source": [
    "# Run the Monte Carlo simulation to forecast 10 years cumulative returns\n",
    "ten_year_simulation.calc_cumulative_return()"
   ]
  },
  {
   "cell_type": "code",
   "execution_count": null,
   "id": "75d5459d-a516-4fca-839d-0784fb5543e3",
   "metadata": {},
   "outputs": [],
   "source": [
    "# Visualize the 10-year Monte Carlo simulation by creating an\n",
    "# overlay line plot\n",
    "ten_year_simulation.plot_simulation()"
   ]
  },
  {
   "cell_type": "markdown",
   "id": "50ece0a1-51e7-45d0-8482-f2c2e66765cc",
   "metadata": {},
   "source": [
    "#### Plot the probability distribution of the Monte Carlo simulation."
   ]
  },
  {
   "cell_type": "code",
   "execution_count": null,
   "id": "9b0d0976-e4ae-41ce-90c1-a26dab389afa",
   "metadata": {},
   "outputs": [],
   "source": [
    "# Visualize the probability distribution of the 10-year Monte Carlo simulation \n",
    "# by plotting a histogram\n",
    "ten_year_simulation.plot_distribution()\n"
   ]
  },
  {
   "cell_type": "markdown",
   "id": "dc0d5c46-498f-4856-8e20-58df8c8e96fa",
   "metadata": {},
   "source": [
    "#### Generate the summary statistics for the Monte Carlo simulation."
   ]
  },
  {
   "cell_type": "code",
   "execution_count": null,
   "id": "4d8d5c29-0814-4417-b5e4-cde94a7b6323",
   "metadata": {},
   "outputs": [],
   "source": [
    "# Generate summary statistics from the 10-year Monte Carlo simulation results\n",
    "# Save the results as a variable\n",
    "ten_tbl_summary_statistics = round(ten_year_simulation.summarize_cumulative_return(),2)\n",
    "\n",
    "\n",
    "# Review the 10-year Monte Carlo summary statistics\n",
    "print(ten_tbl_summary_statistics)"
   ]
  },
  {
   "cell_type": "markdown",
   "id": "79e5caee-b959-4369-9164-f0f78b32f380",
   "metadata": {},
   "source": [
    "### Analyze Microsoft stock Portfolio Forecasts\n",
    "\n",
    "Using the current value of the stock portfolio and the summary statistics that was generated from the Monte Carlo simulation, let's see what are the lower and upper bounds for the expected value of the portfolio with a 95% confidence interval?"
   ]
  },
  {
   "cell_type": "code",
   "execution_count": null,
   "id": "1d6f5706-0116-45da-b0e9-56fa67eb801e",
   "metadata": {},
   "outputs": [],
   "source": [
    "# Print the current value of the stock.\n",
    "print(f\"The current value of the stock portfolio is: ${msft_value}\")"
   ]
  },
  {
   "cell_type": "code",
   "execution_count": null,
   "id": "f611ea7e-3aa6-4126-854f-038fa950a851",
   "metadata": {},
   "outputs": [],
   "source": [
    "# Use the lower and upper `95%` confidence intervals to calculate the range of the possible outcomes for the current stock/bond portfolio\n",
    "ci_lower_ten_cumulative_return = round(ten_tbl[8] * msft_value,2)\n",
    "ci_upper_ten_cumulative_return = round(ten_tbl[9] * msft_value,2)\n",
    "\n",
    "# Print the result of your calculations\n",
    "print(f\"There is a 95% chance that you current protfolio over the next 10 years will end within in range of \\n\"\n",
    "     f\"${ci_lower_thirty_cumulative_return: .2f} and ${ci_upper_thirty_cumulative_return: .2f}\")\n"
   ]
  },
  {
   "cell_type": "markdown",
   "id": "e320cae7-ded7-4201-8a69-77afe57eb974",
   "metadata": {},
   "source": [
    "#### Step 1b: Run a Monte Carlo simulation of 1000 samples and 20 years for Microsoft, and then plot the results."
   ]
  },
  {
   "cell_type": "code",
   "execution_count": null,
   "id": "cfe508da-8fbb-4c92-9466-5cc1e5bd5e15",
   "metadata": {},
   "outputs": [],
   "source": [
    "# Configure a Monte Carlo simulation to forecast 20 years cumulative returns\n",
    "# Run 1000 samples\n",
    "twenty_year_simulation = MCSimulation(portfolio_data= prices_df,\n",
    "                                      num_simulation=1000,\n",
    "                                      num_trading_days=252*20,)\n",
    "\n",
    "# Review the simulation input data\n",
    "twenty_year_simulation.portfolio_data.head()"
   ]
  },
  {
   "cell_type": "code",
   "execution_count": null,
   "id": "77b9c93b-f138-43d0-8ab3-734dfad75dfd",
   "metadata": {},
   "outputs": [],
   "source": [
    "# Run the Monte Carlo simulation to forecast 20 years cumulative returns\n",
    "twenty_year_simulation.calc_cumulative_return()"
   ]
  },
  {
   "cell_type": "code",
   "execution_count": null,
   "id": "1eeb152c-cd35-40ee-aa5c-1b624f705e97",
   "metadata": {},
   "outputs": [],
   "source": [
    "# Visualize the 10-year Monte Carlo simulation by creating an\n",
    "# overlay line plot\n",
    "twenty_year_simulation.plot_simulation()"
   ]
  },
  {
   "cell_type": "markdown",
   "id": "adb620ff-d7e1-4d1a-a63b-bea4ea47cdbb",
   "metadata": {},
   "source": [
    "#### Plot the probability distribution of the Monte Carlo simulation."
   ]
  },
  {
   "cell_type": "code",
   "execution_count": null,
   "id": "b877aace-7c14-4e1c-9430-b3e54276c491",
   "metadata": {},
   "outputs": [],
   "source": [
    "# Visualize the probability distribution of the 10-year Monte Carlo simulation \n",
    "# by plotting a histogram\n",
    "twenty_year_simulation.plot_distribution()\n"
   ]
  },
  {
   "cell_type": "markdown",
   "id": "a7b44c0a-0a37-42c2-88a5-5c61476602fd",
   "metadata": {},
   "source": [
    "#### Generate the summary statistics for the Monte Carlo simulation."
   ]
  },
  {
   "cell_type": "code",
   "execution_count": null,
   "id": "80149df3-75f0-48b2-bda9-690a34d143cc",
   "metadata": {},
   "outputs": [],
   "source": [
    "# Generate summary statistics from the 20-year Monte Carlo simulation results\n",
    "# Save the results as a variable\n",
    "twenty_tbl= round(twenty_year_simulation.summarize_cumulative_return(), 2)\n",
    "\n",
    "\n",
    "# Review the 10-year Monte Carlo summary statistics\n",
    "print(twenty_tbl)"
   ]
  },
  {
   "cell_type": "markdown",
   "id": "df0196a6-69b1-44b7-859a-c5ad3adc6b0d",
   "metadata": {},
   "source": [
    "### Analyze Microsoft stock Portfolio Forecasts\n",
    "\n",
    "Using the current value of the stock portfolio and the summary statistics that was generated from the Monte Carlo simulation, let's see what are the lower and upper bounds for the expected value of the portfolio with a 95% confidence interval?"
   ]
  },
  {
   "cell_type": "code",
   "execution_count": null,
   "id": "776e0a2e-c87e-4a8f-99bd-213465d2da59",
   "metadata": {},
   "outputs": [],
   "source": [
    "# Print the current balance of the MSFT portfolio\n",
    "print(f'The current balance of the MSFT portfolio is: ${msft_value:.2f}')"
   ]
  },
  {
   "cell_type": "code",
   "execution_count": null,
   "id": "2af0086b-c081-4012-adb9-71f627f8ca56",
   "metadata": {},
   "outputs": [],
   "source": [
    "# Use the lower and upper `95%` confidence intervals to calculate the range of the possible outcomes for the current stock/bond portfolio\n",
    "ci_lower_twenty_cumulative_return = round(twenty_tbl[8] * msft_value,2)\n",
    "ci_upper_twenty_cumulative_return = round(twenty_tbl[9] * msft_value,2)\n",
    "\n",
    "# Print the result of your calculations\n",
    "print(f\"There is a 95% chance that you current protfolio over the next 20 years will end within in range of \\n\"\n",
    "     f\"${ci_lower_thirty_cumulative_return: .2f} and ${ci_upper_thirty_cumulative_return: .2f}\")"
   ]
  },
  {
   "cell_type": "markdown",
   "id": "66ee65ae-1b64-427a-a9d7-d350d56db256",
   "metadata": {},
   "source": [
    "#### Step 1c: Run a Monte Carlo simulation of 1000 samples and 30 years for Microsoft, and then plot the results."
   ]
  },
  {
   "cell_type": "code",
   "execution_count": null,
   "id": "c625a182-40ea-4e81-b31a-1ede160f9b58",
   "metadata": {},
   "outputs": [],
   "source": [
    "# Configure a Monte Carlo simulation to forecast 30 years cumulative returns\n",
    "# Run 1000 samples\n",
    "thirty_year_simulation = MCSimulation(portfolio_data = prices_df,\n",
    "                                      num_simulation = 1000,\n",
    "                                      num_trading_days = 252 * 30,)\n",
    "\n",
    "# Review the simulation input data\n",
    "thirty_year_simulation.portfolio_data.head()"
   ]
  },
  {
   "cell_type": "code",
   "execution_count": null,
   "id": "6ec49e53-163c-49bf-b241-9c6a03844663",
   "metadata": {},
   "outputs": [],
   "source": [
    "# Run the Monte Carlo simulation to forecast 30 years cumulative returns\n",
    "thirty_year_simulation.calc_cumulative_return()"
   ]
  },
  {
   "cell_type": "code",
   "execution_count": null,
   "id": "b5190a12-360b-467b-be4c-69cb1fb0d594",
   "metadata": {},
   "outputs": [],
   "source": [
    "### Visualize the 30-year Monte Carlo simulation by creating an\n",
    "# overlay line plot\n",
    "thirty_year_simulation.plot_simulation()"
   ]
  },
  {
   "cell_type": "markdown",
   "id": "bf3ad316-ed54-443e-8129-28af2ec25986",
   "metadata": {},
   "source": [
    "#### Plot the probability distribution of the Monte Carlo simulation."
   ]
  },
  {
   "cell_type": "code",
   "execution_count": null,
   "id": "3e3c2bf8-1a35-4e2a-ab4b-62feebfdd734",
   "metadata": {},
   "outputs": [],
   "source": [
    "# Visualize the probability distribution of the 30-year Monte Carlo simulation \n",
    "# by plotting a histogram\n",
    "thirty_year_simulation.plot_distribution()"
   ]
  },
  {
   "cell_type": "markdown",
   "id": "af24f689-5648-4b67-9d45-35c0c6238a16",
   "metadata": {},
   "source": [
    "#### Generate the summary statistics for the Monte Carlo simulation."
   ]
  },
  {
   "cell_type": "code",
   "execution_count": null,
   "id": "54a8b8cd-be31-4254-843e-68f377e0b50f",
   "metadata": {},
   "outputs": [],
   "source": [
    "# Generate summary statistics from the 30-year Monte Carlo simulation results\n",
    "# Save the results as a variable\n",
    "thirty_tbl=thirty_year_simulation.summarize_cumulative_return()\n",
    "\n",
    "# Review the 30-year Monte Carlo summary statistics\n",
    "thirty_tbl"
   ]
  },
  {
   "cell_type": "markdown",
   "id": "f9fcdc56-aaa8-47c9-8a3a-be51363dc046",
   "metadata": {},
   "source": [
    "### Analyze Microsoft stock Portfolio Forecasts\n",
    "\n",
    "Using the current value of the stock portfolio and the summary statistics that was generated from the Monte Carlo simulation, let's see what are the lower and upper bounds for the expected value of the portfolio with a 95% confidence interval?"
   ]
  },
  {
   "cell_type": "code",
   "execution_count": null,
   "id": "6014c63f-8cda-4bc8-b5c5-a8730bcbdbca",
   "metadata": {},
   "outputs": [],
   "source": [
    "# Use the lower and upper `95%` confidence intervals to calculate the range of the possible outcomes for the current stock/bond portfolio\n",
    "ci_lower_thirty_cumulative_return = round(thirty_tbl[8] * msft_value,2)\n",
    "ci_upper_thirty_cumulative_return = round(thirty_tbl[9] * msft_value,2)\n",
    "\n",
    "# Print the result of your calculations\n",
    "print(f\"There is a 95% chance that you current protfolio over the next 30 years will end within in range of \\n\"\n",
    "     f\"${ci_lower_thirty_cumulative_return: .2f} and ${ci_upper_thirty_cumulative_return: .2f}\")"
   ]
  },
  {
   "cell_type": "code",
   "execution_count": null,
   "id": "435d3292-5689-4f7f-a23b-a12a05945c3e",
   "metadata": {},
   "outputs": [],
   "source": []
  },
  {
   "cell_type": "code",
   "execution_count": null,
   "id": "08e22806-05f6-4745-8d25-b826144cfbfd",
   "metadata": {},
   "outputs": [],
   "source": []
  },
  {
   "cell_type": "code",
   "execution_count": null,
   "id": "c39c185e-671e-47b5-ad48-3ac6d9856f30",
   "metadata": {},
   "outputs": [],
   "source": []
  },
  {
   "cell_type": "code",
   "execution_count": null,
   "id": "d8b0cd90-8bfe-4300-8abf-cfe31b9d3b5b",
   "metadata": {},
   "outputs": [],
   "source": []
  },
  {
   "cell_type": "code",
   "execution_count": null,
   "id": "046e343f-632c-4cda-8af5-82f546d847d7",
   "metadata": {},
   "outputs": [],
   "source": []
  },
  {
   "cell_type": "code",
   "execution_count": null,
   "id": "98be349f-e49f-4d3d-8801-80d39f46341e",
   "metadata": {},
   "outputs": [],
   "source": []
  },
  {
   "cell_type": "code",
   "execution_count": null,
   "id": "bcd2fa24-562c-4751-9845-caaec31c4a6b",
   "metadata": {},
   "outputs": [],
   "source": []
  },
  {
   "cell_type": "code",
   "execution_count": null,
   "id": "132a2c00-5ca4-4a94-8e9c-e7501024add0",
   "metadata": {},
   "outputs": [],
   "source": []
  },
  {
   "cell_type": "code",
   "execution_count": null,
   "id": "964cff25-0eca-4169-84ff-6bea64d32e85",
   "metadata": {},
   "outputs": [],
   "source": []
  }
 ],
 "metadata": {
  "kernelspec": {
   "display_name": "Python 3",
   "language": "python",
   "name": "python3"
  },
  "language_info": {
   "codemirror_mode": {
    "name": "ipython",
    "version": 3
   },
   "file_extension": ".py",
   "mimetype": "text/x-python",
   "name": "python",
   "nbconvert_exporter": "python",
   "pygments_lexer": "ipython3",
   "version": "3.7.7"
  }
 },
 "nbformat": 4,
 "nbformat_minor": 5
}
