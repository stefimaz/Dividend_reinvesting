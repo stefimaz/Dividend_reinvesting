{
 "cells": [
  {
   "cell_type": "markdown",
   "id": "133cc0a4-6394-4e20-988e-11c55bd00f69",
   "metadata": {},
   "source": [
    "# The Power of Dividend Reinvestment with APIs, CSV and Montecarlo Simulations\n",
    "\n",
    "Microsoft and Bitcoin will be used in this analysis. \n",
    "Gather historical data over 5 year period of time using one stock (MSFT) and one crypto currencies(BTC).\n",
    " \n",
    "We will provide 3 different scenarios: \n",
    "1. Dividend reinvested in MSFT over 10, 20 and 30 Year period.\n",
    "2. Dividend reinvested in Bitcoin over 10, 20 and 30 Year period.\n",
    "3. Dividend not reinvested. \n",
    "\n",
    "we will use the information from the Monte Carlo simulation to answer questions about the portfolio."
   ]
  },
  {
   "cell_type": "code",
   "execution_count": 32,
   "id": "2c3d9419-4b89-4bba-a2cb-8be895e63cb3",
   "metadata": {},
   "outputs": [],
   "source": [
    "# Import the required libraries and dependencies\n",
    "import os\n",
    "from pathlib import Path\n",
    "import requests\n",
    "import json\n",
    "import pandas as pd\n",
    "from dotenv import load_dotenv\n",
    "import alpaca_trade_api as tradeapi\n",
    "import hvplot.pandas\n",
    "from MCForecastTools import MCSimulation\n",
    "\n",
    "%matplotlib inline"
   ]
  },
  {
   "cell_type": "code",
   "execution_count": 33,
   "id": "e500b0bf-fdb5-4746-be43-33d8313ea0b4",
   "metadata": {},
   "outputs": [
    {
     "data": {
      "text/plain": [
       "True"
      ]
     },
     "execution_count": 33,
     "metadata": {},
     "output_type": "execute_result"
    }
   ],
   "source": [
    "# Load the environment variables from the .env file\n",
    "# by calling the load_dotenv function\n",
    "load_dotenv()"
   ]
  },
  {
   "cell_type": "markdown",
   "id": "8252b62b-e472-48b8-86f7-861af07b26eb",
   "metadata": {},
   "source": [
    "## Evaluate the Stock Holdings by Using the Alpaca SDK\n",
    "\n",
    "In this section, we will determine the current value of the chosen stock holdings. We will make an API call to Alpaca via the Alpaca SDK to get the current closing prices of Microsoft (ticker: MSFT). For the prototype, assume that we hold 300 shares of MSFT, which represents the stock portfolio.\n",
    "\n",
    "1. Create an environment file (`.env`) to store the values of your Alpaca API key and Alpaca secret key.\n",
    "\n",
    "2. Set the variables for the Alpaca API and secret keys. Using the Alpaca SDK, create the Alpaca `tradeapi.REST` object. In this object, include the parameters for the Alpaca API key, the secret key, and the version number.\n",
    "\n",
    "3. Set the following parameters for the Alpaca API call:\n",
    "\n",
    "    - `tickers`: Use the tickers for Microsof.\n",
    "\n",
    "    - `timeframe`: Use a time frame of one day.\n",
    "\n",
    "    - `start_date` and `end_date`: Use the same date for these parameters, and format them with the date of the previous weekday. This is because you want the one closing price for the most-recent trading day.\n",
    "\n",
    "4. Get the current closing prices for `MSFT` by using the Alpaca `get_barset` function. Format the response as a Pandas DataFrame by including the `df` property at the end of the `get_barset` function.\n",
    "\n",
    "5. Navigating the Alpaca response DataFrame, select the `MSFT` closing prices, and store as variables.\n",
    "\n",
    "6. Calculate the value, in US dollars, of the current amount of shares of the stock portfolio, and print the results.\n"
   ]
  },
  {
   "cell_type": "markdown",
   "id": "20c2e6ab-d802-4387-9755-69fa7cc91d26",
   "metadata": {},
   "source": [
    "Review the total number of shares held in our starting portfolio (SPY)"
   ]
  },
  {
   "cell_type": "code",
   "execution_count": 34,
   "id": "3fe3e5a9-56a7-4fea-956f-3dd4f46ef3b2",
   "metadata": {},
   "outputs": [],
   "source": [
    "# Current amount of shares held in the stock (MSFT) portfolio.\n",
    "msft_shares = 300 "
   ]
  },
  {
   "cell_type": "markdown",
   "id": "7ca1763d-46ba-44f3-9a6c-47e5a2ff50a4",
   "metadata": {},
   "source": [
    "#### 1: Create an environment file (`.env`) to store the values of your Alpaca API key and Alpaca secret key."
   ]
  },
  {
   "cell_type": "markdown",
   "id": "5860734d-ce42-4443-96d4-8fe92505bbac",
   "metadata": {},
   "source": [
    "#### 2. Set the variables for the Alpaca API and secret keys. Using the Alpaca SDK, create the Alpaca `tradeapi.REST` object. In this object, include the parameters for the Alpaca API key, the secret key, and the version number."
   ]
  },
  {
   "cell_type": "code",
   "execution_count": 35,
   "id": "05aca16f-3315-43fe-9fe6-98cbba783627",
   "metadata": {},
   "outputs": [],
   "source": [
    "# Set Alpaca API key and secret\n",
    "alpaca_api_key = os.getenv(\"ALPACA_API_KEY\")\n",
    "alpaca_secret_key = os.getenv(\"ALPACA_SECRET_KEY\")"
   ]
  },
  {
   "cell_type": "code",
   "execution_count": 36,
   "id": "53adba14-82c7-4bf0-ba9f-186cd05c4d33",
   "metadata": {},
   "outputs": [],
   "source": [
    "# Create the Alpaca API object\n",
    "alpaca = tradeapi.REST(\n",
    "    alpaca_api_key,\n",
    "    alpaca_secret_key,\n",
    "    api_version=\"v2\")"
   ]
  },
  {
   "cell_type": "markdown",
   "id": "3a951eb4-4431-487d-9a3a-6c95340a93f7",
   "metadata": {},
   "source": [
    "#### 3: Set the following parameters for the Alpaca API call:\n",
    "\n",
    "- `tickers`: Use the tickers for the member’s stock and bond holdings.\n",
    "\n",
    "- `timeframe`: Use a time frame of one day.\n",
    "\n",
    "- `start_date` and `end_date`: Use the same date for these parameters, and format them with the date of the previous weekday. This is because you want the one closing price for the most-recent trading day."
   ]
  },
  {
   "cell_type": "code",
   "execution_count": 37,
   "id": "5434b43c-d845-4f4a-8b74-05fd758ab331",
   "metadata": {},
   "outputs": [],
   "source": [
    "# Set the tickers\n",
    "tickers = [\"MSFT\"]"
   ]
  },
  {
   "cell_type": "code",
   "execution_count": 38,
   "id": "cabcf2b3-8bb4-464c-9166-e557505d6900",
   "metadata": {},
   "outputs": [],
   "source": [
    "# Set timeframe to one day ('1D') for the Alpaca API\n",
    "timeframe = \"1D\""
   ]
  },
  {
   "cell_type": "code",
   "execution_count": 54,
   "id": "ca16dd56-93c4-490e-9860-a964f53200c2",
   "metadata": {},
   "outputs": [],
   "source": [
    "# Format current date as ISO format\n",
    "start_date = pd.Timestamp(\"2021-10-29\", tz=\"America/New_York\").isoformat()\n",
    "end_date = pd.Timestamp(\"2021-10-29\", tz=\"America/New_York\").isoformat()"
   ]
  },
  {
   "cell_type": "markdown",
   "id": "597c8460-5b5d-44da-b2c5-1d795aecbd5d",
   "metadata": {},
   "source": [
    "#### 4: Get the current closing prices for `MSFT` by using the Alpaca `get_barset` function. Format the response as a Pandas DataFrame by including the `df` property at the end of the `get_barset` function."
   ]
  },
  {
   "cell_type": "code",
   "execution_count": 55,
   "id": "72a38466-a641-44aa-b3fd-210301e3e100",
   "metadata": {},
   "outputs": [
    {
     "data": {
      "text/html": [
       "<div>\n",
       "<style scoped>\n",
       "    .dataframe tbody tr th:only-of-type {\n",
       "        vertical-align: middle;\n",
       "    }\n",
       "\n",
       "    .dataframe tbody tr th {\n",
       "        vertical-align: top;\n",
       "    }\n",
       "\n",
       "    .dataframe thead tr th {\n",
       "        text-align: left;\n",
       "    }\n",
       "\n",
       "    .dataframe thead tr:last-of-type th {\n",
       "        text-align: right;\n",
       "    }\n",
       "</style>\n",
       "<table border=\"1\" class=\"dataframe\">\n",
       "  <thead>\n",
       "    <tr>\n",
       "      <th></th>\n",
       "      <th colspan=\"5\" halign=\"left\">MSFT</th>\n",
       "    </tr>\n",
       "    <tr>\n",
       "      <th></th>\n",
       "      <th>open</th>\n",
       "      <th>high</th>\n",
       "      <th>low</th>\n",
       "      <th>close</th>\n",
       "      <th>volume</th>\n",
       "    </tr>\n",
       "    <tr>\n",
       "      <th>time</th>\n",
       "      <th></th>\n",
       "      <th></th>\n",
       "      <th></th>\n",
       "      <th></th>\n",
       "      <th></th>\n",
       "    </tr>\n",
       "  </thead>\n",
       "  <tbody>\n",
       "    <tr>\n",
       "      <th>2021-10-29 00:00:00-04:00</th>\n",
       "      <td>324.14</td>\n",
       "      <td>332</td>\n",
       "      <td>323.9</td>\n",
       "      <td>331.64</td>\n",
       "      <td>26504382</td>\n",
       "    </tr>\n",
       "  </tbody>\n",
       "</table>\n",
       "</div>"
      ],
      "text/plain": [
       "                             MSFT                              \n",
       "                             open high    low   close    volume\n",
       "time                                                           \n",
       "2021-10-29 00:00:00-04:00  324.14  332  323.9  331.64  26504382"
      ]
     },
     "execution_count": 55,
     "metadata": {},
     "output_type": "execute_result"
    }
   ],
   "source": [
    "# Use the Alpaca get_barset function to get current closing prices the portfolio\n",
    "current_msft_price_df = alpaca.get_barset(\n",
    "    tickers,\n",
    "    timeframe,\n",
    "    start = start_date,\n",
    "    end = end_date\n",
    ").df\n",
    "\n",
    "# Review the first 5 rows of the Alpaca DataFrame\n",
    "current_msft_price_df.head()"
   ]
  },
  {
   "cell_type": "markdown",
   "id": "29e76750-af5a-4537-b599-ae58af73da5f",
   "metadata": {},
   "source": [
    "#### 5: Navigating the Alpaca response DataFrame, select the `MSFT` closing prices, and store them as variables."
   ]
  },
  {
   "cell_type": "code",
   "execution_count": 56,
   "id": "bcdcc5c6-d1e8-4a9c-be71-e55ec436dcbc",
   "metadata": {},
   "outputs": [
    {
     "name": "stdout",
     "output_type": "stream",
     "text": [
      "331.64\n"
     ]
    }
   ],
   "source": [
    "# Access the closing price for MSFT from the Alpaca DataFrame\n",
    "# Converting the value to a floating point number\n",
    "msft_close_price = float(current_msft_price_df[\"MSFT\"][\"close\"])\n",
    "\n",
    "# Print the MSFT closing price\n",
    "print(msft_close_price)"
   ]
  },
  {
   "cell_type": "markdown",
   "id": "b78d7ce6-fc48-4058-820a-e6cbbc1ad2d8",
   "metadata": {},
   "source": [
    "#### 6: Calculate the value, in US dollars, of the current amount of shares of the stock portfolio, and print the results."
   ]
  },
  {
   "cell_type": "code",
   "execution_count": 57,
   "id": "1a99d9da-abab-45d7-b194-1a404bbc1459",
   "metadata": {},
   "outputs": [
    {
     "name": "stdout",
     "output_type": "stream",
     "text": [
      "The portofolio has a value of: 99492.0\n"
     ]
    }
   ],
   "source": [
    "# Calculate the current value of the portfolio\n",
    "msft_value = round(msft_shares * msft_close_price, 3)\n",
    "\n",
    "# Print the current value of the bond portfolio\n",
    "print(f\"The portofolio has a value of: {msft_value}\")\n"
   ]
  },
  {
   "cell_type": "markdown",
   "id": "458f402d-6887-4f69-924b-7851c45e862e",
   "metadata": {},
   "source": [
    "## Use the `read_csv` function and the `Path` module to read the `msft_dividends.csv` file into a Pandas DataFrame.  Review the first five rows of the DataFrame by using the `head` function."
   ]
  },
  {
   "cell_type": "code",
   "execution_count": 93,
   "id": "cb16aa5b-3bff-4d89-ac59-70fa28ac9fb9",
   "metadata": {},
   "outputs": [
    {
     "data": {
      "text/html": [
       "<div>\n",
       "<style scoped>\n",
       "    .dataframe tbody tr th:only-of-type {\n",
       "        vertical-align: middle;\n",
       "    }\n",
       "\n",
       "    .dataframe tbody tr th {\n",
       "        vertical-align: top;\n",
       "    }\n",
       "\n",
       "    .dataframe thead th {\n",
       "        text-align: right;\n",
       "    }\n",
       "</style>\n",
       "<table border=\"1\" class=\"dataframe\">\n",
       "  <thead>\n",
       "    <tr style=\"text-align: right;\">\n",
       "      <th></th>\n",
       "      <th>Announced</th>\n",
       "      <th>Period</th>\n",
       "      <th>Amount</th>\n",
       "      <th>Yield</th>\n",
       "      <th>Ex-Dividend</th>\n",
       "      <th>Record Date</th>\n",
       "      <th>Payable Date</th>\n",
       "    </tr>\n",
       "  </thead>\n",
       "  <tbody>\n",
       "    <tr>\n",
       "      <th>0</th>\n",
       "      <td>9/14/2021</td>\n",
       "      <td>quarterly</td>\n",
       "      <td>$0.62</td>\n",
       "      <td>0.83%</td>\n",
       "      <td>11/17/2021</td>\n",
       "      <td>11/18/2021</td>\n",
       "      <td>12/9/2021</td>\n",
       "    </tr>\n",
       "    <tr>\n",
       "      <th>1</th>\n",
       "      <td>6/16/2021</td>\n",
       "      <td>quarterly</td>\n",
       "      <td>$0.56</td>\n",
       "      <td>0.87%</td>\n",
       "      <td>8/18/2021</td>\n",
       "      <td>8/19/2021</td>\n",
       "      <td>9/9/2021</td>\n",
       "    </tr>\n",
       "    <tr>\n",
       "      <th>2</th>\n",
       "      <td>3/16/2021</td>\n",
       "      <td>quarterly</td>\n",
       "      <td>$0.56</td>\n",
       "      <td>0.94%</td>\n",
       "      <td>5/19/2021</td>\n",
       "      <td>5/20/2021</td>\n",
       "      <td>6/10/2021</td>\n",
       "    </tr>\n",
       "    <tr>\n",
       "      <th>3</th>\n",
       "      <td>12/2/2020</td>\n",
       "      <td>quarterly</td>\n",
       "      <td>$0.56</td>\n",
       "      <td>1.04%</td>\n",
       "      <td>2/17/2021</td>\n",
       "      <td>2/18/2021</td>\n",
       "      <td>3/11/2021</td>\n",
       "    </tr>\n",
       "    <tr>\n",
       "      <th>4</th>\n",
       "      <td>9/15/2020</td>\n",
       "      <td>quarterly</td>\n",
       "      <td>$0.56</td>\n",
       "      <td>1.07%</td>\n",
       "      <td>11/18/2020</td>\n",
       "      <td>11/19/2020</td>\n",
       "      <td>12/10/2020</td>\n",
       "    </tr>\n",
       "  </tbody>\n",
       "</table>\n",
       "</div>"
      ],
      "text/plain": [
       "  Announced      Period  Amount  Yield Ex-Dividend Record Date Payable Date\n",
       "0  9/14/2021  quarterly  $0.62   0.83%  11/17/2021  11/18/2021    12/9/2021\n",
       "1  6/16/2021  quarterly  $0.56   0.87%   8/18/2021   8/19/2021     9/9/2021\n",
       "2  3/16/2021  quarterly  $0.56   0.94%   5/19/2021   5/20/2021    6/10/2021\n",
       "3  12/2/2020  quarterly  $0.56   1.04%   2/17/2021   2/18/2021    3/11/2021\n",
       "4  9/15/2020  quarterly  $0.56   1.07%  11/18/2020  11/19/2020   12/10/2020"
      ]
     },
     "execution_count": 93,
     "metadata": {},
     "output_type": "execute_result"
    }
   ],
   "source": [
    "# Import the data by reading in the CSV file\n",
    "# Review the first 5 rows of the DataFrame\n",
    "msft_div = pd.read_csv(Path(\"Resources/msft_dividends.csv\"))\n",
    "\n",
    "msft_div.head()"
   ]
  },
  {
   "cell_type": "markdown",
   "id": "8211f6c6-6e7d-4811-aefe-446fc6d0d44f",
   "metadata": {},
   "source": [
    "#### Use the `str.replace` function to remove the dollar signs ($) from the values in the Amount column."
   ]
  },
  {
   "cell_type": "code",
   "execution_count": 94,
   "id": "2385a7e8-8e87-48cc-8a77-a717c0bee949",
   "metadata": {},
   "outputs": [
    {
     "name": "stderr",
     "output_type": "stream",
     "text": [
      "/opt/anaconda3/envs/dev/lib/python3.7/site-packages/ipykernel_launcher.py:2: FutureWarning: The default value of regex will change from True to False in a future version. In addition, single character regular expressions will*not* be treated as literal strings when regex=True.\n",
      "  \n"
     ]
    }
   ],
   "source": [
    "# Use the str.replace function to remove the dollar sign, $\n",
    "msft_div.loc[:, \"Amount\"]= msft_div.loc[:, \"Amount\"].str.replace(\"$\", \"\")"
   ]
  },
  {
   "cell_type": "markdown",
   "id": "770ab75a-2ca8-46b2-beec-56cafe9ccc43",
   "metadata": {},
   "source": [
    "#### Convert the data type of the column to a `float`."
   ]
  },
  {
   "cell_type": "code",
   "execution_count": 95,
   "id": "48f732f2-a6c3-47e7-9f23-a563b16b6822",
   "metadata": {},
   "outputs": [
    {
     "data": {
      "text/plain": [
       "Announced        object\n",
       "Period           object\n",
       "Amount          float64\n",
       "Yield            object\n",
       "Ex-Dividend      object\n",
       "Record Date      object\n",
       "Payable Date     object\n",
       "dtype: object"
      ]
     },
     "execution_count": 95,
     "metadata": {},
     "output_type": "execute_result"
    }
   ],
   "source": [
    "# Convert the data type to a float\n",
    "msft_div.loc[:, \"Amount\"]= msft_div.loc[:, \"Amount\"].astype(\"float\")\n",
    "\n",
    "msft_div.dtypes"
   ]
  },
  {
   "cell_type": "markdown",
   "id": "aa11118b-a77e-465b-9b76-be0308f462bf",
   "metadata": {},
   "source": [
    "#### Choose columns of data on which to focus our analysis.\n",
    "\n",
    "Select the data to analyze. Use `loc` to select the following columns of data:\n",
    "* Amount"
   ]
  },
  {
   "cell_type": "code",
   "execution_count": 99,
   "id": "233e31ae-e07d-4f1b-b7ae-baed06759273",
   "metadata": {},
   "outputs": [
    {
     "data": {
      "text/plain": [
       "0    0.62\n",
       "1    0.56\n",
       "2    0.56\n",
       "3    0.56\n",
       "4    0.56\n",
       "Name: Amount, dtype: float64"
      ]
     },
     "execution_count": 99,
     "metadata": {},
     "output_type": "execute_result"
    }
   ],
   "source": [
    "# Use loc to select `Timestamp (the index)` and `Close` from bitstamp DataFrame\n",
    "msft_div_slices = msft_div.loc[:, \"Amount\"]\n",
    "\n",
    "# Review the first five rows of the DataFrame\n",
    "msft_div_slices.head()"
   ]
  },
  {
   "cell_type": "markdown",
   "id": "3b56901f-e4ac-4d1b-a1fc-1593fad7f844",
   "metadata": {},
   "source": [
    "#### Calculating the average dividends for MSFT"
   ]
  },
  {
   "cell_type": "code",
   "execution_count": 104,
   "id": "eaab2651-f266-4856-9cf4-a97f78257abd",
   "metadata": {},
   "outputs": [
    {
     "data": {
      "text/plain": [
       "0.46"
      ]
     },
     "execution_count": 104,
     "metadata": {},
     "output_type": "execute_result"
    }
   ],
   "source": [
    "# Calculating the average quaterly dividend for MSFT\n",
    "msft_div_slices_average = round(msft_div_slices.mean(),2)\n",
    "msft_div_slices_average"
   ]
  },
  {
   "cell_type": "code",
   "execution_count": 106,
   "id": "1bb9fc73-42a6-4ba3-95a9-7444b4e8ae47",
   "metadata": {},
   "outputs": [
    {
     "name": "stdout",
     "output_type": "stream",
     "text": [
      "The average yearly dividend for Microsoft is: $1.84 per share.\n"
     ]
    }
   ],
   "source": [
    "# calculating the Yearly average dividend for MSFT share\n",
    "average_year_div_msft = msft_div_slices_average * 4\n",
    "print(f\"The average yearly dividend for Microsoft is: ${average_year_div_msft} per share.\")"
   ]
  },
  {
   "cell_type": "markdown",
   "id": "c4edb5b6-d3e9-4255-b1d2-90e385c83b9b",
   "metadata": {},
   "source": [
    "### Evaluate the Bitcoin Value by Using the Requests Library\n",
    "\n",
    "In this section, we will collect the current prices for the Bitcoin cryptocurrencies by using the Python Requests library. To do all this, complete the following steps:\n",
    "\n",
    "1. Use the Requests library to get the current price (in US dollars) of Bitcoin (BTC) by using the API endpoints.\n",
    "\n",
    "2. Navigate the JSON response object to access the current price of Bitcoin, and store it in a variable.\n"
   ]
  },
  {
   "cell_type": "markdown",
   "id": "8afbad97-6703-4849-a42c-2fe39bf6dd7f",
   "metadata": {},
   "source": [
    "#### Review the endpoint URLs for the API calls to Free Crypto API in order to get the current pricing information for BTC."
   ]
  },
  {
   "cell_type": "code",
   "execution_count": 109,
   "id": "988b79d4-cd57-46d7-9986-06a83a444240",
   "metadata": {},
   "outputs": [],
   "source": [
    "# The Free Crypto API Call endpoint URLs for the held cryptocurrency assets\n",
    "btc_url = \"https://api.alternative.me/v2/ticker/Bitcoin/?convert=USD\""
   ]
  },
  {
   "cell_type": "markdown",
   "id": "fb46132c-10a1-4dd4-9c2f-01f1fe6e20bb",
   "metadata": {},
   "source": [
    "#### 1. Use the Requests library to get the current price (in US dollars) of Bitcoin (BTC) by using the API endpoints."
   ]
  },
  {
   "cell_type": "code",
   "execution_count": 110,
   "id": "58e248ba-1934-4328-831a-89fd95a33665",
   "metadata": {},
   "outputs": [
    {
     "name": "stdout",
     "output_type": "stream",
     "text": [
      "{\n",
      "    \"data\": {\n",
      "        \"1\": {\n",
      "            \"circulating_supply\": 18860950,\n",
      "            \"id\": 1,\n",
      "            \"last_updated\": 1635794052,\n",
      "            \"max_supply\": 21000000,\n",
      "            \"name\": \"Bitcoin\",\n",
      "            \"quotes\": {\n",
      "                \"USD\": {\n",
      "                    \"market_cap\": 1148190624646,\n",
      "                    \"percent_change_1h\": 0.273737200904498,\n",
      "                    \"percent_change_24h\": 0.213312546616552,\n",
      "                    \"percent_change_7d\": -0.318576816212922,\n",
      "                    \"percentage_change_1h\": 0.273737200904498,\n",
      "                    \"percentage_change_24h\": 0.213312546616552,\n",
      "                    \"percentage_change_7d\": -0.318576816212922,\n",
      "                    \"price\": 60978.0,\n",
      "                    \"volume_24h\": 35977662583\n",
      "                }\n",
      "            },\n",
      "            \"rank\": 1,\n",
      "            \"symbol\": \"BTC\",\n",
      "            \"total_supply\": 18860950,\n",
      "            \"website_slug\": \"bitcoin\"\n",
      "        }\n",
      "    },\n",
      "    \"metadata\": {\n",
      "        \"error\": null,\n",
      "        \"num_cryptocurrencies\": 3105,\n",
      "        \"timestamp\": 1635794052\n",
      "    }\n",
      "}\n"
     ]
    }
   ],
   "source": [
    "# Using the Python requests library, make an API call to access the current price of BTC\n",
    "btc_response = requests.get(btc_url).json()\n",
    "\n",
    "# Use the json.dumps function to review the response data from the API call\n",
    "# Use the indent and sort_keys parameters to make the response object readable\n",
    "print(json.dumps(btc_response, indent=4, sort_keys=True))"
   ]
  },
  {
   "cell_type": "markdown",
   "id": "a928119a-665c-47ad-b466-1a51c21b092a",
   "metadata": {},
   "source": [
    "#### 2.Navigate the JSON response object to access the current price of Bitcoin, and store it in a variable."
   ]
  },
  {
   "cell_type": "code",
   "execution_count": 111,
   "id": "1b05a397-05a0-4784-9240-eb98a0c69d75",
   "metadata": {},
   "outputs": [
    {
     "name": "stdout",
     "output_type": "stream",
     "text": [
      "The current price of BTC is $60978.00\n"
     ]
    }
   ],
   "source": [
    "# Navigate the BTC response object to access the current price of BTC\n",
    "btc_price = btc_response['data']['1']['quotes']['USD']['price']\n",
    "\n",
    "# Print the current price of BTC\n",
    "print(f'The current price of BTC is ${btc_price:.2f}')"
   ]
  },
  {
   "cell_type": "code",
   "execution_count": null,
   "id": "fc92b30e-ced7-4646-bc3c-a334452df2c8",
   "metadata": {},
   "outputs": [],
   "source": []
  },
  {
   "cell_type": "code",
   "execution_count": null,
   "id": "6f25b414-9e58-465f-b7cf-6ec6f8430d93",
   "metadata": {},
   "outputs": [],
   "source": []
  },
  {
   "cell_type": "code",
   "execution_count": null,
   "id": "daf544fe-6158-4773-97ef-90a7d737a8b1",
   "metadata": {},
   "outputs": [],
   "source": []
  },
  {
   "cell_type": "code",
   "execution_count": null,
   "id": "95d498f9-b1fc-41fb-a929-7e1b8207efec",
   "metadata": {},
   "outputs": [],
   "source": []
  },
  {
   "cell_type": "code",
   "execution_count": null,
   "id": "f786afd6-2a4a-4342-ab87-1756198becc2",
   "metadata": {},
   "outputs": [],
   "source": [
    "\n",
    "class stock():\n",
    "    def __init__(self,name,wkn):\n",
    "        self.name = name\n",
    "        self.wkn = wkn\n",
    "\n",
    "    def set_div_values(self,div_yield,div_growth,share_growth_pa,price):\n",
    "        self.price = price\n",
    "        self.div_yield = div_yield / 100\n",
    "        self.div_growth = div_growth / 100\n",
    "        self.share_growth_pa = share_growth_pa / 100\n",
    "        self.div = price * div_yield / 100\n",
    "        self.div_sum = 0\n",
    "\n",
    "    # calc compounded dividends p.a grown over time\n",
    "    def calc_div(self,time, reinvest = True):\n",
    "\n",
    "        dividends = dict()\n",
    "        dividends[0] = [self.div]\n",
    "\n",
    "        if reinvest is True:\n",
    "            for t in range(1,time+1):\n",
    "                temp = []\n",
    "                for i in range(t):\n",
    "                    temp.append(dividends[t-1][i]*(1+self.div_growth))\n",
    "\n",
    "                div_sum_reinvest = sum(dividends[t - 1])\n",
    "                temp.append(div_sum_reinvest*self.div_yield)\n",
    "                dividends[t] = temp\n",
    "\n",
    "            n = len(dividends.keys())-1\n",
    "            div_pa = sum(dividends[n])\n",
    "\n",
    "        else:\n",
    "            div_pa = self.div\n",
    "            for t in range(1,time+1):\n",
    "                div_pa = div_pa * (1+self.div_growth)\n",
    "                #print(f\"{t}:  Div: {div} \")\n",
    "\n",
    "        return div_pa\n",
    "\n",
    "    # calc compount interest\n",
    "    def calc_endcap(self,time):\n",
    "        return self.price * pow(1+self.share_growth_pa,time)\n",
    "\n",
    "\n",
    "coke = stock(\"Coca Cola\",\"850663\")\n",
    "coke.set_div_values(3.1,5,5,100)\n",
    "\n",
    "coke_dividends_re = coke.calc_div(20)\n",
    "coke_dividends = coke.calc_div(20,False)\n",
    "coke_endcap = coke.calc_endcap(20)\n",
    "print(f\"dividends reinveste:\\t{coke_dividends_re}\\ndividends not reinveste:\\t{coke_dividends}\\nendcap: \\t{coke_endcap}\") "
   ]
  },
  {
   "cell_type": "markdown",
   "id": "6f884102-66a6-47e1-8dc8-7f47c1d5071a",
   "metadata": {},
   "source": [
    "# The Power of Dividend Reinvestment with APIs and Simulations\n",
    "\n",
    "MSFT and Bitcoin & Etherium will be used in this program. \n",
    "Code to calculate dividends reinvested over 5 year period of time using one stock and two crypto currencies.\n",
    "\n",
    "Dividend reinvested in Msft over 10, 20 and 30 Year period\n",
    "Dividend reinvested in Bitcoin and ETherium over 10, 20 and 30 Year period\n",
    "Dividend not reinvested\n",
    "\n",
    "import csv file that includes the "
   ]
  }
 ],
 "metadata": {
  "kernelspec": {
   "display_name": "Python 3",
   "language": "python",
   "name": "python3"
  },
  "language_info": {
   "codemirror_mode": {
    "name": "ipython",
    "version": 3
   },
   "file_extension": ".py",
   "mimetype": "text/x-python",
   "name": "python",
   "nbconvert_exporter": "python",
   "pygments_lexer": "ipython3",
   "version": "3.7.7"
  }
 },
 "nbformat": 4,
 "nbformat_minor": 5
}
