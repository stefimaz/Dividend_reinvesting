{
 "cells": [
  {
   "cell_type": "code",
   "execution_count": 1,
   "id": "a756e158-0b0c-42aa-9f6e-a72b3979f524",
   "metadata": {},
   "outputs": [],
   "source": [
    "# Import the required libraries and dependencies\n",
    "import os\n",
    "from pathlib import Path\n",
    "import requests\n",
    "import json\n",
    "import pandas as pd\n",
    "from dotenv import load_dotenv\n",
    "import alpaca_trade_api as tradeapi\n",
    "from MCForecastTools import MCSimulation\n",
    "\n",
    "%matplotlib inline"
   ]
  },
  {
   "cell_type": "code",
   "execution_count": 2,
   "id": "b21538b4-ee84-436c-8e32-61e1834ee288",
   "metadata": {},
   "outputs": [],
   "source": [
    "import numpy as np\n",
    "import matplotlib.pyplot as plt\n",
    "from scipy.stats import norm\n",
    "import statistics"
   ]
  },
  {
   "cell_type": "code",
   "execution_count": 3,
   "id": "c67cd2cc-d052-4480-bae3-632624181582",
   "metadata": {},
   "outputs": [
    {
     "data": {
      "text/plain": [
       "True"
      ]
     },
     "execution_count": 3,
     "metadata": {},
     "output_type": "execute_result"
    }
   ],
   "source": [
    "load_dotenv()"
   ]
  },
  {
   "cell_type": "code",
   "execution_count": 4,
   "id": "276ff119-8e63-49c1-b9a8-dc5e2cbacae6",
   "metadata": {},
   "outputs": [],
   "source": [
    "alpaca_api_key = os.getenv(\"ALPACA_API_KEY\")\n",
    "alpaca_secret_key = os.getenv(\"ALPACA_SECRET_KEY\")"
   ]
  },
  {
   "cell_type": "code",
   "execution_count": 7,
   "id": "c0c87870-063c-4d08-ac7b-eb12c396da14",
   "metadata": {},
   "outputs": [
    {
     "data": {
      "text/plain": [
       "str"
      ]
     },
     "execution_count": 7,
     "metadata": {},
     "output_type": "execute_result"
    }
   ],
   "source": [
    "type(alpaca_api_key)\n",
    "type(alpaca_secret_key)"
   ]
  },
  {
   "cell_type": "code",
   "execution_count": 6,
   "id": "88a85095-fead-48e4-be82-e59db6b29e80",
   "metadata": {},
   "outputs": [],
   "source": [
    "alpaca = tradeapi.REST(\n",
    "    alpaca_api_key,\n",
    "    alpaca_secret_key,\n",
    "    api_version=\"v2\")\n",
    "\n",
    "tickers = [\"MSFT\"]\n",
    "timeframe = \"1D\"\n",
    "start_date = pd.Timestamp(\"today\", tz=\"America/New_York\").isoformat()\n",
    "end_date = pd.Timestamp(\"today\", tz=\"America/New_York\").isoformat()\n",
    "limit_rows = 1"
   ]
  },
  {
   "cell_type": "code",
   "execution_count": 7,
   "id": "a5dc1511-3bd5-48f5-afcc-96caf012b19b",
   "metadata": {},
   "outputs": [
    {
     "data": {
      "text/html": [
       "<div>\n",
       "<style scoped>\n",
       "    .dataframe tbody tr th:only-of-type {\n",
       "        vertical-align: middle;\n",
       "    }\n",
       "\n",
       "    .dataframe tbody tr th {\n",
       "        vertical-align: top;\n",
       "    }\n",
       "\n",
       "    .dataframe thead tr th {\n",
       "        text-align: left;\n",
       "    }\n",
       "\n",
       "    .dataframe thead tr:last-of-type th {\n",
       "        text-align: right;\n",
       "    }\n",
       "</style>\n",
       "<table border=\"1\" class=\"dataframe\">\n",
       "  <thead>\n",
       "    <tr>\n",
       "      <th></th>\n",
       "      <th colspan=\"5\" halign=\"left\">MSFT</th>\n",
       "    </tr>\n",
       "    <tr>\n",
       "      <th></th>\n",
       "      <th>open</th>\n",
       "      <th>high</th>\n",
       "      <th>low</th>\n",
       "      <th>close</th>\n",
       "      <th>volume</th>\n",
       "    </tr>\n",
       "    <tr>\n",
       "      <th>time</th>\n",
       "      <th></th>\n",
       "      <th></th>\n",
       "      <th></th>\n",
       "      <th></th>\n",
       "      <th></th>\n",
       "    </tr>\n",
       "  </thead>\n",
       "  <tbody>\n",
       "    <tr>\n",
       "      <th>2021-11-02 00:00:00-04:00</th>\n",
       "      <td>330.21</td>\n",
       "      <td>333.45</td>\n",
       "      <td>330</td>\n",
       "      <td>333.26</td>\n",
       "      <td>21366225</td>\n",
       "    </tr>\n",
       "  </tbody>\n",
       "</table>\n",
       "</div>"
      ],
      "text/plain": [
       "                             MSFT                               \n",
       "                             open    high  low   close    volume\n",
       "time                                                            \n",
       "2021-11-02 00:00:00-04:00  330.21  333.45  330  333.26  21366225"
      ]
     },
     "execution_count": 7,
     "metadata": {},
     "output_type": "execute_result"
    }
   ],
   "source": [
    "current_msft_price_df = alpaca.get_barset(\n",
    "    tickers,\n",
    "    timeframe,\n",
    "    start = start_date,\n",
    "    end = end_date,\n",
    "    limit = limit_rows\n",
    ").df\n",
    "\n",
    "current_msft_price_df.head()"
   ]
  },
  {
   "cell_type": "code",
   "execution_count": 10,
   "id": "1a3b16b0-4696-421d-a628-79b23dba85f0",
   "metadata": {},
   "outputs": [
    {
     "name": "stdout",
     "output_type": "stream",
     "text": [
      "333.26\n"
     ]
    }
   ],
   "source": [
    "msft_close_price = float(current_msft_price_df[\"MSFT\"][\"close\"])\n",
    "print(msft_close_price)"
   ]
  },
  {
   "cell_type": "code",
   "execution_count": 11,
   "id": "eb764b8f-ac75-481a-a1de-29f6453f62a2",
   "metadata": {},
   "outputs": [
    {
     "data": {
      "text/html": [
       "<div>\n",
       "<style scoped>\n",
       "    .dataframe tbody tr th:only-of-type {\n",
       "        vertical-align: middle;\n",
       "    }\n",
       "\n",
       "    .dataframe tbody tr th {\n",
       "        vertical-align: top;\n",
       "    }\n",
       "\n",
       "    .dataframe thead th {\n",
       "        text-align: right;\n",
       "    }\n",
       "</style>\n",
       "<table border=\"1\" class=\"dataframe\">\n",
       "  <thead>\n",
       "    <tr style=\"text-align: right;\">\n",
       "      <th></th>\n",
       "      <th>Announced</th>\n",
       "      <th>Period</th>\n",
       "      <th>Amount</th>\n",
       "      <th>Yield</th>\n",
       "      <th>Ex-Dividend</th>\n",
       "      <th>Record Date</th>\n",
       "      <th>Payable Date</th>\n",
       "    </tr>\n",
       "  </thead>\n",
       "  <tbody>\n",
       "    <tr>\n",
       "      <th>0</th>\n",
       "      <td>2021-09-14</td>\n",
       "      <td>quarterly</td>\n",
       "      <td>$0.62</td>\n",
       "      <td>0.83%</td>\n",
       "      <td>11/17/2021</td>\n",
       "      <td>11/18/2021</td>\n",
       "      <td>12/9/2021</td>\n",
       "    </tr>\n",
       "    <tr>\n",
       "      <th>1</th>\n",
       "      <td>2021-06-16</td>\n",
       "      <td>quarterly</td>\n",
       "      <td>$0.56</td>\n",
       "      <td>0.87%</td>\n",
       "      <td>8/18/2021</td>\n",
       "      <td>8/19/2021</td>\n",
       "      <td>9/9/2021</td>\n",
       "    </tr>\n",
       "    <tr>\n",
       "      <th>2</th>\n",
       "      <td>2021-03-16</td>\n",
       "      <td>quarterly</td>\n",
       "      <td>$0.56</td>\n",
       "      <td>0.94%</td>\n",
       "      <td>5/19/2021</td>\n",
       "      <td>5/20/2021</td>\n",
       "      <td>6/10/2021</td>\n",
       "    </tr>\n",
       "    <tr>\n",
       "      <th>3</th>\n",
       "      <td>2020-12-02</td>\n",
       "      <td>quarterly</td>\n",
       "      <td>$0.56</td>\n",
       "      <td>1.04%</td>\n",
       "      <td>2/17/2021</td>\n",
       "      <td>2/18/2021</td>\n",
       "      <td>3/11/2021</td>\n",
       "    </tr>\n",
       "    <tr>\n",
       "      <th>4</th>\n",
       "      <td>2020-09-15</td>\n",
       "      <td>quarterly</td>\n",
       "      <td>$0.56</td>\n",
       "      <td>1.07%</td>\n",
       "      <td>11/18/2020</td>\n",
       "      <td>11/19/2020</td>\n",
       "      <td>12/10/2020</td>\n",
       "    </tr>\n",
       "  </tbody>\n",
       "</table>\n",
       "</div>"
      ],
      "text/plain": [
       "  Announced      Period  Amount  Yield Ex-Dividend Record Date Payable Date\n",
       "0 2021-09-14  quarterly  $0.62   0.83%  11/17/2021  11/18/2021    12/9/2021\n",
       "1 2021-06-16  quarterly  $0.56   0.87%   8/18/2021   8/19/2021     9/9/2021\n",
       "2 2021-03-16  quarterly  $0.56   0.94%   5/19/2021   5/20/2021    6/10/2021\n",
       "3 2020-12-02  quarterly  $0.56   1.04%   2/17/2021   2/18/2021    3/11/2021\n",
       "4 2020-09-15  quarterly  $0.56   1.07%  11/18/2020  11/19/2020   12/10/2020"
      ]
     },
     "execution_count": 11,
     "metadata": {},
     "output_type": "execute_result"
    }
   ],
   "source": [
    "msft_div = pd.read_csv(Path(\"Resources/msft_dividends.csv\"))\n",
    "msft_div.iloc[:,0] = pd.to_datetime(msft_div.iloc[:,0])\n",
    "msft_div.head()\n"
   ]
  },
  {
   "cell_type": "code",
   "execution_count": 12,
   "id": "582bc5c0-5fc7-46f5-a3cf-353660159f6f",
   "metadata": {},
   "outputs": [
    {
     "data": {
      "text/plain": [
       "Announced       datetime64[ns]\n",
       "Period                  object\n",
       "Amount                  object\n",
       "Yield                  float64\n",
       "Ex-Dividend             object\n",
       "Record Date             object\n",
       "Payable Date            object\n",
       "dtype: object"
      ]
     },
     "execution_count": 12,
     "metadata": {},
     "output_type": "execute_result"
    }
   ],
   "source": [
    "msft_div.loc[:, \"Yield\"]= msft_div.loc[:, \"Yield\"].str.replace(\"%\", \"\")\n",
    "msft_div.loc[:, \"Yield\"]= msft_div.loc[:, \"Yield\"].astype(\"float\")\n",
    "\n",
    "msft_div.dtypes"
   ]
  },
  {
   "cell_type": "code",
   "execution_count": 14,
   "id": "972b6f6c-ca75-4d6e-9a5c-0e2115b63263",
   "metadata": {},
   "outputs": [
    {
     "name": "stdout",
     "output_type": "stream",
     "text": [
      "The average yearly dividend for Microsoft is: 1.75% over the last 10 years.\n"
     ]
    }
   ],
   "source": [
    "msft_div_slices = msft_div.loc[:, \"Yield\"]\n",
    "msft_div_slices_average = round(msft_div_slices.mean(),2)\n",
    "msft_div_slices_average\n",
    "print(f\"The average yearly dividend for Microsoft is: {msft_div_slices_average}% over the last 10 years.\")"
   ]
  },
  {
   "cell_type": "code",
   "execution_count": 15,
   "id": "0115f01b-b990-46e7-907a-56930f6548e0",
   "metadata": {},
   "outputs": [
    {
     "data": {
      "text/plain": [
       "<AxesSubplot:xlabel='Announced '>"
      ]
     },
     "execution_count": 15,
     "metadata": {},
     "output_type": "execute_result"
    },
    {
     "data": {
      "image/png": "[encoded data removed]",
      "text/plain": [
       "<Figure size 432x288 with 1 Axes>"
      ]
     },
     "metadata": {
      "needs_background": "light"
     },
     "output_type": "display_data"
    }
   ],
   "source": [
    "msft_div.plot(x= \"Announced \", y= \"Yield\")\n",
    "#Should we use the Average Yearly Dividend over the simulated time frame? It seems too high and I feel like it would only ever decrease.\n",
    "#If the dividend yield is decreasing because the stock price is increasing, then does that mean considering MSFT simulated growth, the yield would decrease even further?\n",
    "\n",
    "\n",
    "#Suggestion: Run linear regression to progress the dividend yield graph even further. Return the predicted yield into a list and plot it out.\n",
    "\n",
    "#import numpy as np\n",
    "# from sklearn.linear_model import LinearRegression\n",
    "\n"
   ]
  },
  {
   "cell_type": "code",
   "execution_count": 18,
   "id": "9b03293c-0fe6-425e-b17c-2e8c211c17c4",
   "metadata": {},
   "outputs": [
    {
     "data": {
      "text/plain": [
       "<AxesSubplot:xlabel='Date'>"
      ]
     },
     "metadata": {},
     "output_type": "display_data"
    },
    {
     "data": {
      "text/plain": [
       "<AxesSubplot:xlabel='Date'>"
      ]
     },
     "execution_count": 18,
     "metadata": {},
     "output_type": "execute_result"
    },
    {
     "data": {
      "image/png": "[encoded data removed]",
      "text/plain": [
       "<Figure size 432x288 with 1 Axes>"
      ]
     },
     "metadata": {
      "needs_background": "light"
     },
     "output_type": "display_data"
    }
   ],
   "source": [
    "btc_data =pd.read_csv(Path(\"./Resources/BTC-USD.csv\"))\n",
    "display(btc_data.plot(x=\"Date\", y=\"Close\", rot = 45))\n",
    "btc_data.drop(columns = \"Adj Close\", inplace =True)\n",
    "btc_data.head()\n",
    "\n",
    "btc_sma = btc_data[\"Close\"].rolling(window = 60).mean().dropna()\n",
    "btc_sma.plot()"
   ]
  },
  {
   "cell_type": "code",
   "execution_count": 45,
   "id": "f6a8e890-46f9-4dfd-a333-2bf733f0bd4b",
   "metadata": {},
   "outputs": [
    {
     "data": {
      "text/html": [
       "<div>\n",
       "<style scoped>\n",
       "    .dataframe tbody tr th:only-of-type {\n",
       "        vertical-align: middle;\n",
       "    }\n",
       "\n",
       "    .dataframe tbody tr th {\n",
       "        vertical-align: top;\n",
       "    }\n",
       "\n",
       "    .dataframe thead th {\n",
       "        text-align: right;\n",
       "    }\n",
       "</style>\n",
       "<table border=\"1\" class=\"dataframe\">\n",
       "  <thead>\n",
       "    <tr style=\"text-align: right;\">\n",
       "      <th></th>\n",
       "      <th>Date</th>\n",
       "      <th>Open</th>\n",
       "      <th>High</th>\n",
       "      <th>Low</th>\n",
       "      <th>Close</th>\n",
       "      <th>Volume</th>\n",
       "      <th>pct_change</th>\n",
       "    </tr>\n",
       "  </thead>\n",
       "  <tbody>\n",
       "    <tr>\n",
       "      <th>1</th>\n",
       "      <td>2014-09-18</td>\n",
       "      <td>456.859985</td>\n",
       "      <td>456.859985</td>\n",
       "      <td>413.104004</td>\n",
       "      <td>424.440002</td>\n",
       "      <td>34483200.0</td>\n",
       "      <td>-0.071926</td>\n",
       "    </tr>\n",
       "    <tr>\n",
       "      <th>2</th>\n",
       "      <td>2014-09-19</td>\n",
       "      <td>424.102997</td>\n",
       "      <td>427.834991</td>\n",
       "      <td>384.532013</td>\n",
       "      <td>394.795990</td>\n",
       "      <td>37919700.0</td>\n",
       "      <td>-0.069843</td>\n",
       "    </tr>\n",
       "    <tr>\n",
       "      <th>3</th>\n",
       "      <td>2014-09-20</td>\n",
       "      <td>394.673004</td>\n",
       "      <td>423.295990</td>\n",
       "      <td>389.882996</td>\n",
       "      <td>408.903992</td>\n",
       "      <td>36863600.0</td>\n",
       "      <td>0.035735</td>\n",
       "    </tr>\n",
       "    <tr>\n",
       "      <th>4</th>\n",
       "      <td>2014-09-21</td>\n",
       "      <td>408.084991</td>\n",
       "      <td>412.425995</td>\n",
       "      <td>393.181000</td>\n",
       "      <td>398.821014</td>\n",
       "      <td>26580100.0</td>\n",
       "      <td>-0.024659</td>\n",
       "    </tr>\n",
       "    <tr>\n",
       "      <th>5</th>\n",
       "      <td>2014-09-22</td>\n",
       "      <td>399.100006</td>\n",
       "      <td>406.915985</td>\n",
       "      <td>397.130005</td>\n",
       "      <td>402.152008</td>\n",
       "      <td>24127600.0</td>\n",
       "      <td>0.008352</td>\n",
       "    </tr>\n",
       "  </tbody>\n",
       "</table>\n",
       "</div>"
      ],
      "text/plain": [
       "         Date        Open        High         Low       Close      Volume  \\\n",
       "1  2014-09-18  456.859985  456.859985  413.104004  424.440002  34483200.0   \n",
       "2  2014-09-19  424.102997  427.834991  384.532013  394.795990  37919700.0   \n",
       "3  2014-09-20  394.673004  423.295990  389.882996  408.903992  36863600.0   \n",
       "4  2014-09-21  408.084991  412.425995  393.181000  398.821014  26580100.0   \n",
       "5  2014-09-22  399.100006  406.915985  397.130005  402.152008  24127600.0   \n",
       "\n",
       "   pct_change  \n",
       "1   -0.071926  \n",
       "2   -0.069843  \n",
       "3    0.035735  \n",
       "4   -0.024659  \n",
       "5    0.008352  "
      ]
     },
     "metadata": {},
     "output_type": "display_data"
    },
    {
     "data": {
      "text/plain": [
       "count    2598.000000\n",
       "mean        0.002658\n",
       "std         0.039113\n",
       "min        -0.371695\n",
       "25%        -0.012831\n",
       "50%         0.002032\n",
       "75%         0.018448\n",
       "max         0.252472\n",
       "Name: pct_change, dtype: float64"
      ]
     },
     "metadata": {},
     "output_type": "display_data"
    },
    {
     "data": {
      "text/plain": [
       "<AxesSubplot:ylabel='Frequency'>"
      ]
     },
     "execution_count": 45,
     "metadata": {},
     "output_type": "execute_result"
    },
    {
     "data": {
      "image/png": "[encoded data removed]",
      "text/plain": [
       "<Figure size 432x288 with 1 Axes>"
      ]
     },
     "metadata": {
      "needs_background": "light"
     },
     "output_type": "display_data"
    }
   ],
   "source": [
    "btc_data_pct = btc_data\n",
    "btc_data_pct[\"pct_change\"] = btc_data[\"Close\"].pct_change()\n",
    "btc_data_pct.dropna(inplace = True)\n",
    "display(btc_data_pct.head())\n",
    "\n",
    "display(btc_data_pct[\"pct_change\"].describe())\n",
    "btc_data_pct[\"pct_change\"].plot.hist()\n",
    "\n",
    "#This does not look like a normal distribution so I do not recommend a Monte Carlo Simulation?"
   ]
  },
  {
   "cell_type": "code",
   "execution_count": 21,
   "id": "62c92b35-fa7c-4afd-af32-9e935ec7bb42",
   "metadata": {},
   "outputs": [
    {
     "data": {
      "text/html": [
       "<div>\n",
       "<style scoped>\n",
       "    .dataframe tbody tr th:only-of-type {\n",
       "        vertical-align: middle;\n",
       "    }\n",
       "\n",
       "    .dataframe tbody tr th {\n",
       "        vertical-align: top;\n",
       "    }\n",
       "\n",
       "    .dataframe thead tr th {\n",
       "        text-align: left;\n",
       "    }\n",
       "</style>\n",
       "<table border=\"1\" class=\"dataframe\">\n",
       "  <thead>\n",
       "    <tr>\n",
       "      <th></th>\n",
       "      <th colspan=\"6\" halign=\"left\">BTC</th>\n",
       "    </tr>\n",
       "    <tr>\n",
       "      <th></th>\n",
       "      <th>date</th>\n",
       "      <th>open</th>\n",
       "      <th>high</th>\n",
       "      <th>low</th>\n",
       "      <th>close</th>\n",
       "      <th>volume</th>\n",
       "    </tr>\n",
       "  </thead>\n",
       "  <tbody>\n",
       "    <tr>\n",
       "      <th>0</th>\n",
       "      <td>2014-09-17</td>\n",
       "      <td>465.864014</td>\n",
       "      <td>468.174011</td>\n",
       "      <td>452.421997</td>\n",
       "      <td>457.334015</td>\n",
       "      <td>21056800.0</td>\n",
       "    </tr>\n",
       "    <tr>\n",
       "      <th>1</th>\n",
       "      <td>2014-09-18</td>\n",
       "      <td>456.859985</td>\n",
       "      <td>456.859985</td>\n",
       "      <td>413.104004</td>\n",
       "      <td>424.440002</td>\n",
       "      <td>34483200.0</td>\n",
       "    </tr>\n",
       "    <tr>\n",
       "      <th>2</th>\n",
       "      <td>2014-09-19</td>\n",
       "      <td>424.102997</td>\n",
       "      <td>427.834991</td>\n",
       "      <td>384.532013</td>\n",
       "      <td>394.795990</td>\n",
       "      <td>37919700.0</td>\n",
       "    </tr>\n",
       "    <tr>\n",
       "      <th>3</th>\n",
       "      <td>2014-09-20</td>\n",
       "      <td>394.673004</td>\n",
       "      <td>423.295990</td>\n",
       "      <td>389.882996</td>\n",
       "      <td>408.903992</td>\n",
       "      <td>36863600.0</td>\n",
       "    </tr>\n",
       "    <tr>\n",
       "      <th>4</th>\n",
       "      <td>2014-09-21</td>\n",
       "      <td>408.084991</td>\n",
       "      <td>412.425995</td>\n",
       "      <td>393.181000</td>\n",
       "      <td>398.821014</td>\n",
       "      <td>26580100.0</td>\n",
       "    </tr>\n",
       "  </tbody>\n",
       "</table>\n",
       "</div>"
      ],
      "text/plain": [
       "          BTC                                                            \n",
       "         date        open        high         low       close      volume\n",
       "0  2014-09-17  465.864014  468.174011  452.421997  457.334015  21056800.0\n",
       "1  2014-09-18  456.859985  456.859985  413.104004  424.440002  34483200.0\n",
       "2  2014-09-19  424.102997  427.834991  384.532013  394.795990  37919700.0\n",
       "3  2014-09-20  394.673004  423.295990  389.882996  408.903992  36863600.0\n",
       "4  2014-09-21  408.084991  412.425995  393.181000  398.821014  26580100.0"
      ]
     },
     "execution_count": 21,
     "metadata": {},
     "output_type": "execute_result"
    }
   ],
   "source": [
    "btc_data.columns = btc_data.columns.str.lower()\n",
    "# btc_data = pd.concat({'BTC': btc_data}, axis = 1)\n",
    "#Comment this out because there already is an additional level\n",
    "\n",
    "btc_data.head()\n"
   ]
  },
  {
   "cell_type": "code",
   "execution_count": 24,
   "id": "19007668-260f-438b-b7f5-b057837620ad",
   "metadata": {},
   "outputs": [
    {
     "data": {
      "text/html": [
       "<div>\n",
       "<style scoped>\n",
       "    .dataframe tbody tr th:only-of-type {\n",
       "        vertical-align: middle;\n",
       "    }\n",
       "\n",
       "    .dataframe tbody tr th {\n",
       "        vertical-align: top;\n",
       "    }\n",
       "\n",
       "    .dataframe thead tr th {\n",
       "        text-align: left;\n",
       "    }\n",
       "</style>\n",
       "<table border=\"1\" class=\"dataframe\">\n",
       "  <thead>\n",
       "    <tr>\n",
       "      <th></th>\n",
       "      <th colspan=\"7\" halign=\"left\">BTC</th>\n",
       "    </tr>\n",
       "    <tr>\n",
       "      <th></th>\n",
       "      <th>date</th>\n",
       "      <th>open</th>\n",
       "      <th>high</th>\n",
       "      <th>low</th>\n",
       "      <th>close</th>\n",
       "      <th>volume</th>\n",
       "      <th>daily_return</th>\n",
       "    </tr>\n",
       "  </thead>\n",
       "  <tbody>\n",
       "    <tr>\n",
       "      <th>0</th>\n",
       "      <td>2014-09-17</td>\n",
       "      <td>465.864014</td>\n",
       "      <td>468.174011</td>\n",
       "      <td>452.421997</td>\n",
       "      <td>457.334015</td>\n",
       "      <td>21056800.0</td>\n",
       "      <td>NaN</td>\n",
       "    </tr>\n",
       "    <tr>\n",
       "      <th>1</th>\n",
       "      <td>2014-09-18</td>\n",
       "      <td>456.859985</td>\n",
       "      <td>456.859985</td>\n",
       "      <td>413.104004</td>\n",
       "      <td>424.440002</td>\n",
       "      <td>34483200.0</td>\n",
       "      <td>-0.071926</td>\n",
       "    </tr>\n",
       "    <tr>\n",
       "      <th>2</th>\n",
       "      <td>2014-09-19</td>\n",
       "      <td>424.102997</td>\n",
       "      <td>427.834991</td>\n",
       "      <td>384.532013</td>\n",
       "      <td>394.795990</td>\n",
       "      <td>37919700.0</td>\n",
       "      <td>-0.069843</td>\n",
       "    </tr>\n",
       "    <tr>\n",
       "      <th>3</th>\n",
       "      <td>2014-09-20</td>\n",
       "      <td>394.673004</td>\n",
       "      <td>423.295990</td>\n",
       "      <td>389.882996</td>\n",
       "      <td>408.903992</td>\n",
       "      <td>36863600.0</td>\n",
       "      <td>0.035735</td>\n",
       "    </tr>\n",
       "    <tr>\n",
       "      <th>4</th>\n",
       "      <td>2014-09-21</td>\n",
       "      <td>408.084991</td>\n",
       "      <td>412.425995</td>\n",
       "      <td>393.181000</td>\n",
       "      <td>398.821014</td>\n",
       "      <td>26580100.0</td>\n",
       "      <td>-0.024659</td>\n",
       "    </tr>\n",
       "  </tbody>\n",
       "</table>\n",
       "</div>"
      ],
      "text/plain": [
       "          BTC                                                              \\\n",
       "         date        open        high         low       close      volume   \n",
       "0  2014-09-17  465.864014  468.174011  452.421997  457.334015  21056800.0   \n",
       "1  2014-09-18  456.859985  456.859985  413.104004  424.440002  34483200.0   \n",
       "2  2014-09-19  424.102997  427.834991  384.532013  394.795990  37919700.0   \n",
       "3  2014-09-20  394.673004  423.295990  389.882996  408.903992  36863600.0   \n",
       "4  2014-09-21  408.084991  412.425995  393.181000  398.821014  26580100.0   \n",
       "\n",
       "                \n",
       "  daily_return  \n",
       "0          NaN  \n",
       "1    -0.071926  \n",
       "2    -0.069843  \n",
       "3     0.035735  \n",
       "4    -0.024659  "
      ]
     },
     "execution_count": 24,
     "metadata": {},
     "output_type": "execute_result"
    }
   ],
   "source": [
    "MC_ten_year_btc = MCSimulation(portfolio_data = btc_data, \n",
    "                      num_simulation= 1000,\n",
    "                      num_trading_days= 252*10)\n",
    "MC_ten_year_btc.portfolio_data.head()\n"
   ]
  },
  {
   "cell_type": "code",
   "execution_count": 35,
   "id": "8ac26a87-f595-476c-baba-69cf675cab36",
   "metadata": {},
   "outputs": [
    {
     "name": "stdout",
     "output_type": "stream",
     "text": [
      "Running Monte Carlo simulation number 0.\n",
      "Running Monte Carlo simulation number 10.\n",
      "Running Monte Carlo simulation number 20.\n",
      "Running Monte Carlo simulation number 30.\n",
      "Running Monte Carlo simulation number 40.\n",
      "Running Monte Carlo simulation number 50.\n",
      "Running Monte Carlo simulation number 60.\n",
      "Running Monte Carlo simulation number 70.\n",
      "Running Monte Carlo simulation number 80.\n",
      "Running Monte Carlo simulation number 90.\n",
      "Running Monte Carlo simulation number 100.\n",
      "Running Monte Carlo simulation number 110.\n",
      "Running Monte Carlo simulation number 120.\n",
      "Running Monte Carlo simulation number 130.\n",
      "Running Monte Carlo simulation number 140.\n",
      "Running Monte Carlo simulation number 150.\n",
      "Running Monte Carlo simulation number 160.\n",
      "Running Monte Carlo simulation number 170.\n",
      "Running Monte Carlo simulation number 180.\n",
      "Running Monte Carlo simulation number 190.\n",
      "Running Monte Carlo simulation number 200.\n",
      "Running Monte Carlo simulation number 210.\n",
      "Running Monte Carlo simulation number 220.\n",
      "Running Monte Carlo simulation number 230.\n",
      "Running Monte Carlo simulation number 240.\n",
      "Running Monte Carlo simulation number 250.\n",
      "Running Monte Carlo simulation number 260.\n",
      "Running Monte Carlo simulation number 270.\n",
      "Running Monte Carlo simulation number 280.\n",
      "Running Monte Carlo simulation number 290.\n",
      "Running Monte Carlo simulation number 300.\n",
      "Running Monte Carlo simulation number 310.\n",
      "Running Monte Carlo simulation number 320.\n",
      "Running Monte Carlo simulation number 330.\n",
      "Running Monte Carlo simulation number 340.\n",
      "Running Monte Carlo simulation number 350.\n",
      "Running Monte Carlo simulation number 360.\n",
      "Running Monte Carlo simulation number 370.\n",
      "Running Monte Carlo simulation number 380.\n",
      "Running Monte Carlo simulation number 390.\n",
      "Running Monte Carlo simulation number 400.\n",
      "Running Monte Carlo simulation number 410.\n",
      "Running Monte Carlo simulation number 420.\n",
      "Running Monte Carlo simulation number 430.\n",
      "Running Monte Carlo simulation number 440.\n",
      "Running Monte Carlo simulation number 450.\n",
      "Running Monte Carlo simulation number 460.\n",
      "Running Monte Carlo simulation number 470.\n",
      "Running Monte Carlo simulation number 480.\n",
      "Running Monte Carlo simulation number 490.\n",
      "Running Monte Carlo simulation number 500.\n",
      "Running Monte Carlo simulation number 510.\n",
      "Running Monte Carlo simulation number 520.\n",
      "Running Monte Carlo simulation number 530.\n",
      "Running Monte Carlo simulation number 540.\n",
      "Running Monte Carlo simulation number 550.\n",
      "Running Monte Carlo simulation number 560.\n",
      "Running Monte Carlo simulation number 570.\n",
      "Running Monte Carlo simulation number 580.\n",
      "Running Monte Carlo simulation number 590.\n",
      "Running Monte Carlo simulation number 600.\n",
      "Running Monte Carlo simulation number 610.\n",
      "Running Monte Carlo simulation number 620.\n",
      "Running Monte Carlo simulation number 630.\n",
      "Running Monte Carlo simulation number 640.\n",
      "Running Monte Carlo simulation number 650.\n",
      "Running Monte Carlo simulation number 660.\n",
      "Running Monte Carlo simulation number 670.\n",
      "Running Monte Carlo simulation number 680.\n",
      "Running Monte Carlo simulation number 690.\n",
      "Running Monte Carlo simulation number 700.\n",
      "Running Monte Carlo simulation number 710.\n",
      "Running Monte Carlo simulation number 720.\n",
      "Running Monte Carlo simulation number 730.\n",
      "Running Monte Carlo simulation number 740.\n",
      "Running Monte Carlo simulation number 750.\n",
      "Running Monte Carlo simulation number 760.\n",
      "Running Monte Carlo simulation number 770.\n",
      "Running Monte Carlo simulation number 780.\n",
      "Running Monte Carlo simulation number 790.\n",
      "Running Monte Carlo simulation number 800.\n",
      "Running Monte Carlo simulation number 810.\n",
      "Running Monte Carlo simulation number 820.\n",
      "Running Monte Carlo simulation number 830.\n",
      "Running Monte Carlo simulation number 840.\n",
      "Running Monte Carlo simulation number 850.\n",
      "Running Monte Carlo simulation number 860.\n",
      "Running Monte Carlo simulation number 870.\n",
      "Running Monte Carlo simulation number 880.\n",
      "Running Monte Carlo simulation number 890.\n",
      "Running Monte Carlo simulation number 900.\n",
      "Running Monte Carlo simulation number 910.\n",
      "Running Monte Carlo simulation number 920.\n",
      "Running Monte Carlo simulation number 930.\n",
      "Running Monte Carlo simulation number 940.\n",
      "Running Monte Carlo simulation number 950.\n",
      "Running Monte Carlo simulation number 960.\n",
      "Running Monte Carlo simulation number 970.\n",
      "Running Monte Carlo simulation number 980.\n",
      "Running Monte Carlo simulation number 990.\n"
     ]
    }
   ],
   "source": [
    "MC_simulated_return = MC_ten_year_btc.calc_cumulative_return()"
   ]
  },
  {
   "cell_type": "code",
   "execution_count": 29,
   "id": "1d9302ed-297c-42ba-8e4b-0488e59dc1f8",
   "metadata": {},
   "outputs": [
    {
     "data": {
      "text/plain": [
       "<AxesSubplot:title={'center':'1000 Simulations of Cumulative Portfolio Return Trajectories Over the Next 2520 Trading Days.'}>"
      ]
     },
     "execution_count": 29,
     "metadata": {},
     "output_type": "execute_result"
    },
    {
     "data": {
      "image/png": "[encoded data removed]",
      "text/plain": [
       "<Figure size 432x288 with 1 Axes>"
      ]
     },
     "metadata": {
      "needs_background": "light"
     },
     "output_type": "display_data"
    }
   ],
   "source": [
    "MC_ten_year_btc.plot_simulation()"
   ]
  },
  {
   "cell_type": "code",
   "execution_count": 33,
   "id": "7a414a68-e274-443c-b436-3b4b56b04cd9",
   "metadata": {},
   "outputs": [
    {
     "data": {
      "text/plain": [
       "<AxesSubplot:title={'center':'Distribution of Final Cumuluative Returns Across All 1000 Simulations'}, ylabel='Frequency'>"
      ]
     },
     "execution_count": 33,
     "metadata": {},
     "output_type": "execute_result"
    },
    {
     "data": {
      "image/png": "[encoded data removed]",
      "text/plain": [
       "<Figure size 432x288 with 1 Axes>"
      ]
     },
     "metadata": {
      "needs_background": "light"
     },
     "output_type": "display_data"
    }
   ],
   "source": [
    "MC_ten_year_btc.plot_distribution()"
   ]
  },
  {
   "cell_type": "code",
   "execution_count": 32,
   "id": "31c739c7-93fb-4b84-a755-8a8829a7c428",
   "metadata": {},
   "outputs": [
    {
     "data": {
      "text/plain": [
       "count            1000.000\n",
       "mean              752.129\n",
       "std              2350.361\n",
       "min                 0.347\n",
       "25%                35.758\n",
       "50%               111.883\n",
       "75%               487.523\n",
       "max             31691.961\n",
       "95% CI Lower        2.871\n",
       "95% CI Upper     6170.672\n",
       "Name: 2520, dtype: float64"
      ]
     },
     "execution_count": 32,
     "metadata": {},
     "output_type": "execute_result"
    }
   ],
   "source": [
    "MC_ten_year_summary_statistics = round(MC_ten_year_btc.summarize_cumulative_return(), 3)\n",
    "MC_ten_year_summary_statistics"
   ]
  },
  {
   "cell_type": "code",
   "execution_count": 46,
   "id": "9bf734f9-f3ff-42f9-a2a8-20770a3cad98",
   "metadata": {},
   "outputs": [
    {
     "data": {
      "text/html": [
       "<div>\n",
       "<style scoped>\n",
       "    .dataframe tbody tr th:only-of-type {\n",
       "        vertical-align: middle;\n",
       "    }\n",
       "\n",
       "    .dataframe tbody tr th {\n",
       "        vertical-align: top;\n",
       "    }\n",
       "\n",
       "    .dataframe thead th {\n",
       "        text-align: right;\n",
       "    }\n",
       "</style>\n",
       "<table border=\"1\" class=\"dataframe\">\n",
       "  <thead>\n",
       "    <tr style=\"text-align: right;\">\n",
       "      <th></th>\n",
       "      <th>0</th>\n",
       "      <th>1</th>\n",
       "      <th>2</th>\n",
       "      <th>3</th>\n",
       "      <th>4</th>\n",
       "      <th>5</th>\n",
       "      <th>6</th>\n",
       "      <th>7</th>\n",
       "      <th>8</th>\n",
       "      <th>9</th>\n",
       "      <th>...</th>\n",
       "      <th>990</th>\n",
       "      <th>991</th>\n",
       "      <th>992</th>\n",
       "      <th>993</th>\n",
       "      <th>994</th>\n",
       "      <th>995</th>\n",
       "      <th>996</th>\n",
       "      <th>997</th>\n",
       "      <th>998</th>\n",
       "      <th>999</th>\n",
       "    </tr>\n",
       "  </thead>\n",
       "  <tbody>\n",
       "    <tr>\n",
       "      <th>0</th>\n",
       "      <td>1.000000</td>\n",
       "      <td>1.000000</td>\n",
       "      <td>1.000000</td>\n",
       "      <td>1.000000</td>\n",
       "      <td>1.000000</td>\n",
       "      <td>1.000000</td>\n",
       "      <td>1.000000</td>\n",
       "      <td>1.000000</td>\n",
       "      <td>1.000000</td>\n",
       "      <td>1.000000</td>\n",
       "      <td>...</td>\n",
       "      <td>1.000000</td>\n",
       "      <td>1.000000</td>\n",
       "      <td>1.000000</td>\n",
       "      <td>1.000000</td>\n",
       "      <td>1.000000</td>\n",
       "      <td>1.000000</td>\n",
       "      <td>1.000000</td>\n",
       "      <td>1.000000</td>\n",
       "      <td>1.000000</td>\n",
       "      <td>1.000000</td>\n",
       "    </tr>\n",
       "    <tr>\n",
       "      <th>1</th>\n",
       "      <td>1.027094</td>\n",
       "      <td>1.052963</td>\n",
       "      <td>1.056751</td>\n",
       "      <td>0.896137</td>\n",
       "      <td>1.023571</td>\n",
       "      <td>0.950878</td>\n",
       "      <td>1.033804</td>\n",
       "      <td>1.018071</td>\n",
       "      <td>1.021332</td>\n",
       "      <td>0.935363</td>\n",
       "      <td>...</td>\n",
       "      <td>1.086245</td>\n",
       "      <td>0.975323</td>\n",
       "      <td>1.001891</td>\n",
       "      <td>1.020002</td>\n",
       "      <td>1.007687</td>\n",
       "      <td>1.071932</td>\n",
       "      <td>0.957707</td>\n",
       "      <td>0.982351</td>\n",
       "      <td>0.977594</td>\n",
       "      <td>0.987479</td>\n",
       "    </tr>\n",
       "    <tr>\n",
       "      <th>2</th>\n",
       "      <td>1.002968</td>\n",
       "      <td>0.992267</td>\n",
       "      <td>1.103348</td>\n",
       "      <td>0.907347</td>\n",
       "      <td>1.024066</td>\n",
       "      <td>0.943012</td>\n",
       "      <td>1.133211</td>\n",
       "      <td>1.132575</td>\n",
       "      <td>1.022322</td>\n",
       "      <td>0.893617</td>\n",
       "      <td>...</td>\n",
       "      <td>1.081391</td>\n",
       "      <td>0.912875</td>\n",
       "      <td>1.018159</td>\n",
       "      <td>1.077351</td>\n",
       "      <td>0.983205</td>\n",
       "      <td>1.035380</td>\n",
       "      <td>0.957292</td>\n",
       "      <td>0.962013</td>\n",
       "      <td>0.949485</td>\n",
       "      <td>0.999466</td>\n",
       "    </tr>\n",
       "    <tr>\n",
       "      <th>3</th>\n",
       "      <td>0.979292</td>\n",
       "      <td>0.994599</td>\n",
       "      <td>1.106130</td>\n",
       "      <td>0.944035</td>\n",
       "      <td>0.986449</td>\n",
       "      <td>0.974084</td>\n",
       "      <td>1.104358</td>\n",
       "      <td>1.177322</td>\n",
       "      <td>0.961947</td>\n",
       "      <td>0.940558</td>\n",
       "      <td>...</td>\n",
       "      <td>1.054866</td>\n",
       "      <td>0.965280</td>\n",
       "      <td>1.022824</td>\n",
       "      <td>1.042112</td>\n",
       "      <td>0.956428</td>\n",
       "      <td>1.083953</td>\n",
       "      <td>0.979126</td>\n",
       "      <td>0.992043</td>\n",
       "      <td>0.912803</td>\n",
       "      <td>1.044270</td>\n",
       "    </tr>\n",
       "    <tr>\n",
       "      <th>4</th>\n",
       "      <td>1.013256</td>\n",
       "      <td>0.964709</td>\n",
       "      <td>1.126199</td>\n",
       "      <td>0.910831</td>\n",
       "      <td>0.954972</td>\n",
       "      <td>1.009901</td>\n",
       "      <td>1.112106</td>\n",
       "      <td>1.232231</td>\n",
       "      <td>0.974194</td>\n",
       "      <td>0.930621</td>\n",
       "      <td>...</td>\n",
       "      <td>1.053455</td>\n",
       "      <td>0.940655</td>\n",
       "      <td>0.969562</td>\n",
       "      <td>1.102385</td>\n",
       "      <td>0.922080</td>\n",
       "      <td>1.105703</td>\n",
       "      <td>0.948832</td>\n",
       "      <td>0.996824</td>\n",
       "      <td>0.965823</td>\n",
       "      <td>1.065726</td>\n",
       "    </tr>\n",
       "  </tbody>\n",
       "</table>\n",
       "<p>5 rows × 1000 columns</p>\n",
       "</div>"
      ],
      "text/plain": [
       "        0         1         2         3         4         5         6    \\\n",
       "0  1.000000  1.000000  1.000000  1.000000  1.000000  1.000000  1.000000   \n",
       "1  1.027094  1.052963  1.056751  0.896137  1.023571  0.950878  1.033804   \n",
       "2  1.002968  0.992267  1.103348  0.907347  1.024066  0.943012  1.133211   \n",
       "3  0.979292  0.994599  1.106130  0.944035  0.986449  0.974084  1.104358   \n",
       "4  1.013256  0.964709  1.126199  0.910831  0.954972  1.009901  1.112106   \n",
       "\n",
       "        7         8         9    ...       990       991       992       993  \\\n",
       "0  1.000000  1.000000  1.000000  ...  1.000000  1.000000  1.000000  1.000000   \n",
       "1  1.018071  1.021332  0.935363  ...  1.086245  0.975323  1.001891  1.020002   \n",
       "2  1.132575  1.022322  0.893617  ...  1.081391  0.912875  1.018159  1.077351   \n",
       "3  1.177322  0.961947  0.940558  ...  1.054866  0.965280  1.022824  1.042112   \n",
       "4  1.232231  0.974194  0.930621  ...  1.053455  0.940655  0.969562  1.102385   \n",
       "\n",
       "        994       995       996       997       998       999  \n",
       "0  1.000000  1.000000  1.000000  1.000000  1.000000  1.000000  \n",
       "1  1.007687  1.071932  0.957707  0.982351  0.977594  0.987479  \n",
       "2  0.983205  1.035380  0.957292  0.962013  0.949485  0.999466  \n",
       "3  0.956428  1.083953  0.979126  0.992043  0.912803  1.044270  \n",
       "4  0.922080  1.105703  0.948832  0.996824  0.965823  1.065726  \n",
       "\n",
       "[5 rows x 1000 columns]"
      ]
     },
     "metadata": {},
     "output_type": "display_data"
    },
    {
     "data": {
      "text/plain": [
       "<AxesSubplot:title={'center':'Average of 1000 Simulations of Cumulative Portfolio Return Trajectories Over the Next 2520 Trading Days'}, ylabel='Return'>"
      ]
     },
     "execution_count": 46,
     "metadata": {},
     "output_type": "execute_result"
    },
    {
     "data": {
      "image/png": "[encoded data removed]",
      "text/plain": [
       "<Figure size 432x288 with 1 Axes>"
      ]
     },
     "metadata": {
      "needs_background": "light"
     },
     "output_type": "display_data"
    }
   ],
   "source": [
    "display(MC_simulated_return.head())\n",
    "MC_single_graph = MC_simulated_return.mean(axis = 1)\n",
    "MC_single_graph.plot(title  =\"Average of 1000 Simulations of Cumulative Portfolio Return Trajectories Over the Next 2520 Trading Days\", ylabel = \"Return\")"
   ]
  },
  {
   "cell_type": "code",
   "execution_count": null,
   "id": "1399e31e-3d93-4642-b71c-98b27db4b420",
   "metadata": {},
   "outputs": [],
   "source": []
  }
 ],
 "metadata": {
  "kernelspec": {
   "display_name": "Python 3",
   "language": "python",
   "name": "python3"
  },
  "language_info": {
   "codemirror_mode": {
    "name": "ipython",
    "version": 3
   },
   "file_extension": ".py",
   "mimetype": "text/x-python",
   "name": "python",
   "nbconvert_exporter": "python",
   "pygments_lexer": "ipython3",
   "version": "3.7.7"
  }
 },
 "nbformat": 4,
 "nbformat_minor": 5
}
