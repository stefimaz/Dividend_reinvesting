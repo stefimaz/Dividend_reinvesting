{
 "cells": [
  {
   "cell_type": "markdown",
   "id": "3749fdef-fa3d-4c74-a095-af3d4b2e1225",
   "metadata": {},
   "source": [
    "Note: I created a new MC python file called MCForecastTools_3Mod.py. It is literally the same as MCForecastTools_2Mod.py but the only difference is that I commented out the printing step part so it won't keep printing out \"Running Monte Carlo simulation number {n}\" every time. Now, there is no visual cue when the code is done running but at least the output isn't overflowed with the print line. The way I know when the cell is finished running is when the cell number on the left is an asterik [*], meaning that it is still running. After it becomes a numbered cell, it means the code has finished running."
   ]
  },
  {
   "cell_type": "code",
   "execution_count": 1,
   "id": "a756e158-0b0c-42aa-9f6e-a72b3979f524",
   "metadata": {},
   "outputs": [],
   "source": [
    "# Import the required libraries and dependencies\n",
    "import os\n",
    "from pathlib import Path\n",
    "import requests\n",
    "import json\n",
    "import pandas as pd\n",
    "from dotenv import load_dotenv\n",
    "import alpaca_trade_api as tradeapi\n",
    "from MCForecastTools_3Mod import MCSimulation\n",
    "\n",
    "%matplotlib inline"
   ]
  },
  {
   "cell_type": "code",
   "execution_count": 30,
   "id": "efedac8c-3c5c-4698-afd4-80021a5683c7",
   "metadata": {},
   "outputs": [],
   "source": [
    "import numpy as np\n",
    "import datetime\n",
    "\n",
    "import matplotlib.pyplot as plt\n",
    "# from scipy.stats import norm\n",
    "# import statistics"
   ]
  },
  {
   "cell_type": "code",
   "execution_count": 3,
   "id": "c67cd2cc-d052-4480-bae3-632624181582",
   "metadata": {},
   "outputs": [
    {
     "data": {
      "text/plain": [
       "True"
      ]
     },
     "execution_count": 3,
     "metadata": {},
     "output_type": "execute_result"
    }
   ],
   "source": [
    "load_dotenv()"
   ]
  },
  {
   "cell_type": "code",
   "execution_count": 4,
   "id": "276ff119-8e63-49c1-b9a8-dc5e2cbacae6",
   "metadata": {},
   "outputs": [],
   "source": [
    "alpaca_api_key = os.getenv(\"ALPACA_API_KEY\")\n",
    "alpaca_secret_key = os.getenv(\"ALPACA_SECRET_KEY\")"
   ]
  },
  {
   "cell_type": "code",
   "execution_count": 6,
   "id": "c0c87870-063c-4d08-ac7b-eb12c396da14",
   "metadata": {},
   "outputs": [
    {
     "data": {
      "text/plain": [
       "str"
      ]
     },
     "execution_count": 6,
     "metadata": {},
     "output_type": "execute_result"
    }
   ],
   "source": [
    "type(alpaca_api_key)\n",
    "type(alpaca_secret_key)"
   ]
  },
  {
   "cell_type": "code",
   "execution_count": 40,
   "id": "88a85095-fead-48e4-be82-e59db6b29e80",
   "metadata": {},
   "outputs": [],
   "source": [
    "alpaca = tradeapi.REST(\n",
    "    alpaca_api_key,\n",
    "    alpaca_secret_key,\n",
    "    api_version=\"v2\")\n",
    "\n",
    "tickers = [\"MSFT\"]\n",
    "timeframe = \"1D\"\n",
    "\n",
    "\n",
    "now = datetime.datetime.now()\n",
    "current_time = now.strftime(\"%H:%M\")\n",
    "current_time = int(str(current_time[0:2] + current_time[3:5]))\n",
    "yesterday = datetime.date.today() - datetime.timedelta(days = 1)\n",
    "\n",
    "# print(str(current_time[0:2] + current_time[3:5]))\n",
    "# print(current_time)\n",
    "if current_time < 930:\n",
    "    start_date = pd.Timestamp(yesterday, tz=\"America/New_York\").isoformat()\n",
    "    end_date = pd.Timestamp(yesterday, tz=\"America/New_York\").isoformat()\n",
    "else:   \n",
    "    start_date = pd.Timestamp(\"today\", tz=\"America/New_York\").isoformat()\n",
    "    end_date = pd.Timestamp(\"today\", tz=\"America/New_York\").isoformat()\n",
    "limit_rows = 1"
   ]
  },
  {
   "cell_type": "code",
   "execution_count": 41,
   "id": "a5dc1511-3bd5-48f5-afcc-96caf012b19b",
   "metadata": {},
   "outputs": [
    {
     "data": {
      "text/html": [
       "<div>\n",
       "<style scoped>\n",
       "    .dataframe tbody tr th:only-of-type {\n",
       "        vertical-align: middle;\n",
       "    }\n",
       "\n",
       "    .dataframe tbody tr th {\n",
       "        vertical-align: top;\n",
       "    }\n",
       "\n",
       "    .dataframe thead tr th {\n",
       "        text-align: left;\n",
       "    }\n",
       "\n",
       "    .dataframe thead tr:last-of-type th {\n",
       "        text-align: right;\n",
       "    }\n",
       "</style>\n",
       "<table border=\"1\" class=\"dataframe\">\n",
       "  <thead>\n",
       "    <tr>\n",
       "      <th></th>\n",
       "      <th colspan=\"5\" halign=\"left\">MSFT</th>\n",
       "    </tr>\n",
       "    <tr>\n",
       "      <th></th>\n",
       "      <th>open</th>\n",
       "      <th>high</th>\n",
       "      <th>low</th>\n",
       "      <th>close</th>\n",
       "      <th>volume</th>\n",
       "    </tr>\n",
       "    <tr>\n",
       "      <th>time</th>\n",
       "      <th></th>\n",
       "      <th></th>\n",
       "      <th></th>\n",
       "      <th></th>\n",
       "      <th></th>\n",
       "    </tr>\n",
       "  </thead>\n",
       "  <tbody>\n",
       "    <tr>\n",
       "      <th>2021-11-05 00:00:00-04:00</th>\n",
       "      <td>338.6</td>\n",
       "      <td>338.86</td>\n",
       "      <td>334.4217</td>\n",
       "      <td>336.11</td>\n",
       "      <td>18428508</td>\n",
       "    </tr>\n",
       "  </tbody>\n",
       "</table>\n",
       "</div>"
      ],
      "text/plain": [
       "                            MSFT                                    \n",
       "                            open    high       low   close    volume\n",
       "time                                                                \n",
       "2021-11-05 00:00:00-04:00  338.6  338.86  334.4217  336.11  18428508"
      ]
     },
     "execution_count": 41,
     "metadata": {},
     "output_type": "execute_result"
    }
   ],
   "source": [
    "current_msft_price_df = alpaca.get_barset(\n",
    "    tickers,\n",
    "    timeframe,\n",
    "    start = start_date,\n",
    "    end = end_date,\n",
    "    limit = limit_rows\n",
    ").df\n",
    "\n",
    "current_msft_price_df.head()"
   ]
  },
  {
   "cell_type": "code",
   "execution_count": 42,
   "id": "1a3b16b0-4696-421d-a628-79b23dba85f0",
   "metadata": {},
   "outputs": [
    {
     "name": "stdout",
     "output_type": "stream",
     "text": [
      "336.11\n"
     ]
    }
   ],
   "source": [
    "msft_close_price = float(current_msft_price_df[\"MSFT\"][\"close\"])\n",
    "print(msft_close_price)"
   ]
  },
  {
   "cell_type": "code",
   "execution_count": 43,
   "id": "eb764b8f-ac75-481a-a1de-29f6453f62a2",
   "metadata": {},
   "outputs": [
    {
     "data": {
      "text/html": [
       "<div>\n",
       "<style scoped>\n",
       "    .dataframe tbody tr th:only-of-type {\n",
       "        vertical-align: middle;\n",
       "    }\n",
       "\n",
       "    .dataframe tbody tr th {\n",
       "        vertical-align: top;\n",
       "    }\n",
       "\n",
       "    .dataframe thead th {\n",
       "        text-align: right;\n",
       "    }\n",
       "</style>\n",
       "<table border=\"1\" class=\"dataframe\">\n",
       "  <thead>\n",
       "    <tr style=\"text-align: right;\">\n",
       "      <th></th>\n",
       "      <th>Announced</th>\n",
       "      <th>Period</th>\n",
       "      <th>Amount</th>\n",
       "      <th>Yield</th>\n",
       "      <th>Ex-Dividend</th>\n",
       "      <th>Record Date</th>\n",
       "      <th>Payable Date</th>\n",
       "    </tr>\n",
       "  </thead>\n",
       "  <tbody>\n",
       "    <tr>\n",
       "      <th>0</th>\n",
       "      <td>2021-09-14</td>\n",
       "      <td>quarterly</td>\n",
       "      <td>$0.62</td>\n",
       "      <td>0.83%</td>\n",
       "      <td>11/17/2021</td>\n",
       "      <td>11/18/2021</td>\n",
       "      <td>12/9/2021</td>\n",
       "    </tr>\n",
       "    <tr>\n",
       "      <th>1</th>\n",
       "      <td>2021-06-16</td>\n",
       "      <td>quarterly</td>\n",
       "      <td>$0.56</td>\n",
       "      <td>0.87%</td>\n",
       "      <td>8/18/2021</td>\n",
       "      <td>8/19/2021</td>\n",
       "      <td>9/9/2021</td>\n",
       "    </tr>\n",
       "    <tr>\n",
       "      <th>2</th>\n",
       "      <td>2021-03-16</td>\n",
       "      <td>quarterly</td>\n",
       "      <td>$0.56</td>\n",
       "      <td>0.94%</td>\n",
       "      <td>5/19/2021</td>\n",
       "      <td>5/20/2021</td>\n",
       "      <td>6/10/2021</td>\n",
       "    </tr>\n",
       "    <tr>\n",
       "      <th>3</th>\n",
       "      <td>2020-12-02</td>\n",
       "      <td>quarterly</td>\n",
       "      <td>$0.56</td>\n",
       "      <td>1.04%</td>\n",
       "      <td>2/17/2021</td>\n",
       "      <td>2/18/2021</td>\n",
       "      <td>3/11/2021</td>\n",
       "    </tr>\n",
       "    <tr>\n",
       "      <th>4</th>\n",
       "      <td>2020-09-15</td>\n",
       "      <td>quarterly</td>\n",
       "      <td>$0.56</td>\n",
       "      <td>1.07%</td>\n",
       "      <td>11/18/2020</td>\n",
       "      <td>11/19/2020</td>\n",
       "      <td>12/10/2020</td>\n",
       "    </tr>\n",
       "  </tbody>\n",
       "</table>\n",
       "</div>"
      ],
      "text/plain": [
       "  Announced      Period  Amount  Yield Ex-Dividend Record Date Payable Date\n",
       "0 2021-09-14  quarterly  $0.62   0.83%  11/17/2021  11/18/2021    12/9/2021\n",
       "1 2021-06-16  quarterly  $0.56   0.87%   8/18/2021   8/19/2021     9/9/2021\n",
       "2 2021-03-16  quarterly  $0.56   0.94%   5/19/2021   5/20/2021    6/10/2021\n",
       "3 2020-12-02  quarterly  $0.56   1.04%   2/17/2021   2/18/2021    3/11/2021\n",
       "4 2020-09-15  quarterly  $0.56   1.07%  11/18/2020  11/19/2020   12/10/2020"
      ]
     },
     "execution_count": 43,
     "metadata": {},
     "output_type": "execute_result"
    }
   ],
   "source": [
    "msft_div = pd.read_csv(Path(\"Resources/msft_dividends.csv\"))\n",
    "msft_div.iloc[:,0] = pd.to_datetime(msft_div.iloc[:,0])\n",
    "msft_div.head()\n"
   ]
  },
  {
   "cell_type": "code",
   "execution_count": 44,
   "id": "582bc5c0-5fc7-46f5-a3cf-353660159f6f",
   "metadata": {},
   "outputs": [
    {
     "name": "stderr",
     "output_type": "stream",
     "text": [
      "<ipython-input-44-73ed3b8518a9>:4: FutureWarning: The default value of regex will change from True to False in a future version. In addition, single character regular expressions will*not* be treated as literal strings when regex=True.\n",
      "  msft_div.loc[:, \"Amount\"]= msft_div.loc[:, \"Amount\"].str.replace(\"$\", \"\")\n"
     ]
    },
    {
     "data": {
      "text/plain": [
       "Announced       datetime64[ns]\n",
       "Period                  object\n",
       "Amount                 float64\n",
       "Yield                  float64\n",
       "Ex-Dividend             object\n",
       "Record Date             object\n",
       "Payable Date            object\n",
       "dtype: object"
      ]
     },
     "execution_count": 44,
     "metadata": {},
     "output_type": "execute_result"
    }
   ],
   "source": [
    "msft_div.loc[:, \"Yield\"]= msft_div.loc[:, \"Yield\"].str.replace(\"%\", \"\")\n",
    "msft_div.loc[:, \"Yield\"]= msft_div.loc[:, \"Yield\"].astype(\"float\")\n",
    "\n",
    "msft_div.loc[:, \"Amount\"]= msft_div.loc[:, \"Amount\"].str.replace(\"$\", \"\")\n",
    "msft_div.loc[:, \"Amount\"]= msft_div.loc[:, \"Amount\"].astype(\"float\")\n",
    "\n",
    "msft_div.dtypes"
   ]
  },
  {
   "cell_type": "code",
   "execution_count": 45,
   "id": "972b6f6c-ca75-4d6e-9a5c-0e2115b63263",
   "metadata": {},
   "outputs": [
    {
     "name": "stdout",
     "output_type": "stream",
     "text": [
      "The average yearly dividend for Microsoft is: 1.75% over the last 10 years.\n"
     ]
    }
   ],
   "source": [
    "msft_div_slices = msft_div.loc[:, \"Yield\"]\n",
    "msft_div_slices_average = round(msft_div_slices.mean(),2)\n",
    "msft_div_slices_average\n",
    "print(f\"The average yearly dividend for Microsoft is: {msft_div_slices_average}% over the last 10 years.\")"
   ]
  },
  {
   "cell_type": "code",
   "execution_count": 46,
   "id": "0115f01b-b990-46e7-907a-56930f6548e0",
   "metadata": {},
   "outputs": [
    {
     "data": {
      "text/plain": [
       "<AxesSubplot:xlabel='Announced '>"
      ]
     },
     "execution_count": 46,
     "metadata": {},
     "output_type": "execute_result"
    },
    {
     "data": {
      "image/png": "[encoded data removed]",
      "text/plain": [
       "<Figure size 432x288 with 1 Axes>"
      ]
     },
     "metadata": {
      "needs_background": "light"
     },
     "output_type": "display_data"
    }
   ],
   "source": [
    "msft_div.plot(x= \"Announced \", y= \"Yield\")\n",
    "#Should we use the Average Yearly Dividend over the simulated time frame? It seems too high and I feel like it would only ever decrease.\n",
    "#If the dividend yield is decreasing because the stock price is increasing, then does that mean considering MSFT simulated growth, the yield would decrease even further?\n",
    "\n",
    "\n",
    "#Suggestion: Run linear regression to progress the dividend yield graph even further. Return the predicted yield into a list and plot it out.\n",
    "\n",
    "#import numpy as np\n",
    "# from sklearn.linear_model import LinearRegression\n",
    "\n"
   ]
  },
  {
   "cell_type": "code",
   "execution_count": 47,
   "id": "1461b089-aad7-4f78-ba66-e6609001b152",
   "metadata": {},
   "outputs": [
    {
     "data": {
      "text/plain": [
       "<AxesSubplot:xlabel='Announced '>"
      ]
     },
     "execution_count": 47,
     "metadata": {},
     "output_type": "execute_result"
    },
    {
     "data": {
      "image/png": "[encoded data removed]",
      "text/plain": [
       "<Figure size 432x288 with 1 Axes>"
      ]
     },
     "metadata": {
      "needs_background": "light"
     },
     "output_type": "display_data"
    }
   ],
   "source": [
    "msft_div.plot(x= \"Announced \", y= \"Amount\")"
   ]
  },
  {
   "cell_type": "markdown",
   "id": "693ee53e-e232-40cf-acc8-18ffc7a76c20",
   "metadata": {},
   "source": [
    "## Okay, so rereading this code, I realized that I diverged a little here, this whole MC with bitcoin is useless and a waste of time but I think the only thing worth keep is the data cleaning of this part so that we can adapt this code to run MC simulation on any stock's dataframe.\n"
   ]
  },
  {
   "cell_type": "code",
   "execution_count": 49,
   "id": "9b03293c-0fe6-425e-b17c-2e8c211c17c4",
   "metadata": {},
   "outputs": [
    {
     "data": {
      "text/plain": [
       "<AxesSubplot:xlabel='Date'>"
      ]
     },
     "metadata": {},
     "output_type": "display_data"
    },
    {
     "data": {
      "text/html": [
       "<div>\n",
       "<style scoped>\n",
       "    .dataframe tbody tr th:only-of-type {\n",
       "        vertical-align: middle;\n",
       "    }\n",
       "\n",
       "    .dataframe tbody tr th {\n",
       "        vertical-align: top;\n",
       "    }\n",
       "\n",
       "    .dataframe thead th {\n",
       "        text-align: right;\n",
       "    }\n",
       "</style>\n",
       "<table border=\"1\" class=\"dataframe\">\n",
       "  <thead>\n",
       "    <tr style=\"text-align: right;\">\n",
       "      <th></th>\n",
       "      <th>Date</th>\n",
       "      <th>Open</th>\n",
       "      <th>High</th>\n",
       "      <th>Low</th>\n",
       "      <th>Close</th>\n",
       "      <th>Volume</th>\n",
       "    </tr>\n",
       "  </thead>\n",
       "  <tbody>\n",
       "    <tr>\n",
       "      <th>0</th>\n",
       "      <td>2014-09-17</td>\n",
       "      <td>465.864014</td>\n",
       "      <td>468.174011</td>\n",
       "      <td>452.421997</td>\n",
       "      <td>457.334015</td>\n",
       "      <td>21056800.0</td>\n",
       "    </tr>\n",
       "    <tr>\n",
       "      <th>1</th>\n",
       "      <td>2014-09-18</td>\n",
       "      <td>456.859985</td>\n",
       "      <td>456.859985</td>\n",
       "      <td>413.104004</td>\n",
       "      <td>424.440002</td>\n",
       "      <td>34483200.0</td>\n",
       "    </tr>\n",
       "    <tr>\n",
       "      <th>2</th>\n",
       "      <td>2014-09-19</td>\n",
       "      <td>424.102997</td>\n",
       "      <td>427.834991</td>\n",
       "      <td>384.532013</td>\n",
       "      <td>394.795990</td>\n",
       "      <td>37919700.0</td>\n",
       "    </tr>\n",
       "    <tr>\n",
       "      <th>3</th>\n",
       "      <td>2014-09-20</td>\n",
       "      <td>394.673004</td>\n",
       "      <td>423.295990</td>\n",
       "      <td>389.882996</td>\n",
       "      <td>408.903992</td>\n",
       "      <td>36863600.0</td>\n",
       "    </tr>\n",
       "    <tr>\n",
       "      <th>4</th>\n",
       "      <td>2014-09-21</td>\n",
       "      <td>408.084991</td>\n",
       "      <td>412.425995</td>\n",
       "      <td>393.181000</td>\n",
       "      <td>398.821014</td>\n",
       "      <td>26580100.0</td>\n",
       "    </tr>\n",
       "  </tbody>\n",
       "</table>\n",
       "</div>"
      ],
      "text/plain": [
       "         Date        Open        High         Low       Close      Volume\n",
       "0  2014-09-17  465.864014  468.174011  452.421997  457.334015  21056800.0\n",
       "1  2014-09-18  456.859985  456.859985  413.104004  424.440002  34483200.0\n",
       "2  2014-09-19  424.102997  427.834991  384.532013  394.795990  37919700.0\n",
       "3  2014-09-20  394.673004  423.295990  389.882996  408.903992  36863600.0\n",
       "4  2014-09-21  408.084991  412.425995  393.181000  398.821014  26580100.0"
      ]
     },
     "execution_count": 49,
     "metadata": {},
     "output_type": "execute_result"
    },
    {
     "data": {
      "image/png": "[encoded data removed]",
      "text/plain": [
       "<Figure size 432x288 with 1 Axes>"
      ]
     },
     "metadata": {
      "needs_background": "light"
     },
     "output_type": "display_data"
    }
   ],
   "source": [
    "btc_data =pd.read_csv(Path(\"./Resources/BTC-USD.csv\"))\n",
    "display(btc_data.plot(x=\"Date\", y=\"Close\", rot = 45))\n",
    "btc_data.drop(columns = \"Adj Close\", inplace =True)\n",
    "btc_data.head()\n",
    "\n",
    "# btc_sma = btc_data[\"Close\"].rolling(window = 60).mean().dropna()\n",
    "# btc_sma.plot()"
   ]
  },
  {
   "cell_type": "code",
   "execution_count": 50,
   "id": "f6a8e890-46f9-4dfd-a333-2bf733f0bd4b",
   "metadata": {},
   "outputs": [
    {
     "data": {
      "text/html": [
       "<div>\n",
       "<style scoped>\n",
       "    .dataframe tbody tr th:only-of-type {\n",
       "        vertical-align: middle;\n",
       "    }\n",
       "\n",
       "    .dataframe tbody tr th {\n",
       "        vertical-align: top;\n",
       "    }\n",
       "\n",
       "    .dataframe thead th {\n",
       "        text-align: right;\n",
       "    }\n",
       "</style>\n",
       "<table border=\"1\" class=\"dataframe\">\n",
       "  <thead>\n",
       "    <tr style=\"text-align: right;\">\n",
       "      <th></th>\n",
       "      <th>Date</th>\n",
       "      <th>Open</th>\n",
       "      <th>High</th>\n",
       "      <th>Low</th>\n",
       "      <th>Close</th>\n",
       "      <th>Volume</th>\n",
       "      <th>pct_change</th>\n",
       "    </tr>\n",
       "  </thead>\n",
       "  <tbody>\n",
       "    <tr>\n",
       "      <th>1</th>\n",
       "      <td>2014-09-18</td>\n",
       "      <td>456.859985</td>\n",
       "      <td>456.859985</td>\n",
       "      <td>413.104004</td>\n",
       "      <td>424.440002</td>\n",
       "      <td>34483200.0</td>\n",
       "      <td>-0.071926</td>\n",
       "    </tr>\n",
       "    <tr>\n",
       "      <th>2</th>\n",
       "      <td>2014-09-19</td>\n",
       "      <td>424.102997</td>\n",
       "      <td>427.834991</td>\n",
       "      <td>384.532013</td>\n",
       "      <td>394.795990</td>\n",
       "      <td>37919700.0</td>\n",
       "      <td>-0.069843</td>\n",
       "    </tr>\n",
       "    <tr>\n",
       "      <th>3</th>\n",
       "      <td>2014-09-20</td>\n",
       "      <td>394.673004</td>\n",
       "      <td>423.295990</td>\n",
       "      <td>389.882996</td>\n",
       "      <td>408.903992</td>\n",
       "      <td>36863600.0</td>\n",
       "      <td>0.035735</td>\n",
       "    </tr>\n",
       "    <tr>\n",
       "      <th>4</th>\n",
       "      <td>2014-09-21</td>\n",
       "      <td>408.084991</td>\n",
       "      <td>412.425995</td>\n",
       "      <td>393.181000</td>\n",
       "      <td>398.821014</td>\n",
       "      <td>26580100.0</td>\n",
       "      <td>-0.024659</td>\n",
       "    </tr>\n",
       "    <tr>\n",
       "      <th>5</th>\n",
       "      <td>2014-09-22</td>\n",
       "      <td>399.100006</td>\n",
       "      <td>406.915985</td>\n",
       "      <td>397.130005</td>\n",
       "      <td>402.152008</td>\n",
       "      <td>24127600.0</td>\n",
       "      <td>0.008352</td>\n",
       "    </tr>\n",
       "  </tbody>\n",
       "</table>\n",
       "</div>"
      ],
      "text/plain": [
       "         Date        Open        High         Low       Close      Volume  \\\n",
       "1  2014-09-18  456.859985  456.859985  413.104004  424.440002  34483200.0   \n",
       "2  2014-09-19  424.102997  427.834991  384.532013  394.795990  37919700.0   \n",
       "3  2014-09-20  394.673004  423.295990  389.882996  408.903992  36863600.0   \n",
       "4  2014-09-21  408.084991  412.425995  393.181000  398.821014  26580100.0   \n",
       "5  2014-09-22  399.100006  406.915985  397.130005  402.152008  24127600.0   \n",
       "\n",
       "   pct_change  \n",
       "1   -0.071926  \n",
       "2   -0.069843  \n",
       "3    0.035735  \n",
       "4   -0.024659  \n",
       "5    0.008352  "
      ]
     },
     "metadata": {},
     "output_type": "display_data"
    },
    {
     "data": {
      "text/plain": [
       "count    2598.000000\n",
       "mean        0.002658\n",
       "std         0.039113\n",
       "min        -0.371695\n",
       "25%        -0.012831\n",
       "50%         0.002032\n",
       "75%         0.018448\n",
       "max         0.252472\n",
       "Name: pct_change, dtype: float64"
      ]
     },
     "metadata": {},
     "output_type": "display_data"
    },
    {
     "data": {
      "text/plain": [
       "<AxesSubplot:ylabel='Frequency'>"
      ]
     },
     "execution_count": 50,
     "metadata": {},
     "output_type": "execute_result"
    },
    {
     "data": {
      "image/png": "[encoded data removed]",
      "text/plain": [
       "<Figure size 432x288 with 1 Axes>"
      ]
     },
     "metadata": {
      "needs_background": "light"
     },
     "output_type": "display_data"
    }
   ],
   "source": [
    "btc_data_pct = btc_data\n",
    "btc_data_pct[\"pct_change\"] = btc_data[\"Close\"].pct_change()\n",
    "btc_data_pct.dropna(inplace = True)\n",
    "display(btc_data_pct.head())\n",
    "\n",
    "display(btc_data_pct[\"pct_change\"].describe())\n",
    "btc_data_pct[\"pct_change\"].plot.hist()\n",
    "\n",
    "#This does not look like a normal distribution so I do not recommend a Monte Carlo Simulation?"
   ]
  },
  {
   "cell_type": "markdown",
   "id": "0222797b-bf9c-476c-b239-c8ff4d2c29fe",
   "metadata": {},
   "source": [
    "### Remember, first time running this cell, uncomment out the `btc_data = pd.concat({'BTC': btc_data}, axis = 1)` line. It adds on an extra index so that the MC simulation works appropiately. Uncomment out after usage. Usually Alpaca returns dataframes with multi-index layers and the MC code was written to accomodate that but if the dataframe came from somewhere else than Alpaca (like this BitCoin csv right here), this line of code could be used to add on an extra index."
   ]
  },
  {
   "cell_type": "code",
   "execution_count": 52,
   "id": "62c92b35-fa7c-4afd-af32-9e935ec7bb42",
   "metadata": {},
   "outputs": [
    {
     "data": {
      "text/html": [
       "<div>\n",
       "<style scoped>\n",
       "    .dataframe tbody tr th:only-of-type {\n",
       "        vertical-align: middle;\n",
       "    }\n",
       "\n",
       "    .dataframe tbody tr th {\n",
       "        vertical-align: top;\n",
       "    }\n",
       "\n",
       "    .dataframe thead tr th {\n",
       "        text-align: left;\n",
       "    }\n",
       "</style>\n",
       "<table border=\"1\" class=\"dataframe\">\n",
       "  <thead>\n",
       "    <tr>\n",
       "      <th></th>\n",
       "      <th colspan=\"7\" halign=\"left\">BTC</th>\n",
       "    </tr>\n",
       "    <tr>\n",
       "      <th></th>\n",
       "      <th>date</th>\n",
       "      <th>open</th>\n",
       "      <th>high</th>\n",
       "      <th>low</th>\n",
       "      <th>close</th>\n",
       "      <th>volume</th>\n",
       "      <th>pct_change</th>\n",
       "    </tr>\n",
       "  </thead>\n",
       "  <tbody>\n",
       "    <tr>\n",
       "      <th>1</th>\n",
       "      <td>2014-09-18</td>\n",
       "      <td>456.859985</td>\n",
       "      <td>456.859985</td>\n",
       "      <td>413.104004</td>\n",
       "      <td>424.440002</td>\n",
       "      <td>34483200.0</td>\n",
       "      <td>-0.071926</td>\n",
       "    </tr>\n",
       "    <tr>\n",
       "      <th>2</th>\n",
       "      <td>2014-09-19</td>\n",
       "      <td>424.102997</td>\n",
       "      <td>427.834991</td>\n",
       "      <td>384.532013</td>\n",
       "      <td>394.795990</td>\n",
       "      <td>37919700.0</td>\n",
       "      <td>-0.069843</td>\n",
       "    </tr>\n",
       "    <tr>\n",
       "      <th>3</th>\n",
       "      <td>2014-09-20</td>\n",
       "      <td>394.673004</td>\n",
       "      <td>423.295990</td>\n",
       "      <td>389.882996</td>\n",
       "      <td>408.903992</td>\n",
       "      <td>36863600.0</td>\n",
       "      <td>0.035735</td>\n",
       "    </tr>\n",
       "    <tr>\n",
       "      <th>4</th>\n",
       "      <td>2014-09-21</td>\n",
       "      <td>408.084991</td>\n",
       "      <td>412.425995</td>\n",
       "      <td>393.181000</td>\n",
       "      <td>398.821014</td>\n",
       "      <td>26580100.0</td>\n",
       "      <td>-0.024659</td>\n",
       "    </tr>\n",
       "    <tr>\n",
       "      <th>5</th>\n",
       "      <td>2014-09-22</td>\n",
       "      <td>399.100006</td>\n",
       "      <td>406.915985</td>\n",
       "      <td>397.130005</td>\n",
       "      <td>402.152008</td>\n",
       "      <td>24127600.0</td>\n",
       "      <td>0.008352</td>\n",
       "    </tr>\n",
       "  </tbody>\n",
       "</table>\n",
       "</div>"
      ],
      "text/plain": [
       "          BTC                                                              \\\n",
       "         date        open        high         low       close      volume   \n",
       "1  2014-09-18  456.859985  456.859985  413.104004  424.440002  34483200.0   \n",
       "2  2014-09-19  424.102997  427.834991  384.532013  394.795990  37919700.0   \n",
       "3  2014-09-20  394.673004  423.295990  389.882996  408.903992  36863600.0   \n",
       "4  2014-09-21  408.084991  412.425995  393.181000  398.821014  26580100.0   \n",
       "5  2014-09-22  399.100006  406.915985  397.130005  402.152008  24127600.0   \n",
       "\n",
       "              \n",
       "  pct_change  \n",
       "1  -0.071926  \n",
       "2  -0.069843  \n",
       "3   0.035735  \n",
       "4  -0.024659  \n",
       "5   0.008352  "
      ]
     },
     "execution_count": 52,
     "metadata": {},
     "output_type": "execute_result"
    }
   ],
   "source": [
    "btc_data.columns = btc_data.columns.str.lower()\n",
    "# btc_data = pd.concat({'BTC': btc_data}, axis = 1)\n",
    "#Comment this out because there already is an additional level\n",
    "\n",
    "btc_data.head()\n"
   ]
  },
  {
   "cell_type": "code",
   "execution_count": 58,
   "id": "19007668-260f-438b-b7f5-b057837620ad",
   "metadata": {},
   "outputs": [
    {
     "data": {
      "text/html": [
       "<div>\n",
       "<style scoped>\n",
       "    .dataframe tbody tr th:only-of-type {\n",
       "        vertical-align: middle;\n",
       "    }\n",
       "\n",
       "    .dataframe tbody tr th {\n",
       "        vertical-align: top;\n",
       "    }\n",
       "\n",
       "    .dataframe thead tr th {\n",
       "        text-align: left;\n",
       "    }\n",
       "</style>\n",
       "<table border=\"1\" class=\"dataframe\">\n",
       "  <thead>\n",
       "    <tr>\n",
       "      <th></th>\n",
       "      <th colspan=\"8\" halign=\"left\">BTC</th>\n",
       "    </tr>\n",
       "    <tr>\n",
       "      <th></th>\n",
       "      <th>date</th>\n",
       "      <th>open</th>\n",
       "      <th>high</th>\n",
       "      <th>low</th>\n",
       "      <th>close</th>\n",
       "      <th>volume</th>\n",
       "      <th>pct_change</th>\n",
       "      <th>daily_return</th>\n",
       "    </tr>\n",
       "  </thead>\n",
       "  <tbody>\n",
       "    <tr>\n",
       "      <th>1</th>\n",
       "      <td>2014-09-18</td>\n",
       "      <td>456.859985</td>\n",
       "      <td>456.859985</td>\n",
       "      <td>413.104004</td>\n",
       "      <td>424.440002</td>\n",
       "      <td>34483200.0</td>\n",
       "      <td>-0.071926</td>\n",
       "      <td>NaN</td>\n",
       "    </tr>\n",
       "    <tr>\n",
       "      <th>2</th>\n",
       "      <td>2014-09-19</td>\n",
       "      <td>424.102997</td>\n",
       "      <td>427.834991</td>\n",
       "      <td>384.532013</td>\n",
       "      <td>394.795990</td>\n",
       "      <td>37919700.0</td>\n",
       "      <td>-0.069843</td>\n",
       "      <td>-0.069843</td>\n",
       "    </tr>\n",
       "    <tr>\n",
       "      <th>3</th>\n",
       "      <td>2014-09-20</td>\n",
       "      <td>394.673004</td>\n",
       "      <td>423.295990</td>\n",
       "      <td>389.882996</td>\n",
       "      <td>408.903992</td>\n",
       "      <td>36863600.0</td>\n",
       "      <td>0.035735</td>\n",
       "      <td>0.035735</td>\n",
       "    </tr>\n",
       "    <tr>\n",
       "      <th>4</th>\n",
       "      <td>2014-09-21</td>\n",
       "      <td>408.084991</td>\n",
       "      <td>412.425995</td>\n",
       "      <td>393.181000</td>\n",
       "      <td>398.821014</td>\n",
       "      <td>26580100.0</td>\n",
       "      <td>-0.024659</td>\n",
       "      <td>-0.024659</td>\n",
       "    </tr>\n",
       "    <tr>\n",
       "      <th>5</th>\n",
       "      <td>2014-09-22</td>\n",
       "      <td>399.100006</td>\n",
       "      <td>406.915985</td>\n",
       "      <td>397.130005</td>\n",
       "      <td>402.152008</td>\n",
       "      <td>24127600.0</td>\n",
       "      <td>0.008352</td>\n",
       "      <td>0.008352</td>\n",
       "    </tr>\n",
       "  </tbody>\n",
       "</table>\n",
       "</div>"
      ],
      "text/plain": [
       "          BTC                                                              \\\n",
       "         date        open        high         low       close      volume   \n",
       "1  2014-09-18  456.859985  456.859985  413.104004  424.440002  34483200.0   \n",
       "2  2014-09-19  424.102997  427.834991  384.532013  394.795990  37919700.0   \n",
       "3  2014-09-20  394.673004  423.295990  389.882996  408.903992  36863600.0   \n",
       "4  2014-09-21  408.084991  412.425995  393.181000  398.821014  26580100.0   \n",
       "5  2014-09-22  399.100006  406.915985  397.130005  402.152008  24127600.0   \n",
       "\n",
       "                           \n",
       "  pct_change daily_return  \n",
       "1  -0.071926          NaN  \n",
       "2  -0.069843    -0.069843  \n",
       "3   0.035735     0.035735  \n",
       "4  -0.024659    -0.024659  \n",
       "5   0.008352     0.008352  "
      ]
     },
     "execution_count": 58,
     "metadata": {},
     "output_type": "execute_result"
    }
   ],
   "source": [
    "MC_ten_year_btc = MCSimulation(portfolio_data = btc_data, \n",
    "                      num_simulation= 1000,\n",
    "                      num_trading_days= 252*10)\n",
    "MC_ten_year_btc.portfolio_data.head()\n"
   ]
  },
  {
   "cell_type": "code",
   "execution_count": 59,
   "id": "8ac26a87-f595-476c-baba-69cf675cab36",
   "metadata": {},
   "outputs": [],
   "source": [
    "MC_simulated_return = MC_ten_year_btc.calc_cumulative_return()"
   ]
  },
  {
   "cell_type": "code",
   "execution_count": 29,
   "id": "1d9302ed-297c-42ba-8e4b-0488e59dc1f8",
   "metadata": {},
   "outputs": [
    {
     "data": {
      "text/plain": [
       "<AxesSubplot:title={'center':'1000 Simulations of Cumulative Portfolio Return Trajectories Over the Next 2520 Trading Days.'}>"
      ]
     },
     "execution_count": 29,
     "metadata": {},
     "output_type": "execute_result"
    },
    {
     "data": {
      "image/png": "[encoded data removed]",
      "text/plain": [
       "<Figure size 432x288 with 1 Axes>"
      ]
     },
     "metadata": {
      "needs_background": "light"
     },
     "output_type": "display_data"
    }
   ],
   "source": [
    "MC_ten_year_btc.plot_simulation()"
   ]
  },
  {
   "cell_type": "code",
   "execution_count": 33,
   "id": "7a414a68-e274-443c-b436-3b4b56b04cd9",
   "metadata": {},
   "outputs": [
    {
     "data": {
      "text/plain": [
       "<AxesSubplot:title={'center':'Distribution of Final Cumuluative Returns Across All 1000 Simulations'}, ylabel='Frequency'>"
      ]
     },
     "execution_count": 33,
     "metadata": {},
     "output_type": "execute_result"
    },
    {
     "data": {
      "image/png": "[encoded data removed]",
      "text/plain": [
       "<Figure size 432x288 with 1 Axes>"
      ]
     },
     "metadata": {
      "needs_background": "light"
     },
     "output_type": "display_data"
    }
   ],
   "source": [
    "MC_ten_year_btc.plot_distribution()"
   ]
  },
  {
   "cell_type": "code",
   "execution_count": 32,
   "id": "31c739c7-93fb-4b84-a755-8a8829a7c428",
   "metadata": {},
   "outputs": [
    {
     "data": {
      "text/plain": [
       "count            1000.000\n",
       "mean              752.129\n",
       "std              2350.361\n",
       "min                 0.347\n",
       "25%                35.758\n",
       "50%               111.883\n",
       "75%               487.523\n",
       "max             31691.961\n",
       "95% CI Lower        2.871\n",
       "95% CI Upper     6170.672\n",
       "Name: 2520, dtype: float64"
      ]
     },
     "execution_count": 32,
     "metadata": {},
     "output_type": "execute_result"
    }
   ],
   "source": [
    "MC_ten_year_summary_statistics = round(MC_ten_year_btc.summarize_cumulative_return(), 3)\n",
    "MC_ten_year_summary_statistics"
   ]
  },
  {
   "cell_type": "code",
   "execution_count": 46,
   "id": "9bf734f9-f3ff-42f9-a2a8-20770a3cad98",
   "metadata": {},
   "outputs": [
    {
     "data": {
      "text/html": [
       "<div>\n",
       "<style scoped>\n",
       "    .dataframe tbody tr th:only-of-type {\n",
       "        vertical-align: middle;\n",
       "    }\n",
       "\n",
       "    .dataframe tbody tr th {\n",
       "        vertical-align: top;\n",
       "    }\n",
       "\n",
       "    .dataframe thead th {\n",
       "        text-align: right;\n",
       "    }\n",
       "</style>\n",
       "<table border=\"1\" class=\"dataframe\">\n",
       "  <thead>\n",
       "    <tr style=\"text-align: right;\">\n",
       "      <th></th>\n",
       "      <th>0</th>\n",
       "      <th>1</th>\n",
       "      <th>2</th>\n",
       "      <th>3</th>\n",
       "      <th>4</th>\n",
       "      <th>5</th>\n",
       "      <th>6</th>\n",
       "      <th>7</th>\n",
       "      <th>8</th>\n",
       "      <th>9</th>\n",
       "      <th>...</th>\n",
       "      <th>990</th>\n",
       "      <th>991</th>\n",
       "      <th>992</th>\n",
       "      <th>993</th>\n",
       "      <th>994</th>\n",
       "      <th>995</th>\n",
       "      <th>996</th>\n",
       "      <th>997</th>\n",
       "      <th>998</th>\n",
       "      <th>999</th>\n",
       "    </tr>\n",
       "  </thead>\n",
       "  <tbody>\n",
       "    <tr>\n",
       "      <th>0</th>\n",
       "      <td>1.000000</td>\n",
       "      <td>1.000000</td>\n",
       "      <td>1.000000</td>\n",
       "      <td>1.000000</td>\n",
       "      <td>1.000000</td>\n",
       "      <td>1.000000</td>\n",
       "      <td>1.000000</td>\n",
       "      <td>1.000000</td>\n",
       "      <td>1.000000</td>\n",
       "      <td>1.000000</td>\n",
       "      <td>...</td>\n",
       "      <td>1.000000</td>\n",
       "      <td>1.000000</td>\n",
       "      <td>1.000000</td>\n",
       "      <td>1.000000</td>\n",
       "      <td>1.000000</td>\n",
       "      <td>1.000000</td>\n",
       "      <td>1.000000</td>\n",
       "      <td>1.000000</td>\n",
       "      <td>1.000000</td>\n",
       "      <td>1.000000</td>\n",
       "    </tr>\n",
       "    <tr>\n",
       "      <th>1</th>\n",
       "      <td>1.027094</td>\n",
       "      <td>1.052963</td>\n",
       "      <td>1.056751</td>\n",
       "      <td>0.896137</td>\n",
       "      <td>1.023571</td>\n",
       "      <td>0.950878</td>\n",
       "      <td>1.033804</td>\n",
       "      <td>1.018071</td>\n",
       "      <td>1.021332</td>\n",
       "      <td>0.935363</td>\n",
       "      <td>...</td>\n",
       "      <td>1.086245</td>\n",
       "      <td>0.975323</td>\n",
       "      <td>1.001891</td>\n",
       "      <td>1.020002</td>\n",
       "      <td>1.007687</td>\n",
       "      <td>1.071932</td>\n",
       "      <td>0.957707</td>\n",
       "      <td>0.982351</td>\n",
       "      <td>0.977594</td>\n",
       "      <td>0.987479</td>\n",
       "    </tr>\n",
       "    <tr>\n",
       "      <th>2</th>\n",
       "      <td>1.002968</td>\n",
       "      <td>0.992267</td>\n",
       "      <td>1.103348</td>\n",
       "      <td>0.907347</td>\n",
       "      <td>1.024066</td>\n",
       "      <td>0.943012</td>\n",
       "      <td>1.133211</td>\n",
       "      <td>1.132575</td>\n",
       "      <td>1.022322</td>\n",
       "      <td>0.893617</td>\n",
       "      <td>...</td>\n",
       "      <td>1.081391</td>\n",
       "      <td>0.912875</td>\n",
       "      <td>1.018159</td>\n",
       "      <td>1.077351</td>\n",
       "      <td>0.983205</td>\n",
       "      <td>1.035380</td>\n",
       "      <td>0.957292</td>\n",
       "      <td>0.962013</td>\n",
       "      <td>0.949485</td>\n",
       "      <td>0.999466</td>\n",
       "    </tr>\n",
       "    <tr>\n",
       "      <th>3</th>\n",
       "      <td>0.979292</td>\n",
       "      <td>0.994599</td>\n",
       "      <td>1.106130</td>\n",
       "      <td>0.944035</td>\n",
       "      <td>0.986449</td>\n",
       "      <td>0.974084</td>\n",
       "      <td>1.104358</td>\n",
       "      <td>1.177322</td>\n",
       "      <td>0.961947</td>\n",
       "      <td>0.940558</td>\n",
       "      <td>...</td>\n",
       "      <td>1.054866</td>\n",
       "      <td>0.965280</td>\n",
       "      <td>1.022824</td>\n",
       "      <td>1.042112</td>\n",
       "      <td>0.956428</td>\n",
       "      <td>1.083953</td>\n",
       "      <td>0.979126</td>\n",
       "      <td>0.992043</td>\n",
       "      <td>0.912803</td>\n",
       "      <td>1.044270</td>\n",
       "    </tr>\n",
       "    <tr>\n",
       "      <th>4</th>\n",
       "      <td>1.013256</td>\n",
       "      <td>0.964709</td>\n",
       "      <td>1.126199</td>\n",
       "      <td>0.910831</td>\n",
       "      <td>0.954972</td>\n",
       "      <td>1.009901</td>\n",
       "      <td>1.112106</td>\n",
       "      <td>1.232231</td>\n",
       "      <td>0.974194</td>\n",
       "      <td>0.930621</td>\n",
       "      <td>...</td>\n",
       "      <td>1.053455</td>\n",
       "      <td>0.940655</td>\n",
       "      <td>0.969562</td>\n",
       "      <td>1.102385</td>\n",
       "      <td>0.922080</td>\n",
       "      <td>1.105703</td>\n",
       "      <td>0.948832</td>\n",
       "      <td>0.996824</td>\n",
       "      <td>0.965823</td>\n",
       "      <td>1.065726</td>\n",
       "    </tr>\n",
       "  </tbody>\n",
       "</table>\n",
       "<p>5 rows × 1000 columns</p>\n",
       "</div>"
      ],
      "text/plain": [
       "        0         1         2         3         4         5         6    \\\n",
       "0  1.000000  1.000000  1.000000  1.000000  1.000000  1.000000  1.000000   \n",
       "1  1.027094  1.052963  1.056751  0.896137  1.023571  0.950878  1.033804   \n",
       "2  1.002968  0.992267  1.103348  0.907347  1.024066  0.943012  1.133211   \n",
       "3  0.979292  0.994599  1.106130  0.944035  0.986449  0.974084  1.104358   \n",
       "4  1.013256  0.964709  1.126199  0.910831  0.954972  1.009901  1.112106   \n",
       "\n",
       "        7         8         9    ...       990       991       992       993  \\\n",
       "0  1.000000  1.000000  1.000000  ...  1.000000  1.000000  1.000000  1.000000   \n",
       "1  1.018071  1.021332  0.935363  ...  1.086245  0.975323  1.001891  1.020002   \n",
       "2  1.132575  1.022322  0.893617  ...  1.081391  0.912875  1.018159  1.077351   \n",
       "3  1.177322  0.961947  0.940558  ...  1.054866  0.965280  1.022824  1.042112   \n",
       "4  1.232231  0.974194  0.930621  ...  1.053455  0.940655  0.969562  1.102385   \n",
       "\n",
       "        994       995       996       997       998       999  \n",
       "0  1.000000  1.000000  1.000000  1.000000  1.000000  1.000000  \n",
       "1  1.007687  1.071932  0.957707  0.982351  0.977594  0.987479  \n",
       "2  0.983205  1.035380  0.957292  0.962013  0.949485  0.999466  \n",
       "3  0.956428  1.083953  0.979126  0.992043  0.912803  1.044270  \n",
       "4  0.922080  1.105703  0.948832  0.996824  0.965823  1.065726  \n",
       "\n",
       "[5 rows x 1000 columns]"
      ]
     },
     "metadata": {},
     "output_type": "display_data"
    },
    {
     "data": {
      "text/plain": [
       "<AxesSubplot:title={'center':'Average of 1000 Simulations of Cumulative Portfolio Return Trajectories Over the Next 2520 Trading Days'}, ylabel='Return'>"
      ]
     },
     "execution_count": 46,
     "metadata": {},
     "output_type": "execute_result"
    },
    {
     "data": {
      "image/png": "[encoded data removed]",
      "text/plain": [
       "<Figure size 432x288 with 1 Axes>"
      ]
     },
     "metadata": {
      "needs_background": "light"
     },
     "output_type": "display_data"
    }
   ],
   "source": [
    "display(MC_simulated_return.head())\n",
    "MC_single_graph = MC_simulated_return.mean(axis = 1)\n",
    "MC_single_graph.plot(title  =\"Average of 1000 Simulations of Cumulative Portfolio Return Trajectories Over the Next 2520 Trading Days\", ylabel = \"Return\")"
   ]
  },
  {
   "cell_type": "markdown",
   "id": "d19aabe2-0a4b-47d1-9926-eaeb31fd5805",
   "metadata": {},
   "source": [
    "## Marks the end of the rambling/unimportant stuff\n",
    "---------------------------------------------------"
   ]
  },
  {
   "cell_type": "markdown",
   "id": "50ca90e0-cae6-494a-a372-862095b9a21e",
   "metadata": {},
   "source": [
    "Option 2: Take MonteCarlo out each individual year to find the cumulative return to find the approximate pricing of the BTC by the end of the X-th year.\n",
    "\n",
    "However, what is important is that we take the dividend gained from our stock and continue to compound it into Bitcoin every year. The question is if we use the 95% interval range every year (example. 2.871-6170.672 and use different calculations for both--> create a list of 95% uppers and 95% lowers and spread out from there) to calculate the gains.\n",
    "or if we use ARIMA (auto regressive integrated moving average) to predict crpyto currency *exclusively* and then use MonteCarlo for the Stock.\n"
   ]
  },
  {
   "cell_type": "markdown",
   "id": "11f95bc9-f2d7-4315-b8f7-1b75fbb9601b",
   "metadata": {},
   "source": [
    "For Repeating MC only --> Stock"
   ]
  },
  {
   "cell_type": "code",
   "execution_count": 62,
   "id": "dc39cacd-3f3e-4457-99dc-0e019f9ca375",
   "metadata": {},
   "outputs": [
    {
     "data": {
      "text/html": [
       "<div>\n",
       "<style scoped>\n",
       "    .dataframe tbody tr th:only-of-type {\n",
       "        vertical-align: middle;\n",
       "    }\n",
       "\n",
       "    .dataframe tbody tr th {\n",
       "        vertical-align: top;\n",
       "    }\n",
       "\n",
       "    .dataframe thead tr th {\n",
       "        text-align: left;\n",
       "    }\n",
       "\n",
       "    .dataframe thead tr:last-of-type th {\n",
       "        text-align: right;\n",
       "    }\n",
       "</style>\n",
       "<table border=\"1\" class=\"dataframe\">\n",
       "  <thead>\n",
       "    <tr>\n",
       "      <th></th>\n",
       "      <th colspan=\"5\" halign=\"left\">MSFT</th>\n",
       "    </tr>\n",
       "    <tr>\n",
       "      <th></th>\n",
       "      <th>open</th>\n",
       "      <th>high</th>\n",
       "      <th>low</th>\n",
       "      <th>close</th>\n",
       "      <th>volume</th>\n",
       "    </tr>\n",
       "    <tr>\n",
       "      <th>time</th>\n",
       "      <th></th>\n",
       "      <th></th>\n",
       "      <th></th>\n",
       "      <th></th>\n",
       "      <th></th>\n",
       "    </tr>\n",
       "  </thead>\n",
       "  <tbody>\n",
       "    <tr>\n",
       "      <th>2017-11-16 00:00:00-05:00</th>\n",
       "      <td>83.10</td>\n",
       "      <td>83.42</td>\n",
       "      <td>82.9400</td>\n",
       "      <td>83.19</td>\n",
       "      <td>16201819</td>\n",
       "    </tr>\n",
       "    <tr>\n",
       "      <th>2017-11-17 00:00:00-05:00</th>\n",
       "      <td>83.12</td>\n",
       "      <td>83.12</td>\n",
       "      <td>82.2400</td>\n",
       "      <td>82.37</td>\n",
       "      <td>17427406</td>\n",
       "    </tr>\n",
       "    <tr>\n",
       "      <th>2017-11-20 00:00:00-05:00</th>\n",
       "      <td>82.40</td>\n",
       "      <td>82.59</td>\n",
       "      <td>82.2500</td>\n",
       "      <td>82.54</td>\n",
       "      <td>11458697</td>\n",
       "    </tr>\n",
       "    <tr>\n",
       "      <th>2017-11-21 00:00:00-05:00</th>\n",
       "      <td>82.74</td>\n",
       "      <td>83.84</td>\n",
       "      <td>82.7400</td>\n",
       "      <td>83.73</td>\n",
       "      <td>14281714</td>\n",
       "    </tr>\n",
       "    <tr>\n",
       "      <th>2017-11-22 00:00:00-05:00</th>\n",
       "      <td>83.83</td>\n",
       "      <td>83.90</td>\n",
       "      <td>83.0400</td>\n",
       "      <td>83.09</td>\n",
       "      <td>12488334</td>\n",
       "    </tr>\n",
       "    <tr>\n",
       "      <th>...</th>\n",
       "      <td>...</td>\n",
       "      <td>...</td>\n",
       "      <td>...</td>\n",
       "      <td>...</td>\n",
       "      <td>...</td>\n",
       "    </tr>\n",
       "    <tr>\n",
       "      <th>2021-11-01 00:00:00-04:00</th>\n",
       "      <td>331.40</td>\n",
       "      <td>331.49</td>\n",
       "      <td>326.3700</td>\n",
       "      <td>329.38</td>\n",
       "      <td>22920008</td>\n",
       "    </tr>\n",
       "    <tr>\n",
       "      <th>2021-11-02 00:00:00-04:00</th>\n",
       "      <td>330.21</td>\n",
       "      <td>333.45</td>\n",
       "      <td>330.0000</td>\n",
       "      <td>333.26</td>\n",
       "      <td>21366225</td>\n",
       "    </tr>\n",
       "    <tr>\n",
       "      <th>2021-11-03 00:00:00-04:00</th>\n",
       "      <td>334.15</td>\n",
       "      <td>334.90</td>\n",
       "      <td>330.6500</td>\n",
       "      <td>333.98</td>\n",
       "      <td>16800906</td>\n",
       "    </tr>\n",
       "    <tr>\n",
       "      <th>2021-11-04 00:00:00-04:00</th>\n",
       "      <td>333.07</td>\n",
       "      <td>336.54</td>\n",
       "      <td>329.5100</td>\n",
       "      <td>336.46</td>\n",
       "      <td>19740179</td>\n",
       "    </tr>\n",
       "    <tr>\n",
       "      <th>2021-11-05 00:00:00-04:00</th>\n",
       "      <td>338.60</td>\n",
       "      <td>338.86</td>\n",
       "      <td>334.4217</td>\n",
       "      <td>336.11</td>\n",
       "      <td>18428508</td>\n",
       "    </tr>\n",
       "  </tbody>\n",
       "</table>\n",
       "<p>1000 rows × 5 columns</p>\n",
       "</div>"
      ],
      "text/plain": [
       "                             MSFT                                    \n",
       "                             open    high       low   close    volume\n",
       "time                                                                 \n",
       "2017-11-16 00:00:00-05:00   83.10   83.42   82.9400   83.19  16201819\n",
       "2017-11-17 00:00:00-05:00   83.12   83.12   82.2400   82.37  17427406\n",
       "2017-11-20 00:00:00-05:00   82.40   82.59   82.2500   82.54  11458697\n",
       "2017-11-21 00:00:00-05:00   82.74   83.84   82.7400   83.73  14281714\n",
       "2017-11-22 00:00:00-05:00   83.83   83.90   83.0400   83.09  12488334\n",
       "...                           ...     ...       ...     ...       ...\n",
       "2021-11-01 00:00:00-04:00  331.40  331.49  326.3700  329.38  22920008\n",
       "2021-11-02 00:00:00-04:00  330.21  333.45  330.0000  333.26  21366225\n",
       "2021-11-03 00:00:00-04:00  334.15  334.90  330.6500  333.98  16800906\n",
       "2021-11-04 00:00:00-04:00  333.07  336.54  329.5100  336.46  19740179\n",
       "2021-11-05 00:00:00-04:00  338.60  338.86  334.4217  336.11  18428508\n",
       "\n",
       "[1000 rows x 5 columns]"
      ]
     },
     "execution_count": 62,
     "metadata": {},
     "output_type": "execute_result"
    }
   ],
   "source": [
    "Upper_Yields = []\n",
    "Lower_Yields = []\n",
    "Means = []\n",
    "\n",
    "currentYear = datetime.datetime.now().year\n",
    "Years = [currentYear]\n",
    "\n",
    "msft_shares = 1\n",
    "multitude_rows = 1000\n",
    "historic_end = pd.to_datetime(\"today\")\n",
    "historic_start = historic_end - np.timedelta64(4,\"Y\")\n",
    "\n",
    "historic_msft_data = alpaca.get_barset(\n",
    "    tickers,\n",
    "    timeframe,\n",
    "    start = historic_start.isoformat(),\n",
    "    end = historic_end.isoformat(),\n",
    "    limit = multitude_rows\n",
    ").df\n",
    "\n",
    "historic_msft_data"
   ]
  },
  {
   "cell_type": "code",
   "execution_count": null,
   "id": "854e0930-6c77-45a3-a115-88c3515c293d",
   "metadata": {},
   "outputs": [],
   "source": [
    "#for x in range(number of years)\n",
    "\n",
    "for x in range(10):\n",
    "    MC_looped_msft = MCSimulation(portfolio_data = historic_msft_data, \n",
    "                      num_simulation= 500,\n",
    "                      num_trading_days= 252*x+1)\n",
    "    MC_summary_stats = MC_looped_msft.summarize_cumulative_return()\n",
    "    Upper_Yields.append(MC_summary_stats[\"95% CI Upper\"])\n",
    "    Lower_Yields.append(MC_summary_stats[\"95% CI Lower\"])\n",
    "    Means.append(MC_summary_stats[\"mean\"])\n",
    "    Years.append(currentYear+(x+1))"
   ]
  },
  {
   "cell_type": "code",
   "execution_count": 65,
   "id": "c9a16463-f493-46ea-abef-219959ee0c3c",
   "metadata": {},
   "outputs": [
    {
     "data": {
      "text/plain": [
       "[0.9664053498340239,\n",
       " 0.8011363486614549,\n",
       " 0.9309003750092444,\n",
       " 1.025605404146758,\n",
       " 1.2001197284441374,\n",
       " 1.71178793029266,\n",
       " 2.0494145255971117,\n",
       " 2.520037828048811,\n",
       " 3.0965992475766573,\n",
       " 4.206943450504849]"
      ]
     },
     "metadata": {},
     "output_type": "display_data"
    },
    {
     "data": {
      "text/plain": [
       "[1.0362741061436076,\n",
       " 2.5018302931556775,\n",
       " 4.699843596938447,\n",
       " 7.200022887095695,\n",
       " 14.039327985252049,\n",
       " 22.472508499719414,\n",
       " 35.522155793865394,\n",
       " 52.258904154792646,\n",
       " 80.77386557954685,\n",
       " 124.9346283012018]"
      ]
     },
     "metadata": {},
     "output_type": "display_data"
    },
    {
     "data": {
      "text/plain": [
       "[1.0019829271143361,\n",
       " 1.4930669645006127,\n",
       " 2.1912882180209756,\n",
       " 3.1563082912289198,\n",
       " 5.0687717744243255,\n",
       " 7.531930955722895,\n",
       " 10.948816302160672,\n",
       " 16.8270627006582,\n",
       " 22.754614614134486,\n",
       " 33.18624057499681]"
      ]
     },
     "metadata": {},
     "output_type": "display_data"
    }
   ],
   "source": [
    "display(Lower_Yields)\n",
    "display(Upper_Yields)\n",
    "display(Means)"
   ]
  },
  {
   "cell_type": "code",
   "execution_count": 1,
   "id": "b9519d9b-9e94-485b-84be-43db8019868c",
   "metadata": {},
   "outputs": [
    {
     "ename": "NameError",
     "evalue": "name 'Upper_Yields' is not defined",
     "output_type": "error",
     "traceback": [
      "\u001b[1;31m---------------------------------------------------------------------------\u001b[0m",
      "\u001b[1;31mNameError\u001b[0m                                 Traceback (most recent call last)",
      "\u001b[1;32m<ipython-input-1-83e61ca3696a>\u001b[0m in \u001b[0;36m<module>\u001b[1;34m\u001b[0m\n\u001b[1;32m----> 1\u001b[1;33m \u001b[0mpotential_upper_price\u001b[0m \u001b[1;33m=\u001b[0m \u001b[1;33m[\u001b[0m\u001b[0melement\u001b[0m \u001b[1;33m*\u001b[0m \u001b[0mhistoric_msft_data\u001b[0m\u001b[1;33m[\u001b[0m\u001b[1;34m\"MSFT\"\u001b[0m\u001b[1;33m]\u001b[0m\u001b[1;33m[\u001b[0m\u001b[1;34m\"close\"\u001b[0m\u001b[1;33m]\u001b[0m\u001b[1;33m[\u001b[0m\u001b[1;33m-\u001b[0m\u001b[1;36m1\u001b[0m\u001b[1;33m]\u001b[0m \u001b[1;32mfor\u001b[0m \u001b[0melement\u001b[0m \u001b[1;32min\u001b[0m \u001b[0mUpper_Yields\u001b[0m\u001b[1;33m]\u001b[0m\u001b[1;33m\u001b[0m\u001b[1;33m\u001b[0m\u001b[0m\n\u001b[0m\u001b[0;32m      2\u001b[0m \u001b[0mpotential_lower_price\u001b[0m \u001b[1;33m=\u001b[0m \u001b[1;33m[\u001b[0m\u001b[0melement\u001b[0m \u001b[1;33m*\u001b[0m \u001b[0mhistoric_msft_data\u001b[0m\u001b[1;33m[\u001b[0m\u001b[1;34m\"MSFT\"\u001b[0m\u001b[1;33m]\u001b[0m\u001b[1;33m[\u001b[0m\u001b[1;34m\"close\"\u001b[0m\u001b[1;33m]\u001b[0m\u001b[1;33m[\u001b[0m\u001b[1;33m-\u001b[0m\u001b[1;36m1\u001b[0m\u001b[1;33m]\u001b[0m \u001b[1;32mfor\u001b[0m \u001b[0melement\u001b[0m \u001b[1;32min\u001b[0m \u001b[0mLower_Yields\u001b[0m\u001b[1;33m]\u001b[0m\u001b[1;33m\u001b[0m\u001b[1;33m\u001b[0m\u001b[0m\n\u001b[0;32m      3\u001b[0m \u001b[0mpotential_mean_price\u001b[0m \u001b[1;33m=\u001b[0m \u001b[1;33m[\u001b[0m\u001b[0melement\u001b[0m \u001b[1;33m*\u001b[0m \u001b[0mhistoric_msft_data\u001b[0m\u001b[1;33m[\u001b[0m\u001b[1;34m\"MSFT\"\u001b[0m\u001b[1;33m]\u001b[0m\u001b[1;33m[\u001b[0m\u001b[1;34m\"close\"\u001b[0m\u001b[1;33m]\u001b[0m\u001b[1;33m[\u001b[0m\u001b[1;33m-\u001b[0m\u001b[1;36m1\u001b[0m\u001b[1;33m]\u001b[0m \u001b[1;32mfor\u001b[0m \u001b[0melement\u001b[0m \u001b[1;32min\u001b[0m \u001b[0mMeans\u001b[0m\u001b[1;33m]\u001b[0m\u001b[1;33m\u001b[0m\u001b[1;33m\u001b[0m\u001b[0m\n\u001b[0;32m      4\u001b[0m \u001b[0mplt\u001b[0m\u001b[1;33m.\u001b[0m\u001b[0mxticks\u001b[0m\u001b[1;33m(\u001b[0m\u001b[0mticks\u001b[0m \u001b[1;33m=\u001b[0m \u001b[1;33m[\u001b[0m\u001b[1;36m0\u001b[0m\u001b[1;33m,\u001b[0m\u001b[1;36m1\u001b[0m\u001b[1;33m,\u001b[0m\u001b[1;36m2\u001b[0m\u001b[1;33m,\u001b[0m\u001b[1;36m3\u001b[0m\u001b[1;33m,\u001b[0m\u001b[1;36m4\u001b[0m\u001b[1;33m,\u001b[0m\u001b[1;36m5\u001b[0m\u001b[1;33m,\u001b[0m\u001b[1;36m6\u001b[0m\u001b[1;33m,\u001b[0m\u001b[1;36m7\u001b[0m\u001b[1;33m,\u001b[0m\u001b[1;36m8\u001b[0m\u001b[1;33m,\u001b[0m\u001b[1;36m9\u001b[0m\u001b[1;33m,\u001b[0m\u001b[1;36m10\u001b[0m\u001b[1;33m]\u001b[0m\u001b[1;33m,\u001b[0m \u001b[0mlabels\u001b[0m \u001b[1;33m=\u001b[0m \u001b[0mYears\u001b[0m\u001b[1;33m,\u001b[0m \u001b[0mrot\u001b[0m \u001b[1;33m=\u001b[0m \u001b[1;36m45\u001b[0m\u001b[1;33m)\u001b[0m\u001b[1;33m\u001b[0m\u001b[1;33m\u001b[0m\u001b[0m\n\u001b[0;32m      5\u001b[0m \u001b[0mplt\u001b[0m\u001b[1;33m.\u001b[0m\u001b[0mplot\u001b[0m\u001b[1;33m(\u001b[0m\u001b[0mpotential_lower_price\u001b[0m\u001b[1;33m)\u001b[0m\u001b[1;33m\u001b[0m\u001b[1;33m\u001b[0m\u001b[0m\n",
      "\u001b[1;31mNameError\u001b[0m: name 'Upper_Yields' is not defined"
     ]
    }
   ],
   "source": [
    "potential_upper_price = [element * historic_msft_data[\"MSFT\"][\"close\"][-1] for element in Upper_Yields]\n",
    "potential_lower_price = [element * historic_msft_data[\"MSFT\"][\"close\"][-1] for element in Lower_Yields]\n",
    "potential_mean_price = [element * historic_msft_data[\"MSFT\"][\"close\"][-1] for element in Means]\n",
    "#for ticks, enter the number of years you are simulating\n",
    "plt.xticks(ticks = [0,1,2,3,4,5,6,7,8,9,10], labels = Years, rot = 45)\n",
    "plt.plot(potential_lower_price)\n",
    "plt.plot(potential_upper_price)\n",
    "plt.plot(potential_mean_price)\n",
    "\n"
   ]
  },
  {
   "cell_type": "code",
   "execution_count": null,
   "id": "ce3d3aac-4ac7-4bb2-b610-81867dc63973",
   "metadata": {},
   "outputs": [],
   "source": []
  }
 ],
 "metadata": {
  "kernelspec": {
   "display_name": "Python 3",
   "language": "python",
   "name": "python3"
  },
  "language_info": {
   "codemirror_mode": {
    "name": "ipython",
    "version": 3
   },
   "file_extension": ".py",
   "mimetype": "text/x-python",
   "name": "python",
   "nbconvert_exporter": "python",
   "pygments_lexer": "ipython3",
   "version": "3.8.8"
  }
 },
 "nbformat": 4,
 "nbformat_minor": 5
}
