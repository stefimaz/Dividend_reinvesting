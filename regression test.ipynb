{
 "cells": [
  {
   "cell_type": "markdown",
   "id": "b514baf8-fb19-4c20-b05b-43938da5da2a",
   "metadata": {},
   "source": [
    "### So the reason why I wrote this code and went through all this trouble is so that we wouldn't need to take the average amount paid per shares over the course of the forecasted time period. Instead we can use a regression model to forecast the dividend. But if and only if there is a correlation between the dividend amount/yield and the years over time. We can use the covariance function to see if there is a strong negative or positive covariance to determine if the values are directly related to each other.\n",
    "\n",
    "### Because this is supposed to be adaptable, if you think that sometimes the trend isn't exactly a linear one, you can copy and paste the code from the polynomial testing labeled and create a polynomial regression fit instead of a linear regression model. However, you will have to populate the inputs into a list using a for loop.\n",
    "\n",
    "My train of thought for this code was to apply this regression model to predict the dividend earned from the stock and continue compounding that into the crypto. \n",
    "\n",
    "Now I just need to work on the ARIMA model for the crypto and multiply the percent change in the forecast prices of the crypto or the cumulative sum with dividend received from the stock."
   ]
  },
  {
   "cell_type": "code",
   "execution_count": 167,
   "id": "eb8cbfac-976b-4fab-b07c-70c1205d85ff",
   "metadata": {},
   "outputs": [],
   "source": [
    "from pathlib import Path\n",
    "import pandas as pd\n",
    "from sklearn.linear_model import LinearRegression\n",
    "import numpy as np\n",
    "import matplotlib.pyplot as plt"
   ]
  },
  {
   "cell_type": "code",
   "execution_count": 168,
   "id": "a8fb309e-0345-4c5f-b702-c8147bea3f98",
   "metadata": {},
   "outputs": [],
   "source": [
    "def convertMonthsToPercentages(announced_years):\n",
    "    years_percentage = []\n",
    "    \n",
    "    \n",
    "#     for x in (announced_years):\n",
    "#         month = x[0:2].replace(\"/\",\" \")\n",
    "#         time_period = 0\n",
    "#         year = int(x[-4:])\n",
    "#         percentage = int(month)/12\n",
    "#         years_percentage.append(year+percentage)\n",
    "\n",
    "    for x in range(len(announced_years)):\n",
    "        years_percentage.append(x/4)\n",
    "#         print(years_percentage)\n",
    "        \n",
    "    return years_percentage[::-1]\n",
    "        "
   ]
  },
  {
   "cell_type": "code",
   "execution_count": 169,
   "id": "42c1df74-cff6-4b3c-8cce-6a91f1ff26d4",
   "metadata": {},
   "outputs": [
    {
     "name": "stderr",
     "output_type": "stream",
     "text": [
      "<ipython-input-169-9ffda42871a0>:6: FutureWarning: The default value of regex will change from True to False in a future version. In addition, single character regular expressions will*not* be treated as literal strings when regex=True.\n",
      "  msft_div.loc[:, \"Amount\"]= msft_div.loc[:, \"Amount\"].str.replace(\"$\", \"\")\n"
     ]
    },
    {
     "data": {
      "text/plain": [
       "Announced        object\n",
       "Period           object\n",
       "Amount          float64\n",
       "Yield           float64\n",
       "Ex-Dividend      object\n",
       "Record Date      object\n",
       "Payable Date     object\n",
       "dtype: object"
      ]
     },
     "execution_count": 169,
     "metadata": {},
     "output_type": "execute_result"
    }
   ],
   "source": [
    "msft_div = pd.read_csv(Path(\"./Resources/msft_dividends.csv\"))\n",
    "\n",
    "\n",
    "msft_div.loc[:, \"Yield\"]= msft_div.loc[:, \"Yield\"].str.replace(\"%\", \"\")\n",
    "msft_div.loc[:, \"Yield\"]= msft_div.loc[:, \"Yield\"].astype(\"float\")\n",
    "\n",
    "msft_div.loc[:, \"Amount\"]= msft_div.loc[:, \"Amount\"].str.replace(\"$\", \"\")\n",
    "msft_div.loc[:, \"Amount\"]= msft_div.loc[:, \"Amount\"].astype(\"float\")\n",
    "\n",
    "Years_Announced = []\n",
    "for x in range(len(msft_div.index)):\n",
    "    Years_Announced.append(str(msft_div[\"Announced \"][x]))\n",
    "\n",
    "msft_div.dtypes"
   ]
  },
  {
   "cell_type": "code",
   "execution_count": 206,
   "id": "054384ae-58c4-4dae-839d-ea1d6c1ea3be",
   "metadata": {},
   "outputs": [],
   "source": [
    "name = f'{msft_div=}'.split('=')[0]"
   ]
  },
  {
   "cell_type": "code",
   "execution_count": null,
   "id": "ede390f0-147f-4119-a40a-f5020d46b1ef",
   "metadata": {},
   "outputs": [],
   "source": []
  },
  {
   "cell_type": "code",
   "execution_count": 170,
   "id": "85809f7d-bd29-4d91-bcfc-36480b27168a",
   "metadata": {},
   "outputs": [
    {
     "data": {
      "text/html": [
       "<div>\n",
       "<style scoped>\n",
       "    .dataframe tbody tr th:only-of-type {\n",
       "        vertical-align: middle;\n",
       "    }\n",
       "\n",
       "    .dataframe tbody tr th {\n",
       "        vertical-align: top;\n",
       "    }\n",
       "\n",
       "    .dataframe thead th {\n",
       "        text-align: right;\n",
       "    }\n",
       "</style>\n",
       "<table border=\"1\" class=\"dataframe\">\n",
       "  <thead>\n",
       "    <tr style=\"text-align: right;\">\n",
       "      <th></th>\n",
       "      <th>Announced</th>\n",
       "      <th>Period</th>\n",
       "      <th>Amount</th>\n",
       "      <th>Yield</th>\n",
       "      <th>Ex-Dividend</th>\n",
       "      <th>Record Date</th>\n",
       "      <th>Payable Date</th>\n",
       "      <th>Percent Year</th>\n",
       "    </tr>\n",
       "  </thead>\n",
       "  <tbody>\n",
       "    <tr>\n",
       "      <th>0</th>\n",
       "      <td>9/14/2021</td>\n",
       "      <td>quarterly</td>\n",
       "      <td>0.62</td>\n",
       "      <td>0.83</td>\n",
       "      <td>11/17/2021</td>\n",
       "      <td>11/18/2021</td>\n",
       "      <td>12/9/2021</td>\n",
       "      <td>5.75</td>\n",
       "    </tr>\n",
       "    <tr>\n",
       "      <th>1</th>\n",
       "      <td>6/16/2021</td>\n",
       "      <td>quarterly</td>\n",
       "      <td>0.56</td>\n",
       "      <td>0.87</td>\n",
       "      <td>8/18/2021</td>\n",
       "      <td>8/19/2021</td>\n",
       "      <td>9/9/2021</td>\n",
       "      <td>5.50</td>\n",
       "    </tr>\n",
       "    <tr>\n",
       "      <th>2</th>\n",
       "      <td>3/16/2021</td>\n",
       "      <td>quarterly</td>\n",
       "      <td>0.56</td>\n",
       "      <td>0.94</td>\n",
       "      <td>5/19/2021</td>\n",
       "      <td>5/20/2021</td>\n",
       "      <td>6/10/2021</td>\n",
       "      <td>5.25</td>\n",
       "    </tr>\n",
       "    <tr>\n",
       "      <th>3</th>\n",
       "      <td>12/2/2020</td>\n",
       "      <td>quarterly</td>\n",
       "      <td>0.56</td>\n",
       "      <td>1.04</td>\n",
       "      <td>2/17/2021</td>\n",
       "      <td>2/18/2021</td>\n",
       "      <td>3/11/2021</td>\n",
       "      <td>5.00</td>\n",
       "    </tr>\n",
       "    <tr>\n",
       "      <th>4</th>\n",
       "      <td>9/15/2020</td>\n",
       "      <td>quarterly</td>\n",
       "      <td>0.56</td>\n",
       "      <td>1.07</td>\n",
       "      <td>11/18/2020</td>\n",
       "      <td>11/19/2020</td>\n",
       "      <td>12/10/2020</td>\n",
       "      <td>4.75</td>\n",
       "    </tr>\n",
       "    <tr>\n",
       "      <th>5</th>\n",
       "      <td>6/17/2020</td>\n",
       "      <td>quarterly</td>\n",
       "      <td>0.51</td>\n",
       "      <td>1.05</td>\n",
       "      <td>8/19/2020</td>\n",
       "      <td>8/20/2020</td>\n",
       "      <td>9/10/2020</td>\n",
       "      <td>4.50</td>\n",
       "    </tr>\n",
       "    <tr>\n",
       "      <th>6</th>\n",
       "      <td>3/9/2020</td>\n",
       "      <td>quarterly</td>\n",
       "      <td>0.51</td>\n",
       "      <td>1.35</td>\n",
       "      <td>5/20/2020</td>\n",
       "      <td>5/21/2020</td>\n",
       "      <td>6/11/2020</td>\n",
       "      <td>4.25</td>\n",
       "    </tr>\n",
       "    <tr>\n",
       "      <th>7</th>\n",
       "      <td>12/4/2019</td>\n",
       "      <td>quarterly</td>\n",
       "      <td>0.51</td>\n",
       "      <td>1.36</td>\n",
       "      <td>2/19/2020</td>\n",
       "      <td>2/20/2020</td>\n",
       "      <td>3/12/2020</td>\n",
       "      <td>4.00</td>\n",
       "    </tr>\n",
       "    <tr>\n",
       "      <th>8</th>\n",
       "      <td>9/18/2019</td>\n",
       "      <td>quarterly</td>\n",
       "      <td>0.51</td>\n",
       "      <td>1.47</td>\n",
       "      <td>11/20/2019</td>\n",
       "      <td>11/21/2019</td>\n",
       "      <td>12/12/2019</td>\n",
       "      <td>3.75</td>\n",
       "    </tr>\n",
       "    <tr>\n",
       "      <th>9</th>\n",
       "      <td>6/12/2019</td>\n",
       "      <td>Quarterly</td>\n",
       "      <td>0.46</td>\n",
       "      <td>1.39</td>\n",
       "      <td>8/14/2019</td>\n",
       "      <td>8/15/2019</td>\n",
       "      <td>9/12/2019</td>\n",
       "      <td>3.50</td>\n",
       "    </tr>\n",
       "    <tr>\n",
       "      <th>10</th>\n",
       "      <td>3/11/2019</td>\n",
       "      <td>quarterly</td>\n",
       "      <td>0.46</td>\n",
       "      <td>1.63</td>\n",
       "      <td>5/15/2019</td>\n",
       "      <td>5/15/2019</td>\n",
       "      <td>6/13/2019</td>\n",
       "      <td>3.25</td>\n",
       "    </tr>\n",
       "    <tr>\n",
       "      <th>11</th>\n",
       "      <td>11/28/2018</td>\n",
       "      <td>quarterly</td>\n",
       "      <td>0.46</td>\n",
       "      <td>1.66</td>\n",
       "      <td>2/20/2019</td>\n",
       "      <td>2/21/2019</td>\n",
       "      <td>3/14/2019</td>\n",
       "      <td>3.00</td>\n",
       "    </tr>\n",
       "    <tr>\n",
       "      <th>12</th>\n",
       "      <td>9/18/2018</td>\n",
       "      <td>quarterly</td>\n",
       "      <td>0.46</td>\n",
       "      <td>1.63</td>\n",
       "      <td>11/14/2018</td>\n",
       "      <td>11/15/2018</td>\n",
       "      <td>12/13/2018</td>\n",
       "      <td>2.75</td>\n",
       "    </tr>\n",
       "    <tr>\n",
       "      <th>13</th>\n",
       "      <td>6/13/2018</td>\n",
       "      <td>quarterly</td>\n",
       "      <td>0.42</td>\n",
       "      <td>1.67</td>\n",
       "      <td>8/15/2018</td>\n",
       "      <td>8/16/2018</td>\n",
       "      <td>9/13/2018</td>\n",
       "      <td>2.50</td>\n",
       "    </tr>\n",
       "    <tr>\n",
       "      <th>14</th>\n",
       "      <td>3/12/2018</td>\n",
       "      <td>quarterly</td>\n",
       "      <td>0.42</td>\n",
       "      <td>1.74</td>\n",
       "      <td>5/16/2018</td>\n",
       "      <td>5/17/2018</td>\n",
       "      <td>6/14/2018</td>\n",
       "      <td>2.25</td>\n",
       "    </tr>\n",
       "    <tr>\n",
       "      <th>15</th>\n",
       "      <td>11/29/2017</td>\n",
       "      <td>quarterly</td>\n",
       "      <td>0.42</td>\n",
       "      <td>2.00</td>\n",
       "      <td>2/14/2018</td>\n",
       "      <td>2/15/2018</td>\n",
       "      <td>3/8/2018</td>\n",
       "      <td>2.00</td>\n",
       "    </tr>\n",
       "    <tr>\n",
       "      <th>16</th>\n",
       "      <td>9/19/2017</td>\n",
       "      <td>quarterly</td>\n",
       "      <td>0.42</td>\n",
       "      <td>2.24</td>\n",
       "      <td>11/15/2017</td>\n",
       "      <td>11/16/2017</td>\n",
       "      <td>12/14/2017</td>\n",
       "      <td>1.75</td>\n",
       "    </tr>\n",
       "    <tr>\n",
       "      <th>17</th>\n",
       "      <td>6/13/2017</td>\n",
       "      <td>quarterly</td>\n",
       "      <td>0.39</td>\n",
       "      <td>2.22</td>\n",
       "      <td>8/15/2017</td>\n",
       "      <td>8/17/2017</td>\n",
       "      <td>9/14/2017</td>\n",
       "      <td>1.50</td>\n",
       "    </tr>\n",
       "    <tr>\n",
       "      <th>18</th>\n",
       "      <td>3/14/2017</td>\n",
       "      <td>quarterly</td>\n",
       "      <td>0.39</td>\n",
       "      <td>2.41</td>\n",
       "      <td>5/16/2017</td>\n",
       "      <td>5/18/2017</td>\n",
       "      <td>6/8/2017</td>\n",
       "      <td>1.25</td>\n",
       "    </tr>\n",
       "    <tr>\n",
       "      <th>19</th>\n",
       "      <td>11/30/2016</td>\n",
       "      <td>quarterly</td>\n",
       "      <td>0.39</td>\n",
       "      <td>2.64</td>\n",
       "      <td>2/14/2017</td>\n",
       "      <td>2/16/2017</td>\n",
       "      <td>3/9/2017</td>\n",
       "      <td>1.00</td>\n",
       "    </tr>\n",
       "    <tr>\n",
       "      <th>20</th>\n",
       "      <td>9/20/2016</td>\n",
       "      <td>quarterly</td>\n",
       "      <td>0.39</td>\n",
       "      <td>2.70</td>\n",
       "      <td>11/15/2016</td>\n",
       "      <td>11/17/2016</td>\n",
       "      <td>12/8/2016</td>\n",
       "      <td>0.75</td>\n",
       "    </tr>\n",
       "    <tr>\n",
       "      <th>21</th>\n",
       "      <td>6/14/2016</td>\n",
       "      <td>quarterly</td>\n",
       "      <td>0.36</td>\n",
       "      <td>2.86</td>\n",
       "      <td>8/16/2016</td>\n",
       "      <td>8/18/2016</td>\n",
       "      <td>9/8/2016</td>\n",
       "      <td>0.50</td>\n",
       "    </tr>\n",
       "    <tr>\n",
       "      <th>22</th>\n",
       "      <td>3/15/2016</td>\n",
       "      <td>quarterly</td>\n",
       "      <td>0.36</td>\n",
       "      <td>2.63</td>\n",
       "      <td>5/17/2016</td>\n",
       "      <td>5/19/2016</td>\n",
       "      <td>6/9/2016</td>\n",
       "      <td>0.25</td>\n",
       "    </tr>\n",
       "    <tr>\n",
       "      <th>23</th>\n",
       "      <td>12/2/2015</td>\n",
       "      <td>quarterly</td>\n",
       "      <td>0.36</td>\n",
       "      <td>2.58</td>\n",
       "      <td>2/16/2016</td>\n",
       "      <td>2/18/2016</td>\n",
       "      <td>3/10/2016</td>\n",
       "      <td>0.00</td>\n",
       "    </tr>\n",
       "  </tbody>\n",
       "</table>\n",
       "</div>"
      ],
      "text/plain": [
       "    Announced      Period  Amount  Yield Ex-Dividend Record Date Payable Date  \\\n",
       "0    9/14/2021  quarterly    0.62   0.83  11/17/2021  11/18/2021    12/9/2021   \n",
       "1    6/16/2021  quarterly    0.56   0.87   8/18/2021   8/19/2021     9/9/2021   \n",
       "2    3/16/2021  quarterly    0.56   0.94   5/19/2021   5/20/2021    6/10/2021   \n",
       "3    12/2/2020  quarterly    0.56   1.04   2/17/2021   2/18/2021    3/11/2021   \n",
       "4    9/15/2020  quarterly    0.56   1.07  11/18/2020  11/19/2020   12/10/2020   \n",
       "5    6/17/2020  quarterly    0.51   1.05   8/19/2020   8/20/2020    9/10/2020   \n",
       "6     3/9/2020  quarterly    0.51   1.35   5/20/2020   5/21/2020    6/11/2020   \n",
       "7    12/4/2019  quarterly    0.51   1.36   2/19/2020   2/20/2020    3/12/2020   \n",
       "8    9/18/2019  quarterly    0.51   1.47  11/20/2019  11/21/2019   12/12/2019   \n",
       "9    6/12/2019  Quarterly    0.46   1.39   8/14/2019   8/15/2019    9/12/2019   \n",
       "10   3/11/2019  quarterly    0.46   1.63   5/15/2019   5/15/2019    6/13/2019   \n",
       "11  11/28/2018  quarterly    0.46   1.66   2/20/2019   2/21/2019    3/14/2019   \n",
       "12   9/18/2018  quarterly    0.46   1.63  11/14/2018  11/15/2018   12/13/2018   \n",
       "13   6/13/2018  quarterly    0.42   1.67   8/15/2018   8/16/2018    9/13/2018   \n",
       "14   3/12/2018  quarterly    0.42   1.74   5/16/2018   5/17/2018    6/14/2018   \n",
       "15  11/29/2017  quarterly    0.42   2.00   2/14/2018   2/15/2018     3/8/2018   \n",
       "16   9/19/2017  quarterly    0.42   2.24  11/15/2017  11/16/2017   12/14/2017   \n",
       "17   6/13/2017  quarterly    0.39   2.22   8/15/2017   8/17/2017    9/14/2017   \n",
       "18   3/14/2017  quarterly    0.39   2.41   5/16/2017   5/18/2017     6/8/2017   \n",
       "19  11/30/2016  quarterly    0.39   2.64   2/14/2017   2/16/2017     3/9/2017   \n",
       "20   9/20/2016  quarterly    0.39   2.70  11/15/2016  11/17/2016    12/8/2016   \n",
       "21   6/14/2016  quarterly    0.36   2.86   8/16/2016   8/18/2016     9/8/2016   \n",
       "22   3/15/2016  quarterly    0.36   2.63   5/17/2016   5/19/2016     6/9/2016   \n",
       "23   12/2/2015  quarterly    0.36   2.58   2/16/2016   2/18/2016    3/10/2016   \n",
       "\n",
       "    Percent Year  \n",
       "0           5.75  \n",
       "1           5.50  \n",
       "2           5.25  \n",
       "3           5.00  \n",
       "4           4.75  \n",
       "5           4.50  \n",
       "6           4.25  \n",
       "7           4.00  \n",
       "8           3.75  \n",
       "9           3.50  \n",
       "10          3.25  \n",
       "11          3.00  \n",
       "12          2.75  \n",
       "13          2.50  \n",
       "14          2.25  \n",
       "15          2.00  \n",
       "16          1.75  \n",
       "17          1.50  \n",
       "18          1.25  \n",
       "19          1.00  \n",
       "20          0.75  \n",
       "21          0.50  \n",
       "22          0.25  \n",
       "23          0.00  "
      ]
     },
     "execution_count": 170,
     "metadata": {},
     "output_type": "execute_result"
    }
   ],
   "source": [
    "msft_div[\"Percent Year\"] = (convertMonthsToPercentages(Years_Announced))\n",
    "\n",
    "# for x in (Years_Announced):\n",
    "#     month = x[0:2].replace(\"/\",\" \")\n",
    "#     percentage = int(month)/12\n",
    "#     print(x, \"     \", percentage)\n",
    "#msft_div.iloc[:,0] = pd.to_datetime(msft_div.iloc[:,0])\n",
    "msft_div"
   ]
  },
  {
   "cell_type": "code",
   "execution_count": 293,
   "id": "2949524b-3f78-4476-a56c-0a90ca2282a3",
   "metadata": {},
   "outputs": [
    {
     "name": "stdout",
     "output_type": "stream",
     "text": [
      "Covariance Percent Year and Amount: 0.13076086956521743\n",
      "Covariance Percent Year and Yield: -1.1205434782608696\n"
     ]
    },
    {
     "data": {
      "text/plain": [
       "24"
      ]
     },
     "execution_count": 293,
     "metadata": {},
     "output_type": "execute_result"
    }
   ],
   "source": [
    "print(\"Covariance Percent Year and Amount: \" + str(msft_div[\"Percent Year\"].astype(\"float\").cov(msft_div[\"Amount\"].astype(\"float\"))))\n",
    "print(\"Covariance Percent Year and Yield: \" + str(msft_div[\"Percent Year\"].astype(\"float\").cov(msft_div[\"Yield\"].astype(\"float\"))))\n",
    "#covariance is positive, establishing that there is a relative positive linear relationship\n",
    "\n"
   ]
  },
  {
   "cell_type": "markdown",
   "id": "30f9cf28-9861-4f1c-a090-739afa825ae2",
   "metadata": {},
   "source": [
    "Okay, so this took me a long time so I am logging this to keep track of my thought process. Everything before was pretty self explanatory.\n",
    "\n",
    "I am creating a linear regression forecast to extrapolate the future dividend yields and amounts. The first block of code below is the setting the model for the amount.\n"
   ]
  },
  {
   "cell_type": "code",
   "execution_count": 340,
   "id": "f3c2e876-a606-4269-ba61-a71537a5414d",
   "metadata": {},
   "outputs": [
    {
     "data": {
      "image/png": "[encoded data removed]",
      "text/plain": [
       "<Figure size 432x288 with 1 Axes>"
      ]
     },
     "metadata": {
      "needs_background": "light"
     },
     "output_type": "display_data"
    },
    {
     "name": "stdout",
     "output_type": "stream",
     "text": [
      "The slope is:  0.04184347826086957 \n",
      "The intercept is:  0.34053333333333335\n",
      "The predicted amount paid by msft_div per share by 25.0 years is $ 1.376 .\n",
      "The predicted total dividend amount paid by msft_div 19.0 years after the current year is $ 74.77 .\n"
     ]
    }
   ],
   "source": [
    "x_amount = msft_div.iloc[:,7].values.reshape(-1,1)\n",
    "y_amount = msft_div.iloc[:,2].values.reshape(-1,1)\n",
    "\n",
    "amount_regression = LinearRegression().fit(x_amount,y_amount)\n",
    "yfit_amount = amount_regression.predict(x_amount)\n",
    "\n",
    "plt.scatter(x_amount, y_amount)\n",
    "plt.plot(x_amount, yfit_amount, color='red')\n",
    "plt.show()\n",
    "\n",
    "#squeeze turns from x and y from numpy arrays into a list by removing excess levels\n",
    "amount_regression.coef_ = np.squeeze(amount_regression.coef_)\n",
    "amount_regression.intercept_ = np.squeeze(amount_regression.intercept_)\n",
    "print(\"The slope is: \", amount_regression.coef_, \"\\nThe intercept is: \", amount_regression.intercept_)\n",
    "\n",
    "#you forecast the future quarterlies through this loop and populate this list by how much quarterlies ahead you are plotting.\n",
    "amount_forecast = []\n",
    "#keep track of how much years are in the forecasted time with amount_years\n",
    "amount_years = 0\n",
    "for i in range(100):\n",
    "    amount_forecast.append( round((amount_regression.coef_ * (0.25*i)) + amount_regression.intercept_  , 3) )\n",
    "    amount_years=i\n",
    "    amount_years/=4\n",
    "\n",
    "#the first line gives the predicted dividend at the end of the forecasted time period\n",
    "print(f\"The predicted quarterly amount paid by {name} per share by\", amount_years+0.25, \"years is $\", (amount_forecast[-1]), \".\")\n",
    "#the second line provides the total dividend given through the years, minusing 2015-2021 time frame\n",
    "print(f\"The predicted total dividend amount paid by {name}\", (amount_years+0.25) - (len(msft_div.index)/4), \"years after the current year is $\", round(sum(amount_forecast[len(msft_div.index):]),2), \".\")\n",
    "\n",
    "\n"
   ]
  },
  {
   "cell_type": "code",
   "execution_count": 341,
   "id": "a240934a-747d-4bed-bfc0-6d412cf53e0a",
   "metadata": {},
   "outputs": [],
   "source": [
    "temp_list = list(msft_div[\"Amount\"])\n",
    "temp_list.reverse()\n",
    "\n",
    "#yearly_div is the total yearly amount paid from 2015-2021\n",
    "#forecast_yearly_div is the predicted yearly amount from 2015-the end of the forecast period\n",
    "\n",
    "forecast_yearly_div = np.add.reduceat(amount_forecast, np.arange(0, len(amount_forecast), 4)).tolist()\n",
    "yearly_div = np.add.reduceat(temp_list, np.arange(0, len(temp_list), 4)).tolist()\n"
   ]
  },
  {
   "cell_type": "markdown",
   "id": "f9431d7f-24cb-4687-8147-4fbf03387b7f",
   "metadata": {},
   "source": [
    "# Now for this code, I also used the regression model. As you can see, it looks optimistic. But the problem is that if the line continues, then it will eventually reach 0 and negative and clearly, that is not possible for dividend rate! Therefore, I will use a polynomial function??\n",
    "\n",
    "## advice from andy that came from the future cells: pls dont look any further this is fools errand"
   ]
  },
  {
   "cell_type": "code",
   "execution_count": 346,
   "id": "da8ab98f-ccb3-4f13-a321-c8376bbac17f",
   "metadata": {},
   "outputs": [
    {
     "data": {
      "image/png": "[encoded data removed]",
      "text/plain": [
       "<Figure size 432x288 with 1 Axes>"
      ]
     },
     "metadata": {
      "needs_background": "light"
     },
     "output_type": "display_data"
    },
    {
     "name": "stdout",
     "output_type": "stream",
     "text": [
      "The slope is:  -0.3585739130434782 \n",
      "The intercept is:  2.7800666666666665\n"
     ]
    }
   ],
   "source": [
    "x_yield = msft_div.iloc[:,7].values.reshape(-1,1)\n",
    "y_yield = msft_div.iloc[:,3].values.reshape(-1,1)\n",
    "\n",
    "yield_regression = LinearRegression().fit(x_yield,y_yield)\n",
    "yfit_yield = yield_regression.predict(x_yield)\n",
    "\n",
    "plt.scatter(x_yield, y_yield)\n",
    "plt.plot(x_yield, yfit_yield, color='red')\n",
    "plt.show()\n",
    "\n",
    "yield_regression.coef_ = np.squeeze(yield_regression.coef_)\n",
    "yield_regression.intercept_ = np.squeeze(yield_regression.intercept_)\n",
    "print(\"The slope is: \", yield_regression.coef_, \"\\nThe intercept is: \", yield_regression.intercept_)\n"
   ]
  },
  {
   "cell_type": "markdown",
   "id": "b94cdeae-0cbc-41ca-8c89-9e538f8b71a0",
   "metadata": {},
   "source": [
    "------------------\n",
    "polynomial testing starts now\n",
    "\n",
    "--------------------------------------------------\n",
    "\n",
    "\n",
    "## Conclusion: do not forecast the yield. It is a fool's errand and I am the fool. Please abort. I spent 2 days working on this before realizing yield is not reliant on the time period and is instead calculated from the amount paid instead. The variables are not related. Even if they were, the fitted equation is clearly an asymptote because we are assuming the possibility that the dividend yield will never hit 0. The idea that a stock is paying out dividends infinitismally close to 0% seems laughable.\n",
    "↓ ↓ ↓ ↓\n",
    "## Though it can hit 0 when the company is declaring it won't provide dividend anymore but predicting when exactly that will happened based off of the yields historic data is not plausible."
   ]
  },
  {
   "cell_type": "code",
   "execution_count": null,
   "id": "5672efc1-7d9d-4d13-8c35-9d60bd074472",
   "metadata": {},
   "outputs": [],
   "source": []
  },
  {
   "cell_type": "code",
   "execution_count": 347,
   "id": "5d4ba53c-2182-4d97-a53a-6c9535b8ed2b",
   "metadata": {},
   "outputs": [],
   "source": [
    "from sklearn.preprocessing import PolynomialFeatures"
   ]
  },
  {
   "cell_type": "code",
   "execution_count": 350,
   "id": "0de99103-5523-44e6-91f7-e1de8440bc46",
   "metadata": {},
   "outputs": [
    {
     "data": {
      "image/png": "[encoded data removed]",
      "text/plain": [
       "<Figure size 432x288 with 1 Axes>"
      ]
     },
     "metadata": {
      "needs_background": "light"
     },
     "output_type": "display_data"
    }
   ],
   "source": [
    "pr = PolynomialFeatures(degree = 2)\n",
    "X_poly = pr.fit_transform(x_yield)\n",
    "pr.fit(X_poly, y_yield)\n",
    "lin_reg = LinearRegression()\n",
    "lin_reg.fit(X_poly, y_yield)\n",
    "plt.scatter(x_yield, y_yield)\n",
    "plt.plot(x_yield, lin_reg.predict(pr.fit_transform(x_yield)))\n",
    "plt.show()"
   ]
  },
  {
   "cell_type": "code",
   "execution_count": 356,
   "id": "a1727c75-18a7-4c60-a9ef-129fb247a539",
   "metadata": {},
   "outputs": [
    {
     "data": {
      "text/plain": [
       "array([[-0.2767903]])"
      ]
     },
     "execution_count": 356,
     "metadata": {},
     "output_type": "execute_result"
    }
   ],
   "source": [
    "lin_reg.predict(pr.fit_transform([[14]]))\n",
    "#still can return negatives"
   ]
  },
  {
   "cell_type": "code",
   "execution_count": 385,
   "id": "b9d5a61d-50f2-4f38-ae04-0ef8ed9c08d4",
   "metadata": {},
   "outputs": [
    {
     "data": {
      "image/png": "[encoded data removed]",
      "text/plain": [
       "<Figure size 432x288 with 1 Axes>"
      ]
     },
     "metadata": {
      "needs_background": "light"
     },
     "output_type": "display_data"
    }
   ],
   "source": [
    "pr = PolynomialFeatures(degree = 2)\n",
    "X_poly = pr.fit_transform(x_amount)\n",
    "pr.fit(X_poly, y_amount)\n",
    "lin_reg = LinearRegression()\n",
    "lin_reg.fit(X_poly, y_amount)\n",
    "plt.scatter(x_yield, y_amount)\n",
    "plt.plot(x_amount, lin_reg.predict(pr.fit_transform(x_amount)))\n",
    "plt.show()"
   ]
  },
  {
   "cell_type": "code",
   "execution_count": 386,
   "id": "7d86923c-f612-4a85-af85-3a07bcfdf01a",
   "metadata": {},
   "outputs": [
    {
     "name": "stdout",
     "output_type": "stream",
     "text": [
      "[[0.35854615]]\n",
      "[[0.38415673]]\n",
      "[[0.41660222]]\n",
      "[[0.45588261]]\n",
      "[[0.5019979]]\n",
      "[[0.5549481]]\n",
      "[[0.6147332]]\n",
      "[[0.68135321]]\n",
      "[[0.75480812]]\n",
      "[[0.83509793]]\n",
      "[[0.92222265]]\n",
      "[[1.01618227]]\n",
      "[[1.1169768]]\n",
      "[[1.22460623]]\n",
      "[[1.33907057]]\n",
      "[[1.46036981]]\n",
      "[[1.58850395]]\n",
      "[[1.723473]]\n",
      "[[1.86527695]]\n",
      "[[2.01391581]]\n",
      "[[2.16938957]]\n",
      "[[2.33169824]]\n",
      "[[2.50084181]]\n",
      "[[2.67682028]]\n"
     ]
    }
   ],
   "source": [
    "for i in range(24):\n",
    "    print(lin_reg.predict(pr.fit_transform([[i]])))"
   ]
  },
  {
   "cell_type": "code",
   "execution_count": 383,
   "id": "e82b8be8-efea-4e6b-a707-8ddf3ac50daa",
   "metadata": {},
   "outputs": [],
   "source": [
    "from scipy.optimize import curve_fit\n",
    "import numpy as np\n",
    "# define type of function to search\n",
    "def model_func(x, a, k, b):\n",
    "    return a * np.exp(-k*x) + b\n"
   ]
  },
  {
   "cell_type": "code",
   "execution_count": 384,
   "id": "17b34286-1acf-47fe-b050-061f3a20248e",
   "metadata": {},
   "outputs": [
    {
     "data": {
      "image/png": "[encoded data removed]",
      "text/plain": [
       "<Figure size 432x288 with 1 Axes>"
      ]
     },
     "metadata": {
      "needs_background": "light"
     },
     "output_type": "display_data"
    }
   ],
   "source": [
    "# x_yield = x_yield[:,0].astype(float)\n",
    "# y_yield = y_yield[:,0].astype(float)\n",
    "p0 = (1,1.e-1,1)\n",
    "opt, pcov = curve_fit(model_func, x_yield, y_yield, p0)\n",
    "a,k,b = opt\n",
    "\n",
    "x2 = np.linspace(0,6,24)\n",
    "y2 = model_func(x2, a, k, b)\n",
    "fig, ax = plt.subplots()\n",
    "ax.plot(x2, y2, color='r', label='Fit. func: $f(x) = %.3f e^{%.3f x} %+.3f$' % (a,k,b))\n",
    "ax.plot(x_yield, y_yield, 'bo', label='data with noise')\n",
    "ax.legend(loc='best')\n",
    "plt.show()"
   ]
  },
  {
   "cell_type": "code",
   "execution_count": 363,
   "id": "e44b568c-a408-4258-82a1-5ff8a55515de",
   "metadata": {},
   "outputs": [
    {
     "data": {
      "text/plain": [
       "numpy.ndarray"
      ]
     },
     "execution_count": 363,
     "metadata": {},
     "output_type": "execute_result"
    }
   ],
   "source": []
  },
  {
   "cell_type": "code",
   "execution_count": null,
   "id": "5b04edda-255a-4977-b63c-0ed0a505e388",
   "metadata": {},
   "outputs": [],
   "source": []
  }
 ],
 "metadata": {
  "kernelspec": {
   "display_name": "Python 3",
   "language": "python",
   "name": "python3"
  },
  "language_info": {
   "codemirror_mode": {
    "name": "ipython",
    "version": 3
   },
   "file_extension": ".py",
   "mimetype": "text/x-python",
   "name": "python",
   "nbconvert_exporter": "python",
   "pygments_lexer": "ipython3",
   "version": "3.8.8"
  }
 },
 "nbformat": 4,
 "nbformat_minor": 5
}
