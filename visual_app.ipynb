{
 "cells": [
  {
   "cell_type": "code",
   "execution_count": 1,
   "id": "a5ca4455-d79d-4f8e-b597-d233374fbce8",
   "metadata": {},
   "outputs": [
    {
     "name": "stderr",
     "output_type": "stream",
     "text": [
      "2021-11-05 15:47:37.555 \n",
      "  \u001b[33m\u001b[1mWarning:\u001b[0m to view this Streamlit app on a browser, run it with the following\n",
      "  command:\n",
      "\n",
      "    streamlit run /opt/anaconda3/envs/dev/lib/python3.7/site-packages/ipykernel_launcher.py [ARGUMENTS]\n"
     ]
    }
   ],
   "source": [
    "import streamlit as st\n",
    "import pandas as pd\n",
    "import yfinance as yf\n",
    "\n",
    "st.title('Dividends Reinvestment Dashboard')\n",
    "\n",
    "tickers = (\"AAPL\", \"MSFT\",\"MO\", \"F\",\"T\",\"XOM\",\"LUMN\",\"JPM\")\n",
    "\n",
    "dropdown_stocks = st.multiselect('Pick your stock', tickers)\n",
    "\n",
    "\n",
    "start = st.date_input('Start Date', value = pd.to_datetime('2011-01-01'))\n",
    "end = st.date_input('End Date', value = pd.to_datetime('today'))\n",
    "\n",
    "def relativeret(df):\n",
    "    rel = df.pct_change()\n",
    "    cumret = (1 + rel).cumprod() - 1\n",
    "    cumret = cumret.fillna(0)\n",
    "    return cumret\n",
    "\n",
    "if len(dropdown_stocks) > 0:\n",
    "    df = relativeret(yf.download(dropdown_stocks, start, end)['Adj Close'])\n",
    "    st.header('Returns of{}'.format(dropdown_stocks))\n",
    "    st.line_chart(df)"
   ]
  },
  {
   "cell_type": "code",
   "execution_count": null,
   "id": "31776e21-3b21-466f-9b3c-0a94d5b5e145",
   "metadata": {},
   "outputs": [],
   "source": []
  }
 ],
 "metadata": {
  "kernelspec": {
   "display_name": "Python (dev)",
   "language": "python",
   "name": "dev"
  },
  "language_info": {
   "codemirror_mode": {
    "name": "ipython",
    "version": 3
   },
   "file_extension": ".py",
   "mimetype": "text/x-python",
   "name": "python",
   "nbconvert_exporter": "python",
   "pygments_lexer": "ipython3",
   "version": "3.7.7"
  }
 },
 "nbformat": 4,
 "nbformat_minor": 5
}
