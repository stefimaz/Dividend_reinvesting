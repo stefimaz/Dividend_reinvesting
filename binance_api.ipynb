{
 "cells": [
  {
   "cell_type": "markdown",
   "id": "b3761e78-082a-48f7-87cb-72ade5abaffd",
   "metadata": {},
   "source": [
    "code for the function from\n",
    "Peter Nistrup"
   ]
  },
  {
   "cell_type": "code",
   "execution_count": 1,
   "id": "b08767f0-10c1-4839-9098-27e6c29db562",
   "metadata": {},
   "outputs": [],
   "source": [
    "from binance.client import Client\n",
    "import os , csv\n",
    "from dotenv import load_dotenv\n",
    "\n",
    "import pandas as pd\n",
    "import math\n",
    "import time\n",
    "\n",
    "from datetime import timedelta, datetime\n",
    "from dateutil import parser\n",
    "from tqdm import tqdm_notebook #(Optional, used for progress-bars)"
   ]
  },
  {
   "cell_type": "code",
   "execution_count": 2,
   "id": "8e1cd95f-d6e3-4a0d-8245-2007dbe18d88",
   "metadata": {},
   "outputs": [],
   "source": [
    "\n",
    "load_dotenv()\n",
    "\n",
    "binance_api_key = os.getenv(\"BINANCE_API_KEY\")\n",
    "binance_secret_key = os.getenv(\"BINANCE_SECRET_KEY\")\n",
    "\n",
    "binance_client = Client(binance_api_key, binance_secret_key,)"
   ]
  },
  {
   "cell_type": "code",
   "execution_count": 3,
   "id": "dfb884a0-a6c2-49e4-ae22-f3a208af3fa7",
   "metadata": {},
   "outputs": [],
   "source": [
    "binsizes = {\"1m\": 1, \"5m\": 5, \"1h\": 60, \"1d\": 1440}\n",
    "batch_size = 750"
   ]
  },
  {
   "cell_type": "code",
   "execution_count": 4,
   "id": "543c4e72-6d6b-4226-9e49-84e13d0c768b",
   "metadata": {},
   "outputs": [],
   "source": [
    "def minutes_of_new_data(symbol, kline_size, data, source):\n",
    "    if len(data) > 0:  old = parser.parse(data[\"timestamp\"].iloc[-1])\n",
    "        \n",
    "    elif source == \"binance\": old = datetime.strptime('1 Jan 2017', '%d %b %Y')\n",
    "   \n",
    "    if source == \"binance\": new = pd.to_datetime(binance_client.get_klines(symbol=symbol, interval=kline_size)[-1][0], unit='ms')\n",
    "    return old, new\n",
    "\n",
    "def get_all_binance(symbol, kline_size, save = False):\n",
    "    filename = './Resources/%s-%s-data.csv' % (symbol, kline_size)\n",
    "    if os.path.isfile(filename): data_df = pd.read_csv(filename)\n",
    "    else: data_df = pd.DataFrame()\n",
    "    oldest_point, newest_point = minutes_of_new_data(symbol, kline_size, data_df, source = \"binance\")\n",
    "    delta_min = (newest_point - oldest_point).total_seconds()/60\n",
    "    available_data = math.ceil(delta_min/binsizes[kline_size])\n",
    "    if oldest_point == datetime.strptime('1 Jan 2017', '%d %b %Y'): print('Downloading all available %s data for %s. Be patient..!' % (kline_size, symbol))\n",
    "    else: print('Downloading %d minutes of new data available for %s, i.e. %d instances of %s data.' % (delta_min, symbol, available_data, kline_size))\n",
    "    klines = binance_client.get_historical_klines(symbol, kline_size, oldest_point.strftime(\"%d %b %Y %H:%M:%S\"), newest_point.strftime(\"%d %b %Y %H:%M:%S\"))\n",
    "    data = pd.DataFrame(klines, columns = ['timestamp', 'open', 'high', 'low', 'close', 'volume', 'close_time', 'quote_av', 'trades', 'tb_base_av', 'tb_quote_av', 'ignore' ])\n",
    "    data['timestamp'] = pd.to_datetime(data['timestamp'], unit='ms')\n",
    "    if len(data_df) > 0:\n",
    "        temp_df = pd.DataFrame(data)\n",
    "        data_df = data_df.append(temp_df)\n",
    "    else: data_df = data\n",
    "    data_df.set_index('timestamp', inplace=True)\n",
    "    if save: data_df.to_csv(filename)\n",
    "    print('All caught up..!')\n",
    "    return data_df\n"
   ]
  },
  {
   "cell_type": "code",
   "execution_count": 6,
   "id": "6430ba8c-b7ab-49c8-93a2-2ac4bfa6c8e8",
   "metadata": {},
   "outputs": [
    {
     "name": "stdout",
     "output_type": "stream",
     "text": [
      "Downloading 0 minutes of new data available for BTCUSDT, i.e. 0 instances of 1d data.\n",
      "All caught up..!\n",
      "Downloading 0 minutes of new data available for ETHUSDT, i.e. 0 instances of 1d data.\n",
      "All caught up..!\n",
      "Downloading all available 1d data for BNBUSDT. Be patient..!\n",
      "All caught up..!\n"
     ]
    }
   ],
   "source": [
    "binance_symbols = [\"BTCUSDT\", \"ETHUSDT\",\"BNBUSDT\"]\n",
    "for symbol in binance_symbols:\n",
    "    get_all_binance(symbol, '1d', save = True)"
   ]
  },
  {
   "cell_type": "code",
   "execution_count": null,
   "id": "972a7fa6-3fde-4911-b82c-21593e02a2a1",
   "metadata": {},
   "outputs": [],
   "source": []
  },
  {
   "cell_type": "code",
   "execution_count": null,
   "id": "575e275e-ffcf-4ce8-8c63-e44f50692e3a",
   "metadata": {},
   "outputs": [],
   "source": []
  },
  {
   "cell_type": "code",
   "execution_count": null,
   "id": "22ee5792-ba42-4fae-bc19-8b79d7251413",
   "metadata": {},
   "outputs": [],
   "source": []
  },
  {
   "cell_type": "code",
   "execution_count": null,
   "id": "9a674985-4199-4a45-be0f-e465f111727c",
   "metadata": {},
   "outputs": [],
   "source": []
  },
  {
   "cell_type": "code",
   "execution_count": null,
   "id": "11923d71-193d-4217-8d1d-d1289eb7148a",
   "metadata": {},
   "outputs": [],
   "source": []
  },
  {
   "cell_type": "code",
   "execution_count": null,
   "id": "69f8d0e3-1bc7-49ee-9a73-bccb88569986",
   "metadata": {},
   "outputs": [],
   "source": []
  },
  {
   "cell_type": "code",
   "execution_count": null,
   "id": "589db4b1-3ec0-4d49-b180-176093accde3",
   "metadata": {},
   "outputs": [],
   "source": []
  },
  {
   "cell_type": "code",
   "execution_count": null,
   "id": "dc3be0a7-168c-4851-948b-f1dc9bcdbe63",
   "metadata": {},
   "outputs": [],
   "source": []
  }
 ],
 "metadata": {
  "kernelspec": {
   "display_name": "Python (dev)",
   "language": "python",
   "name": "dev"
  },
  "language_info": {
   "codemirror_mode": {
    "name": "ipython",
    "version": 3
   },
   "file_extension": ".py",
   "mimetype": "text/x-python",
   "name": "python",
   "nbconvert_exporter": "python",
   "pygments_lexer": "ipython3",
   "version": "3.7.7"
  }
 },
 "nbformat": 4,
 "nbformat_minor": 5
}
